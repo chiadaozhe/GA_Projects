{
 "cells": [
  {
   "cell_type": "markdown",
   "metadata": {},
   "source": [
    "Challenge 1: Largest Palindrome\n",
    "A palindromic number reads the same both ways. For example, 1234321 is a palindrome. The largest palindrome made from the product of two two-digit numbers is 9009 = 91 × 99. Find the largest palindrome made from the product of two three-digit numbers. Afterward, write a brief explanation walking through your code's logic in markdown."
   ]
  },
  {
   "cell_type": "code",
   "execution_count": 12,
   "metadata": {},
   "outputs": [
    {
     "name": "stdout",
     "output_type": "stream",
     "text": [
      "The largest Palindrome number is 906609.\n",
      "913\n",
      "993\n"
     ]
    }
   ],
   "source": [
    "palist = []\n",
    "i = 999\n",
    "for u in range (100,1000):\n",
    "    for y in range (100,1000):\n",
    "        if str(u*y) == str(u*y)[::-1]:\n",
    "            i=u*y\n",
    "            palist.append(i)\n",
    "print('The largest Palindrome number is ' + str(max(palist)) + \".\")\n",
    "            \n",
    "for k in range (100,1000):\n",
    "    for j in range (100,1000):\n",
    "        if k*j == max(palist):\n",
    "            print(k)"
   ]
  },
  {
   "cell_type": "code",
   "execution_count": 13,
   "metadata": {},
   "outputs": [
    {
     "name": "stdout",
     "output_type": "stream",
     "text": [
      "The largest Palindrome number is 906609.\n"
     ]
    }
   ],
   "source": [
    "palist = []\n",
    "i = 999\n",
    "for u in range (100,1000):\n",
    "    for y in range (100,1000):\n",
    "        if str(u*y) == str(u*y)[::-1]:\n",
    "            i=u*y\n",
    "            palist.append(i)\n",
    "print('The largest Palindrome number is ' + str(max(palist)) + \".\")"
   ]
  },
  {
   "cell_type": "code",
   "execution_count": 16,
   "metadata": {},
   "outputs": [
    {
     "name": "stdout",
     "output_type": "stream",
     "text": [
      "The largest Palindrome number is 906609.\n",
      "[10201, 11211, 12221, 13231, 14241, 15251, 16261, 17271, 18281, 19291, 20402, 21412, 22422, 23432, 24442, 25452, 26462, 27472, 28482, 29492, 30603, 31613, 32623, 33633, 34643, 35653, 36663, 37673, 38683, 39693, 40804, 41814, 42824, 43834, 44844, 45854, 46864, 47874, 48884, 49894, 62526, 63036, 83538, 84048, 89198, 93839, 99299, 106601, 119911, 121121, 131131, 141141, 143341, 165561, 168861, 174471, 180081, 189981, 204402, 210012, 219912, 222222, 227722, 238832, 255552, 270072, 272272, 282282, 292292, 299992, 302203, 329923, 348843, 378873, 408804, 414414, 428824, 436634, 443344, 444444, 469964, 485584, 487784, 489984, 514415, 525525, 531135, 543345, 580085, 592295, 601106, 616616, 623326, 631136, 650056, 653356, 666666, 698896, 723327, 729927, 770077, 804408, 807708, 828828, 853358, 855558, 906609]\n"
     ]
    }
   ],
   "source": [
    "palist = []\n",
    "i = 1\n",
    "for u in range (100,1000):\n",
    "    for y in range (100,1000):\n",
    "        if str(u*y) == str(u*y)[::-1]:\n",
    "            if u*y > i:\n",
    "                i=u*y\n",
    "                palist.append(i)\n",
    "print('The largest Palindrome number is ' + str(i) + \".\")\n",
    "print(palist)"
   ]
  },
  {
   "cell_type": "code",
   "execution_count": 21,
   "metadata": {},
   "outputs": [
    {
     "name": "stdout",
     "output_type": "stream",
     "text": [
      "The largest Palindrome number is 906609.\n",
      "993\n"
     ]
    }
   ],
   "source": [
    "palin_product = []\n",
    "palin_factors = []\n",
    "i = 1\n",
    "for u in range (100,1000):\n",
    "    for y in range (100,1000):\n",
    "        if str(u*y) == str(u*y)[::-1]:\n",
    "            if u*y > i:\n",
    "                i=u*y\n",
    "                palin_product.append(i)\n",
    "                palin_factors.append(u)\n",
    "                palin_factors.append(y)\n",
    "print('The largest Palindrome number is ' + str(i) + \".\")\n",
    "print(palin_factors[-1])"
   ]
  },
  {
   "cell_type": "code",
   "execution_count": null,
   "metadata": {},
   "outputs": [],
   "source": []
  }
 ],
 "metadata": {
  "kernelspec": {
   "display_name": "Python 3",
   "language": "python",
   "name": "python3"
  },
  "language_info": {
   "codemirror_mode": {
    "name": "ipython",
    "version": 3
   },
   "file_extension": ".py",
   "mimetype": "text/x-python",
   "name": "python",
   "nbconvert_exporter": "python",
   "pygments_lexer": "ipython3",
   "version": "3.6.4"
  }
 },
 "nbformat": 4,
 "nbformat_minor": 2
}
