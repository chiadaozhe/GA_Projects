{
 "cells": [
  {
   "cell_type": "code",
   "execution_count": 1,
   "metadata": {},
   "outputs": [],
   "source": [
    "def str_exp(n):\n",
    "    exp = n[0]\n",
    "    for i in range(1,len(n)):\n",
    "        try:\n",
    "            if int(n[i]) > 0:\n",
    "                exp = exp + (n[i-1]*(int(n[i])-1))\n",
    "        except:\n",
    "            exp = exp + n[i]\n",
    "    \n",
    "    print(exp)"
   ]
  },
  {
   "cell_type": "code",
   "execution_count": 3,
   "metadata": {},
   "outputs": [
    {
     "name": "stdout",
     "output_type": "stream",
     "text": [
      "aabbbcccc\n"
     ]
    }
   ],
   "source": [
    "str_exp(\"a2b3c4\")"
   ]
  },
  {
   "cell_type": "code",
   "execution_count": 4,
   "metadata": {},
   "outputs": [
    {
     "name": "stdout",
     "output_type": "stream",
     "text": [
      "abcdddddgffffff\n"
     ]
    }
   ],
   "source": [
    "str_exp(\"abcd5gf6\")"
   ]
  },
  {
   "cell_type": "code",
   "execution_count": 1,
   "metadata": {},
   "outputs": [
    {
     "name": "stdout",
     "output_type": "stream",
     "text": [
      "True\n",
      "False\n"
     ]
    }
   ],
   "source": [
    "alpha = \"abc\"\n",
    "alphanum = \"abc123\"\n",
    "print(alpha.isalpha())\n",
    "print(alphanum.isalpha())"
   ]
  },
  {
   "cell_type": "code",
   "execution_count": 3,
   "metadata": {},
   "outputs": [
    {
     "data": {
      "text/plain": [
       "True"
      ]
     },
     "execution_count": 3,
     "metadata": {},
     "output_type": "execute_result"
    }
   ],
   "source": [
    "alphanum[1].isalpha()"
   ]
  },
  {
   "cell_type": "code",
   "execution_count": 5,
   "metadata": {},
   "outputs": [
    {
     "name": "stdout",
     "output_type": "stream",
     "text": [
      "True\n",
      "True\n",
      "True\n",
      "False\n",
      "False\n",
      "False\n"
     ]
    }
   ],
   "source": [
    "print(alphanum[0].isalpha())\n",
    "print(alphanum[1].isalpha())\n",
    "print(alphanum[2].isalpha())\n",
    "print(alphanum[3].isalpha())\n",
    "print(alphanum[4].isalpha())\n",
    "print(alphanum[5].isalpha())"
   ]
  },
  {
   "cell_type": "code",
   "execution_count": 23,
   "metadata": {},
   "outputs": [],
   "source": [
    "def str_exp(n):\n",
    "    \n",
    "    com = n[0]\n",
    "    count = 0\n",
    "    factor = \"0\"\n",
    "    \n",
    "    for i in range(1,len(n)):\n",
    "        if n[i].isdigit == True:\n",
    "            factor += n[i]\n",
    "            count += 1\n",
    "        else:\n",
    "            if count > 0:\n",
    "                com = com + com[-1]*(int(factor)-1)\n",
    "            else:\n",
    "                com += n[i]\n",
    "    \n",
    "    print(com)\n",
    "    print(factor)"
   ]
  },
  {
   "cell_type": "code",
   "execution_count": 24,
   "metadata": {},
   "outputs": [
    {
     "name": "stdout",
     "output_type": "stream",
     "text": [
      "abc\n",
      "0\n"
     ]
    }
   ],
   "source": [
    "str_exp(\"abc\")"
   ]
  },
  {
   "cell_type": "code",
   "execution_count": 25,
   "metadata": {},
   "outputs": [
    {
     "name": "stdout",
     "output_type": "stream",
     "text": [
      "a2bc\n",
      "0\n"
     ]
    }
   ],
   "source": [
    "str_exp(\"a2bc\")"
   ]
  },
  {
   "cell_type": "code",
   "execution_count": 29,
   "metadata": {},
   "outputs": [
    {
     "name": "stdout",
     "output_type": "stream",
     "text": [
      "False\n",
      "False\n",
      "False\n",
      "False\n",
      "False\n",
      "False\n",
      "False\n",
      "False\n"
     ]
    }
   ],
   "source": [
    "me = \"a2bc\"\n",
    "for i in range(len(me)):\n",
    "    print(me[i].isdigit == True)\n",
    "for i in range(len(me)):\n",
    "    print(me[i].isalpha == True)"
   ]
  },
  {
   "cell_type": "code",
   "execution_count": 34,
   "metadata": {},
   "outputs": [
    {
     "name": "stdout",
     "output_type": "stream",
     "text": [
      "False\n",
      "False\n",
      "False\n",
      "True\n",
      "True\n",
      "True\n"
     ]
    }
   ],
   "source": [
    "test1 = \"abc\"\n",
    "test2 = \"123\"\n",
    "test3 = \"abc123\"\n",
    "\n",
    "for i in range(len(test3)):\n",
    "    print(test3[i].isdigit())"
   ]
  },
  {
   "cell_type": "code",
   "execution_count": 82,
   "metadata": {},
   "outputs": [],
   "source": [
    "def str_exp(n):\n",
    "    \n",
    "    com = n[0]\n",
    "    factor = \"\"\n",
    "    \n",
    "    for i in range(1,len(n)):\n",
    "        \n",
    "        if n[i].isdigit() == True:\n",
    "            factor += n[i]\n",
    "        \n",
    "        else:\n",
    "            if factor == \"\":\n",
    "                com += n[i]\n",
    "            else:\n",
    "                com = com + com[-1]*(int(factor)-1)\n",
    "                factor = \"\"\n",
    "                com += n[i]\n",
    "        \n",
    "    if n[-1].isdigit() == True:\n",
    "        com = com + com[-1]*(int(factor)-1)\n",
    "        \n",
    "    print(com)"
   ]
  },
  {
   "cell_type": "code",
   "execution_count": 85,
   "metadata": {},
   "outputs": [
    {
     "name": "stdout",
     "output_type": "stream",
     "text": [
      "aaaaaaaaaaabccccdefg\n"
     ]
    }
   ],
   "source": [
    "str_exp(\"a11bc4defg\")"
   ]
  },
  {
   "cell_type": "code",
   "execution_count": 84,
   "metadata": {},
   "outputs": [
    {
     "name": "stdout",
     "output_type": "stream",
     "text": [
      "aaaaaaaaaaaaaaaaaaaaaabcd\n"
     ]
    }
   ],
   "source": [
    "str_exp(\"a22bcd\")"
   ]
  },
  {
   "cell_type": "code",
   "execution_count": 86,
   "metadata": {},
   "outputs": [
    {
     "name": "stdout",
     "output_type": "stream",
     "text": [
      "aaaaaaaaaaaabcdgfffffgggggttttttddddddddddddddddddddd\n"
     ]
    }
   ],
   "source": [
    "str_exp(\"a12bcdgf5g5t6d21\")"
   ]
  },
  {
   "cell_type": "code",
   "execution_count": 87,
   "metadata": {},
   "outputs": [
    {
     "name": "stdout",
     "output_type": "stream",
     "text": [
      "aaaaaaaaaaaaaaaaaaaaaaaaaaaaaaaaaaaaaaaaaaaaaaaaaaaaaaaaaaaaaaaaaaaaaaaaaaaaaaaaaaaaaaaaaaaaaaaaaaaaabbcdefg\n"
     ]
    }
   ],
   "source": [
    "str_exp(\"a101b2cdefg\")"
   ]
  },
  {
   "cell_type": "code",
   "execution_count": 88,
   "metadata": {},
   "outputs": [
    {
     "name": "stdout",
     "output_type": "stream",
     "text": [
      "abbccddd\n"
     ]
    }
   ],
   "source": [
    "str_exp(\"a1b2c2d3\")"
   ]
  },
  {
   "cell_type": "code",
   "execution_count": null,
   "metadata": {},
   "outputs": [],
   "source": []
  }
 ],
 "metadata": {
  "kernelspec": {
   "display_name": "Python 3",
   "language": "python",
   "name": "python3"
  },
  "language_info": {
   "codemirror_mode": {
    "name": "ipython",
    "version": 3
   },
   "file_extension": ".py",
   "mimetype": "text/x-python",
   "name": "python",
   "nbconvert_exporter": "python",
   "pygments_lexer": "ipython3",
   "version": "3.6.4"
  }
 },
 "nbformat": 4,
 "nbformat_minor": 2
}
