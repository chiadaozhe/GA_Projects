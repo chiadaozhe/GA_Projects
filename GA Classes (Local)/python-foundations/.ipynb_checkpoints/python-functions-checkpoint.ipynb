{
 "cells": [
  {
   "cell_type": "markdown",
   "metadata": {},
   "source": [
    "<img src=\"http://imgur.com/1ZcRyrc.png\" style=\"float: left; margin: 20px; height: 55px\">\n",
    "\n",
    "## Practice Python Functions\n",
    "\n",
    "_Author: Ryan Dunlap (San Francisco)\n",
    "\n",
    "---"
   ]
  },
  {
   "cell_type": "markdown",
   "metadata": {},
   "source": [
    "### Resources: Potentially Helpful Functions\n",
    "\n",
    "* [Dictionary Comprehension](https://docs.python.org/2/tutorial/datastructures.html#dictionaries)\n",
    "* [Enumerate](https://docs.python.org/2/library/functions.html#enumerate)\n",
    "* [Length](https://docs.python.org/2/library/functions.html#len)\n",
    "* [Int](https://docs.python.org/2/library/functions.html#int)\n",
    "* [List](https://docs.python.org/2/library/functions.html#list)"
   ]
  },
  {
   "cell_type": "markdown",
   "metadata": {},
   "source": [
    "Nowadays, most of the `string` module's components are already built into Python. However, it still has several [constant values](https://docs.python.org/2/library/string.html#string-constants) that can be useful, including:\n",
    "```python\n",
    "string.ascii_uppercase\n",
    "```"
   ]
  },
  {
   "cell_type": "code",
   "execution_count": 1,
   "metadata": {},
   "outputs": [
    {
     "data": {
      "text/plain": [
       "'ABCDEFGHIJKLMNOPQRSTUVWXYZ'"
      ]
     },
     "execution_count": 1,
     "metadata": {},
     "output_type": "execute_result"
    }
   ],
   "source": [
    "import string\n",
    "\n",
    "string.ascii_uppercase"
   ]
  },
  {
   "cell_type": "markdown",
   "metadata": {},
   "source": [
    "---\n",
    "\n",
    "### 1) Write a function that takes the length of a side of a square as an argument and returns the area of the square."
   ]
  },
  {
   "cell_type": "code",
   "execution_count": 2,
   "metadata": {},
   "outputs": [],
   "source": [
    "# A:\n",
    "def area_sq(n):\n",
    "    area = n**2\n",
    "    return area"
   ]
  },
  {
   "cell_type": "code",
   "execution_count": 3,
   "metadata": {},
   "outputs": [
    {
     "data": {
      "text/plain": [
       "25"
      ]
     },
     "execution_count": 3,
     "metadata": {},
     "output_type": "execute_result"
    }
   ],
   "source": [
    "area_sq(5)"
   ]
  },
  {
   "cell_type": "markdown",
   "metadata": {},
   "source": [
    "---\n",
    "\n",
    "### 2) Write a function that takes the height and width of a triangle and returns the area."
   ]
  },
  {
   "cell_type": "code",
   "execution_count": 6,
   "metadata": {},
   "outputs": [],
   "source": [
    "# A:\n",
    "def area_tri(h,w):\n",
    "    area = (0.5 * h * w)\n",
    "    return area"
   ]
  },
  {
   "cell_type": "code",
   "execution_count": 8,
   "metadata": {},
   "outputs": [
    {
     "data": {
      "text/plain": [
       "4.0"
      ]
     },
     "execution_count": 8,
     "metadata": {},
     "output_type": "execute_result"
    }
   ],
   "source": [
    "area_tri(2,4)"
   ]
  },
  {
   "cell_type": "markdown",
   "metadata": {},
   "source": [
    "---\n",
    "\n",
    "### 3) Write a function that takes a string as an argument and returns a tuple consisting of two elements:\n",
    "- **A list of all of the characters in the string.** \n",
    "- **A count of the number of characters in the string.**"
   ]
  },
  {
   "cell_type": "code",
   "execution_count": 22,
   "metadata": {},
   "outputs": [],
   "source": [
    "# A:\n",
    "def string_list(n):\n",
    "    strlist = []\n",
    "    for i in n:\n",
    "        strlist.append(i)\n",
    "    \n",
    "    strcount = len(n)\n",
    "    \n",
    "    strtuple = (strlist, strcount)\n",
    "    return strtuple"
   ]
  },
  {
   "cell_type": "code",
   "execution_count": 23,
   "metadata": {
    "scrolled": false
   },
   "outputs": [
    {
     "data": {
      "text/plain": [
       "(['h', 'e', 'l', 'l', 'o'], 5)"
      ]
     },
     "execution_count": 23,
     "metadata": {},
     "output_type": "execute_result"
    }
   ],
   "source": [
    "string_list(\"hello\")"
   ]
  },
  {
   "cell_type": "code",
   "execution_count": 48,
   "metadata": {},
   "outputs": [
    {
     "data": {
      "text/plain": [
       "['a', 'b', 'c']"
      ]
     },
     "execution_count": 48,
     "metadata": {},
     "output_type": "execute_result"
    }
   ],
   "source": [
    "list(\"abc\")"
   ]
  },
  {
   "cell_type": "markdown",
   "metadata": {},
   "source": [
    "---\n",
    "\n",
    "### 4) Write a function that takes two integers, passed as strings, and returns the sum, difference, and product as a tuple (with all values as integers)."
   ]
  },
  {
   "cell_type": "code",
   "execution_count": 24,
   "metadata": {},
   "outputs": [],
   "source": [
    "# A:\n",
    "def cal(n,p):\n",
    "    caltuple = (int(n)+int(p), abs(int(n)-int(p)), int(n)*int(p))\n",
    "    \n",
    "    return caltuple"
   ]
  },
  {
   "cell_type": "code",
   "execution_count": 28,
   "metadata": {},
   "outputs": [
    {
     "data": {
      "text/plain": [
       "(33, 9, 252)"
      ]
     },
     "execution_count": 28,
     "metadata": {},
     "output_type": "execute_result"
    }
   ],
   "source": [
    "cal(\"12\",\"21\")"
   ]
  },
  {
   "cell_type": "markdown",
   "metadata": {},
   "source": [
    "---\n",
    "\n",
    "### 5) Write a function that takes a list as the argument and returns a tuple consisting of two elements:\n",
    "- **A list with the items in reverse order.**  \n",
    "- **A list of the items in the original list that have an odd index.**"
   ]
  },
  {
   "cell_type": "code",
   "execution_count": 82,
   "metadata": {},
   "outputs": [],
   "source": [
    "# A:\n",
    "def listing(n):\n",
    "    listlist = []\n",
    "    oddlist = []\n",
    "    for i in range(1,len(n)+1):\n",
    "        listlist.append(n[-i])\n",
    "    \n",
    "    for k in range(1,len(n),2):\n",
    "        oddlist.append(n[k])\n",
    "    \n",
    "    listtuple = (listlist, oddlist)\n",
    "    return listtuple"
   ]
  },
  {
   "cell_type": "code",
   "execution_count": 83,
   "metadata": {
    "scrolled": true
   },
   "outputs": [
    {
     "data": {
      "text/plain": [
       "(['hello', 'abc', 2, 1], [2, 'hello'])"
      ]
     },
     "execution_count": 83,
     "metadata": {},
     "output_type": "execute_result"
    }
   ],
   "source": [
    "listing((1,2,\"abc\",\"hello\"))"
   ]
  },
  {
   "cell_type": "code",
   "execution_count": 84,
   "metadata": {},
   "outputs": [
    {
     "data": {
      "text/plain": [
       "([5, 4, 3, 2, 1], [2, 4])"
      ]
     },
     "execution_count": 84,
     "metadata": {},
     "output_type": "execute_result"
    }
   ],
   "source": [
    "listing((1,2,3,4,5))"
   ]
  },
  {
   "cell_type": "markdown",
   "metadata": {},
   "source": [
    "---\n",
    "\n",
    "### Challenge: Write a function that returns the score for a word. A word's score is the sum of the scores of its letters. Each letter's score is equal to its position in the alphabet.\n",
    "\n",
    "So, for example:\n",
    "\n",
    "* A = 1, B = 2, C = 3, D = 4, E = 5\n",
    "* abe = 8 = (1 + 2 + 5)\n",
    "\n",
    "\n",
    "_Hint: The string library has a property_ `ascii_lowercase` _that can save some typing here._\n"
   ]
  },
  {
   "cell_type": "code",
   "execution_count": 95,
   "metadata": {},
   "outputs": [],
   "source": [
    "# A:\n",
    "def scorer(n):\n",
    "    lower = n.lower()\n",
    "    score = 0\n",
    "    letter = \" abcdefghijklmnopqrstuvwxyz\"\n",
    "    for i in lower:\n",
    "        for index, value in enumerate(letter):\n",
    "            if i == value:\n",
    "                score += index\n",
    "    \n",
    "    return score"
   ]
  },
  {
   "cell_type": "code",
   "execution_count": 96,
   "metadata": {},
   "outputs": [
    {
     "data": {
      "text/plain": [
       "52"
      ]
     },
     "execution_count": 96,
     "metadata": {},
     "output_type": "execute_result"
    }
   ],
   "source": [
    "scorer(\"hello\")"
   ]
  },
  {
   "cell_type": "code",
   "execution_count": 97,
   "metadata": {},
   "outputs": [
    {
     "data": {
      "text/plain": [
       "52"
      ]
     },
     "execution_count": 97,
     "metadata": {},
     "output_type": "execute_result"
    }
   ],
   "source": [
    "scorer(\"HEllo\")"
   ]
  },
  {
   "cell_type": "code",
   "execution_count": 98,
   "metadata": {},
   "outputs": [
    {
     "data": {
      "text/plain": [
       "8"
      ]
     },
     "execution_count": 98,
     "metadata": {},
     "output_type": "execute_result"
    }
   ],
   "source": [
    "scorer(\"abe\")"
   ]
  },
  {
   "cell_type": "code",
   "execution_count": 100,
   "metadata": {},
   "outputs": [
    {
     "data": {
      "text/plain": [
       "4"
      ]
     },
     "execution_count": 100,
     "metadata": {},
     "output_type": "execute_result"
    }
   ],
   "source": [
    "scorer(\"a c\")"
   ]
  },
  {
   "cell_type": "code",
   "execution_count": null,
   "metadata": {},
   "outputs": [],
   "source": []
  }
 ],
 "metadata": {
  "anaconda-cloud": {},
  "kernelspec": {
   "display_name": "Python 3",
   "language": "python",
   "name": "python3"
  },
  "language_info": {
   "codemirror_mode": {
    "name": "ipython",
    "version": 3
   },
   "file_extension": ".py",
   "mimetype": "text/x-python",
   "name": "python",
   "nbconvert_exporter": "python",
   "pygments_lexer": "ipython3",
   "version": "3.6.4"
  }
 },
 "nbformat": 4,
 "nbformat_minor": 1
}
