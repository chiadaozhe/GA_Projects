{
 "cells": [
  {
   "cell_type": "code",
   "execution_count": 2,
   "metadata": {
    "scrolled": true
   },
   "outputs": [
    {
     "data": {
      "text/html": [
       "<div>\n",
       "<style scoped>\n",
       "    .dataframe tbody tr th:only-of-type {\n",
       "        vertical-align: middle;\n",
       "    }\n",
       "\n",
       "    .dataframe tbody tr th {\n",
       "        vertical-align: top;\n",
       "    }\n",
       "\n",
       "    .dataframe thead th {\n",
       "        text-align: right;\n",
       "    }\n",
       "</style>\n",
       "<table border=\"1\" class=\"dataframe\">\n",
       "  <thead>\n",
       "    <tr style=\"text-align: right;\">\n",
       "      <th></th>\n",
       "      <th>Date</th>\n",
       "      <th>Day</th>\n",
       "      <th>Time</th>\n",
       "      <th>Region</th>\n",
       "      <th>Card Type</th>\n",
       "      <th>Gender</th>\n",
       "      <th>Buy Category</th>\n",
       "      <th>Items Ordered</th>\n",
       "      <th>Total Cost</th>\n",
       "      <th>High Item</th>\n",
       "    </tr>\n",
       "  </thead>\n",
       "  <tbody>\n",
       "    <tr>\n",
       "      <th>0</th>\n",
       "      <td>2016-03-06</td>\n",
       "      <td>Sun</td>\n",
       "      <td>Morning</td>\n",
       "      <td>West</td>\n",
       "      <td>ElecMart</td>\n",
       "      <td>Female</td>\n",
       "      <td>High</td>\n",
       "      <td>4</td>\n",
       "      <td>136.97</td>\n",
       "      <td>79.97</td>\n",
       "    </tr>\n",
       "    <tr>\n",
       "      <th>1</th>\n",
       "      <td>2016-03-06</td>\n",
       "      <td>Sun</td>\n",
       "      <td>Morning</td>\n",
       "      <td>West</td>\n",
       "      <td>Other</td>\n",
       "      <td>Female</td>\n",
       "      <td>Medium</td>\n",
       "      <td>1</td>\n",
       "      <td>25.55</td>\n",
       "      <td>25.55</td>\n",
       "    </tr>\n",
       "    <tr>\n",
       "      <th>2</th>\n",
       "      <td>2016-03-06</td>\n",
       "      <td>Sun</td>\n",
       "      <td>Afternoon</td>\n",
       "      <td>West</td>\n",
       "      <td>ElecMart</td>\n",
       "      <td>Female</td>\n",
       "      <td>Medium</td>\n",
       "      <td>5</td>\n",
       "      <td>113.95</td>\n",
       "      <td>90.47</td>\n",
       "    </tr>\n",
       "    <tr>\n",
       "      <th>3</th>\n",
       "      <td>2016-03-06</td>\n",
       "      <td>Sun</td>\n",
       "      <td>Afternoon</td>\n",
       "      <td>NorthEast</td>\n",
       "      <td>Other</td>\n",
       "      <td>Female</td>\n",
       "      <td>Low</td>\n",
       "      <td>1</td>\n",
       "      <td>6.82</td>\n",
       "      <td>6.82</td>\n",
       "    </tr>\n",
       "    <tr>\n",
       "      <th>4</th>\n",
       "      <td>2016-03-06</td>\n",
       "      <td>Sun</td>\n",
       "      <td>Afternoon</td>\n",
       "      <td>West</td>\n",
       "      <td>ElecMart</td>\n",
       "      <td>Male</td>\n",
       "      <td>Medium</td>\n",
       "      <td>4</td>\n",
       "      <td>147.32</td>\n",
       "      <td>83.21</td>\n",
       "    </tr>\n",
       "  </tbody>\n",
       "</table>\n",
       "</div>"
      ],
      "text/plain": [
       "        Date  Day       Time     Region Card Type  Gender Buy Category  \\\n",
       "0 2016-03-06  Sun    Morning       West  ElecMart  Female         High   \n",
       "1 2016-03-06  Sun    Morning       West     Other  Female       Medium   \n",
       "2 2016-03-06  Sun  Afternoon       West  ElecMart  Female       Medium   \n",
       "3 2016-03-06  Sun  Afternoon  NorthEast     Other  Female          Low   \n",
       "4 2016-03-06  Sun  Afternoon       West  ElecMart    Male       Medium   \n",
       "\n",
       "   Items Ordered  Total Cost  High Item  \n",
       "0              4      136.97      79.97  \n",
       "1              1       25.55      25.55  \n",
       "2              5      113.95      90.47  \n",
       "3              1        6.82       6.82  \n",
       "4              4      147.32      83.21  "
      ]
     },
     "execution_count": 2,
     "metadata": {},
     "output_type": "execute_result"
    }
   ],
   "source": [
    "import pandas as pd\n",
    "df = pd.read_excel(\"/Users/FeliciaWilliams/Documents/GitHub/GA_Projects/GA Classes (Local)/pandas_practice/ElecmartSales.xlsx\")\n",
    "df.head()"
   ]
  },
  {
   "cell_type": "code",
   "execution_count": 11,
   "metadata": {},
   "outputs": [
    {
     "data": {
      "text/plain": [
       "(400, 10)"
      ]
     },
     "execution_count": 11,
     "metadata": {},
     "output_type": "execute_result"
    }
   ],
   "source": [
    "df.shape"
   ]
  },
  {
   "cell_type": "code",
   "execution_count": 3,
   "metadata": {},
   "outputs": [
    {
     "name": "stdout",
     "output_type": "stream",
     "text": [
      "        Date  Day     Time Region Card Type  Gender Buy Category  \\\n",
      "1 2016-03-06  Sun  Morning   West     Other  Female       Medium   \n",
      "\n",
      "   Items Ordered  Total Cost  High Item  \n",
      "1              1       25.55      25.55  \n"
     ]
    }
   ],
   "source": [
    "print(df[1:2])"
   ]
  },
  {
   "cell_type": "code",
   "execution_count": 4,
   "metadata": {},
   "outputs": [],
   "source": [
    "df.columns = ['date', 'day', 'time', 'region', 'cardtype', 'gender', 'buycategory', 'itemsordered', 'totalcost', 'highitem']\n"
   ]
  },
  {
   "cell_type": "code",
   "execution_count": 5,
   "metadata": {},
   "outputs": [
    {
     "data": {
      "text/html": [
       "<div>\n",
       "<style scoped>\n",
       "    .dataframe tbody tr th:only-of-type {\n",
       "        vertical-align: middle;\n",
       "    }\n",
       "\n",
       "    .dataframe tbody tr th {\n",
       "        vertical-align: top;\n",
       "    }\n",
       "\n",
       "    .dataframe thead th {\n",
       "        text-align: right;\n",
       "    }\n",
       "</style>\n",
       "<table border=\"1\" class=\"dataframe\">\n",
       "  <thead>\n",
       "    <tr style=\"text-align: right;\">\n",
       "      <th></th>\n",
       "      <th>date</th>\n",
       "      <th>day</th>\n",
       "      <th>time</th>\n",
       "      <th>region</th>\n",
       "      <th>cardtype</th>\n",
       "      <th>gender</th>\n",
       "      <th>buycategory</th>\n",
       "      <th>itemsordered</th>\n",
       "      <th>totalcost</th>\n",
       "      <th>highitem</th>\n",
       "    </tr>\n",
       "  </thead>\n",
       "  <tbody>\n",
       "    <tr>\n",
       "      <th>0</th>\n",
       "      <td>2016-03-06</td>\n",
       "      <td>Sun</td>\n",
       "      <td>Morning</td>\n",
       "      <td>West</td>\n",
       "      <td>ElecMart</td>\n",
       "      <td>Female</td>\n",
       "      <td>High</td>\n",
       "      <td>4</td>\n",
       "      <td>136.97</td>\n",
       "      <td>79.97</td>\n",
       "    </tr>\n",
       "    <tr>\n",
       "      <th>1</th>\n",
       "      <td>2016-03-06</td>\n",
       "      <td>Sun</td>\n",
       "      <td>Morning</td>\n",
       "      <td>West</td>\n",
       "      <td>Other</td>\n",
       "      <td>Female</td>\n",
       "      <td>Medium</td>\n",
       "      <td>1</td>\n",
       "      <td>25.55</td>\n",
       "      <td>25.55</td>\n",
       "    </tr>\n",
       "    <tr>\n",
       "      <th>2</th>\n",
       "      <td>2016-03-06</td>\n",
       "      <td>Sun</td>\n",
       "      <td>Afternoon</td>\n",
       "      <td>West</td>\n",
       "      <td>ElecMart</td>\n",
       "      <td>Female</td>\n",
       "      <td>Medium</td>\n",
       "      <td>5</td>\n",
       "      <td>113.95</td>\n",
       "      <td>90.47</td>\n",
       "    </tr>\n",
       "    <tr>\n",
       "      <th>3</th>\n",
       "      <td>2016-03-06</td>\n",
       "      <td>Sun</td>\n",
       "      <td>Afternoon</td>\n",
       "      <td>NorthEast</td>\n",
       "      <td>Other</td>\n",
       "      <td>Female</td>\n",
       "      <td>Low</td>\n",
       "      <td>1</td>\n",
       "      <td>6.82</td>\n",
       "      <td>6.82</td>\n",
       "    </tr>\n",
       "    <tr>\n",
       "      <th>4</th>\n",
       "      <td>2016-03-06</td>\n",
       "      <td>Sun</td>\n",
       "      <td>Afternoon</td>\n",
       "      <td>West</td>\n",
       "      <td>ElecMart</td>\n",
       "      <td>Male</td>\n",
       "      <td>Medium</td>\n",
       "      <td>4</td>\n",
       "      <td>147.32</td>\n",
       "      <td>83.21</td>\n",
       "    </tr>\n",
       "  </tbody>\n",
       "</table>\n",
       "</div>"
      ],
      "text/plain": [
       "        date  day       time     region  cardtype  gender buycategory  \\\n",
       "0 2016-03-06  Sun    Morning       West  ElecMart  Female        High   \n",
       "1 2016-03-06  Sun    Morning       West     Other  Female      Medium   \n",
       "2 2016-03-06  Sun  Afternoon       West  ElecMart  Female      Medium   \n",
       "3 2016-03-06  Sun  Afternoon  NorthEast     Other  Female         Low   \n",
       "4 2016-03-06  Sun  Afternoon       West  ElecMart    Male      Medium   \n",
       "\n",
       "   itemsordered  totalcost  highitem  \n",
       "0             4     136.97     79.97  \n",
       "1             1      25.55     25.55  \n",
       "2             5     113.95     90.47  \n",
       "3             1       6.82      6.82  \n",
       "4             4     147.32     83.21  "
      ]
     },
     "execution_count": 5,
     "metadata": {},
     "output_type": "execute_result"
    }
   ],
   "source": [
    "df.head()"
   ]
  },
  {
   "cell_type": "code",
   "execution_count": 7,
   "metadata": {},
   "outputs": [
    {
     "data": {
      "text/plain": [
       "time\n",
       "Afternoon    24265.60\n",
       "Evening      18834.30\n",
       "Morning      18427.31\n",
       "Name: totalcost, dtype: float64"
      ]
     },
     "execution_count": 7,
     "metadata": {},
     "output_type": "execute_result"
    }
   ],
   "source": [
    "#1. During which Time of the day do customers spend the most (based on Total Cost)?\n",
    "df.groupby('time').totalcost.sum()"
   ]
  },
  {
   "cell_type": "code",
   "execution_count": 8,
   "metadata": {},
   "outputs": [
    {
     "data": {
      "text/plain": [
       "gender\n",
       "Female    36895.26\n",
       "Male      24631.95\n",
       "Name: totalcost, dtype: float64"
      ]
     },
     "execution_count": 8,
     "metadata": {},
     "output_type": "execute_result"
    }
   ],
   "source": [
    "#2. Do male customers spend more than females (based on Total Cost)?\n",
    "df.groupby('gender').totalcost.sum()"
   ]
  },
  {
   "cell_type": "code",
   "execution_count": 9,
   "metadata": {},
   "outputs": [
    {
     "data": {
      "text/plain": [
       "region\n",
       "MidWest       9618.27\n",
       "NorthEast    19185.84\n",
       "South        13429.70\n",
       "West         19293.40\n",
       "Name: totalcost, dtype: float64"
      ]
     },
     "execution_count": 9,
     "metadata": {},
     "output_type": "execute_result"
    }
   ],
   "source": [
    "#3. Which Region brought in the highest revenue (based on Total Cost) for ElecMart?\n",
    "df.groupby('region').totalcost.sum()"
   ]
  },
  {
   "cell_type": "code",
   "execution_count": 24,
   "metadata": {},
   "outputs": [
    {
     "data": {
      "text/plain": [
       "gender\n",
       "Female    61\n",
       "Male      33\n",
       "Name: cardtype, dtype: int64"
      ]
     },
     "execution_count": 24,
     "metadata": {},
     "output_type": "execute_result"
    }
   ],
   "source": [
    "#4. Is the ElecMart card more popular among female or male customers?\n",
    "df_elecmart = df.loc[df[df['cardtype'] == 'ElecMart'].index]\n",
    "df_elecmart.groupby('gender').cardtype.count()"
   ]
  },
  {
   "cell_type": "code",
   "execution_count": 31,
   "metadata": {},
   "outputs": [
    {
     "data": {
      "text/plain": [
       "gender  cardtype\n",
       "Female  ElecMart     61\n",
       "        Other       173\n",
       "Male    ElecMart     33\n",
       "        Other       133\n",
       "Name: cardtype, dtype: int64"
      ]
     },
     "execution_count": 31,
     "metadata": {},
     "output_type": "execute_result"
    }
   ],
   "source": [
    "df.groupby(['gender','cardtype']).cardtype.count()"
   ]
  },
  {
   "cell_type": "code",
   "execution_count": 33,
   "metadata": {},
   "outputs": [
    {
     "data": {
      "text/plain": [
       "day\n",
       "Fri    44059.21\n",
       "Mon    44270.78\n",
       "Sat    54023.28\n",
       "Sun    40436.97\n",
       "Thu    33813.95\n",
       "Tue    21877.58\n",
       "Wed    42837.23\n",
       "Name: totalrevenue, dtype: float64"
      ]
     },
     "execution_count": 33,
     "metadata": {},
     "output_type": "execute_result"
    }
   ],
   "source": [
    "#5. Which Day of the week brought in the highest revenue for ElecMart?\n",
    "df['totalrevenue'] = df['itemsordered'] * df['totalcost']\n",
    "df.groupby('day').totalrevenue.sum()"
   ]
  },
  {
   "cell_type": "code",
   "execution_count": 35,
   "metadata": {},
   "outputs": [
    {
     "data": {
      "text/plain": [
       "region\n",
       "MidWest      14110.15\n",
       "NorthEast    45806.38\n",
       "South        18731.29\n",
       "West         38702.45\n",
       "Name: totalrevenue, dtype: float64"
      ]
     },
     "execution_count": 35,
     "metadata": {},
     "output_type": "execute_result"
    }
   ],
   "source": [
    "#6. Among ElecMart card-holders, which Region brought in the highest revenue?\n",
    "df[df['cardtype'] == 'ElecMart'].groupby('region').totalrevenue.sum()"
   ]
  },
  {
   "cell_type": "code",
   "execution_count": 38,
   "metadata": {},
   "outputs": [
    {
     "data": {
      "text/plain": [
       "region\n",
       "MidWest      43\n",
       "NorthEast    62\n",
       "South        63\n",
       "West         66\n",
       "Name: gender, dtype: int64"
      ]
     },
     "execution_count": 38,
     "metadata": {},
     "output_type": "execute_result"
    }
   ],
   "source": [
    "#7. Which Region has the greatest number of female customers?\n",
    "df[df['gender'] == 'Female'].groupby('region').gender.count()"
   ]
  },
  {
   "cell_type": "code",
   "execution_count": 39,
   "metadata": {},
   "outputs": [],
   "source": [
    "#8. Female customers prefer to place orders at ElecMart in the morning. True or False?"
   ]
  },
  {
   "cell_type": "code",
   "execution_count": 40,
   "metadata": {},
   "outputs": [],
   "source": [
    "#9. Male customers prefer to place orders in the evening. True or False?"
   ]
  },
  {
   "cell_type": "code",
   "execution_count": 41,
   "metadata": {},
   "outputs": [],
   "source": [
    "#10. How many of the orders were placed by females in the South region?"
   ]
  },
  {
   "cell_type": "code",
   "execution_count": null,
   "metadata": {},
   "outputs": [],
   "source": []
  }
 ],
 "metadata": {
  "kernelspec": {
   "display_name": "Python 3",
   "language": "python",
   "name": "python3"
  },
  "language_info": {
   "codemirror_mode": {
    "name": "ipython",
    "version": 3
   },
   "file_extension": ".py",
   "mimetype": "text/x-python",
   "name": "python",
   "nbconvert_exporter": "python",
   "pygments_lexer": "ipython3",
   "version": "3.6.4"
  }
 },
 "nbformat": 4,
 "nbformat_minor": 2
}
