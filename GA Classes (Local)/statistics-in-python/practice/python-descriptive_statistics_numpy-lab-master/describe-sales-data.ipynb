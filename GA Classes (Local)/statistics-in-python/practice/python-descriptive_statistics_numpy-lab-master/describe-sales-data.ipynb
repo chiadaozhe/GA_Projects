{
 "cells": [
  {
   "cell_type": "markdown",
   "metadata": {},
   "source": [
    "<img src=\"http://imgur.com/1ZcRyrc.png\" style=\"float: left; margin: 20px; height: 55px\">\n",
    "\n",
    "## Describing Sales Data with `numpy`\n",
    "\n",
    "_Author: Kiefer Katovich (SF), Joseph Nelson (DC)_\n",
    "\n",
    "---\n",
    "\n",
    "Run the cell below to load the required packages and set up plotting in the notebook!"
   ]
  },
  {
   "cell_type": "code",
   "execution_count": 1,
   "metadata": {},
   "outputs": [],
   "source": [
    "import numpy as np\n",
    "import scipy.stats as stats\n",
    "import csv\n",
    "import seaborn as sns\n",
    "\n",
    "%matplotlib inline"
   ]
  },
  {
   "cell_type": "markdown",
   "metadata": {},
   "source": [
    "## Loading CSV files with python\n",
    "\n",
    "---\n",
    "\n",
    "For this lab you will be using a truncated version of some sales data.\n",
    "\n",
    "The csv has about 200 rows of data and four columns. The relative path to `sales_info.csv` is provided below.\n",
    "\n",
    "\n",
    "Let's take a look at the `csv` module we imported. The csv module’s reader and writer objects read and write sequences. The following python code demonstrates a process for loading data from a CSV file and (in this case) appending each row to a list.\n",
    "\n",
    "\n",
    "```python\n",
    "import csv\n",
    "print 'Opening File. Data: '\n",
    "csv_rows = []\n",
    "with open('./datasets/sales_info.csv', 'rU') as f:\n",
    "    reader = csv.reader(f)\n",
    "    for row in reader:\n",
    "        csv_rows.append(row)\n",
    "f.close()\n",
    "print 'file closed'   # Always remember to close the file after writing to it!\n",
    "```\n",
    "\n",
    "The first argument to `csv.reader` is the string path to the file. The second argument specifies the \"mode\" for the open file object:\n",
    "- `'r'` - Read (Default)\n",
    "- `'w'` - Write\n",
    "- `'a'` - Append;  Adds additional modifications to the end.  Unable to edit current contents.\n",
    "- `'b'` - Binary (used when working with a binary file, i.e. 'rb', for reading a binary file)\n",
    "- `'U'` - Opens text in Universal Newline mode.  As '\\r', '\\n', and '\\r\\n' all indicate a newline depending on which language the file was written in, Universal Newline Mode will read '\\r', '\\n', and '\\r\\n' as Python's '\\n'."
   ]
  },
  {
   "cell_type": "code",
   "execution_count": 2,
   "metadata": {},
   "outputs": [],
   "source": [
    "sales_csv_path = './datasets/sales_info.csv'"
   ]
  },
  {
   "cell_type": "markdown",
   "metadata": {},
   "source": [
    "### 1. Loading the data\n",
    "\n",
    "Set up an empty list called ```rows```.\n",
    "\n",
    "Using the pattern for loading csvs we learned earlier, add all of the rows in the csv file to the rows list.\n",
    "\n",
    "For your reference, the pattern is:\n",
    "```python\n",
    "with open(my_csv_path, 'r') as f:\n",
    "    reader = csv.reader(f)\n",
    "    ...\n",
    "```\n",
    "\n",
    "Beyond this, adding the rows in the csv file to the ```rows``` variable is up to you."
   ]
  },
  {
   "cell_type": "code",
   "execution_count": 5,
   "metadata": {},
   "outputs": [
    {
     "name": "stdout",
     "output_type": "stream",
     "text": [
      "file closed\n"
     ]
    }
   ],
   "source": [
    "# A:\n",
    "csv_rows = []\n",
    "with open(sales_csv_path, 'r') as f:\n",
    "    reader = csv.reader(f)\n",
    "    for row in reader:\n",
    "        csv_rows.append(row)\n",
    "f.close()\n",
    "print('file closed')"
   ]
  },
  {
   "cell_type": "markdown",
   "metadata": {},
   "source": [
    "### 2. Separate header and data\n",
    "\n",
    "The header of the csv is contained in the first index of the ```rows``` variable, as it is the first row in the csv file. \n",
    "\n",
    "Use python indexing to create two new variables: ```header``` which contains the 4 column names, and ```data``` which contains the list of lists, each sub-list representing a row from the csv.\n",
    "\n",
    "Lastly, print ```header``` to see the names of the columns."
   ]
  },
  {
   "cell_type": "code",
   "execution_count": 8,
   "metadata": {},
   "outputs": [
    {
     "name": "stdout",
     "output_type": "stream",
     "text": [
      "['volume_sold', '2015_margin', '2015_q1_sales', '2016_q1_sales']\n",
      "['18.4207604861', '93.8022814583', '337166.53', '337804.05']\n"
     ]
    }
   ],
   "source": [
    "# A:\n",
    "header = csv_rows[0]\n",
    "data = csv_rows[1:]\n",
    "print(header)\n",
    "print(data[0])"
   ]
  },
  {
   "cell_type": "markdown",
   "metadata": {},
   "source": [
    "### 3. Create a dictionary with the data\n",
    "\n",
    "Use loops or list comprehensions to create a dictionary called ```sales_data```, where the keys of the dictionary are the column names, and the values of the dictionary are lists of the data points of the column corresponding to that column name."
   ]
  },
  {
   "cell_type": "code",
   "execution_count": 61,
   "metadata": {
    "scrolled": false
   },
   "outputs": [],
   "source": [
    "# A:\n",
    "volume_sold = []\n",
    "margin_2015 = []\n",
    "q1_sales_2015 = []\n",
    "q1_sales_2016 = []\n",
    "\n",
    "for i in data:\n",
    "    volume_sold.append(float(i[0]))\n",
    "    \n",
    "for i in data:\n",
    "    margin_2015.append(float(i[1]))\n",
    "    \n",
    "for i in data:\n",
    "    q1_sales_2015.append(float(i[2]))\n",
    "    \n",
    "for i in data:\n",
    "    q1_sales_2016.append(float(i[3]))\n",
    "    \n",
    "sales_data = {'volume_sold': volume_sold, '2015_margin': margin_2015, '2015_q1_sales': q1_sales_2015, '2016_q1_sales': q1_sales_2016}\n"
   ]
  },
  {
   "cell_type": "markdown",
   "metadata": {},
   "source": [
    "**3.A Print out the first 10 items of the 'volume_sold' column.**"
   ]
  },
  {
   "cell_type": "code",
   "execution_count": 62,
   "metadata": {},
   "outputs": [
    {
     "data": {
      "text/plain": [
       "[18.4207604861,\n",
       " 4.77650991918,\n",
       " 16.6024006077,\n",
       " 4.29611149826,\n",
       " 8.15602328201,\n",
       " 5.00512242518,\n",
       " 14.60675,\n",
       " 4.45646649485,\n",
       " 5.04752965097,\n",
       " 5.38807023767]"
      ]
     },
     "execution_count": 62,
     "metadata": {},
     "output_type": "execute_result"
    }
   ],
   "source": [
    "# A:\n",
    "sales_data['volume_sold'][0:10]"
   ]
  },
  {
   "cell_type": "markdown",
   "metadata": {},
   "source": [
    "### 4. Convert data from string to float\n",
    "\n",
    "As you can see, the data is still in string format (which is how it is read in from the csv). For each key:value pair in our ```sales_data``` dictionary, convert the values (column data) from string values to float values."
   ]
  },
  {
   "cell_type": "code",
   "execution_count": 63,
   "metadata": {},
   "outputs": [],
   "source": [
    "# A:"
   ]
  },
  {
   "cell_type": "markdown",
   "metadata": {},
   "source": [
    "### 5. Write function to print summary statistics\n",
    "\n",
    "Now write a function to print out summary statistics for the data.\n",
    "\n",
    "Your function should:\n",
    "\n",
    "- Accept two arguments: the column name and the data that column is associated with.\n",
    "- Print out information, clearly labeling each item when you print it:\n",
    "    1. Print out the column name\n",
    "    2. Print the mean of the data using ```np.mean()```\n",
    "    3. Print out the median of the data using ```np.median()```\n",
    "    4. Print out the mode of the **rounded data** using ```stats.mode()```\n",
    "    5. Print out the variance of the data using ```np.var()```\n",
    "    6. Print out the standard deviation of the data using ```np.std()```\n",
    "    \n",
    "Remember that you will need to convert the numeric data from these function to strings by wrapping them in the ```str()``` function."
   ]
  },
  {
   "cell_type": "code",
   "execution_count": 64,
   "metadata": {
    "scrolled": true
   },
   "outputs": [],
   "source": [
    "# A:\n",
    "def summary(name, data):\n",
    "    print(name)\n",
    "    print(np.mean(data[name]))\n",
    "    print(np.median(data[name]))\n",
    "    print(stats.mode(data[name])[0])\n",
    "    print(np.var(data[name]))\n",
    "    print(np.std(data[name]))\n"
   ]
  },
  {
   "cell_type": "markdown",
   "metadata": {},
   "source": [
    "**5.A Using your function, print the summary statistics for `volume_sold`.**"
   ]
  },
  {
   "cell_type": "code",
   "execution_count": 65,
   "metadata": {},
   "outputs": [
    {
     "name": "stdout",
     "output_type": "stream",
     "text": [
      "volume_sold\n",
      "10.0186840789888\n",
      "8.16634551564\n",
      "[2.7946315]\n",
      "84.12996520049938\n",
      "9.172238832504275\n"
     ]
    }
   ],
   "source": [
    "# A:\n",
    "summary('volume_sold', sales_data)"
   ]
  },
  {
   "cell_type": "markdown",
   "metadata": {},
   "source": [
    "**5.B Using your function, print the summary statistics for `2015_margin`.**"
   ]
  },
  {
   "cell_type": "code",
   "execution_count": 66,
   "metadata": {},
   "outputs": [
    {
     "name": "stdout",
     "output_type": "stream",
     "text": [
      "2015_margin\n",
      "46.8588951379235\n",
      "36.5621438181\n",
      "[11.9961177]\n",
      "2016.0616629583997\n",
      "44.90057530765502\n"
     ]
    }
   ],
   "source": [
    "# A:\n",
    "summary('2015_margin', sales_data)"
   ]
  },
  {
   "cell_type": "markdown",
   "metadata": {},
   "source": [
    "**5.C Using your function, print the summary statistics for `2015_q1_sales`.**"
   ]
  },
  {
   "cell_type": "code",
   "execution_count": 67,
   "metadata": {},
   "outputs": [
    {
     "name": "stdout",
     "output_type": "stream",
     "text": [
      "2015_q1_sales\n",
      "154631.66820000001\n",
      "104199.41\n",
      "[4151.93]\n",
      "47430301462.331505\n",
      "217784.98906566427\n"
     ]
    }
   ],
   "source": [
    "# A:\n",
    "summary('2015_q1_sales', sales_data)"
   ]
  },
  {
   "cell_type": "markdown",
   "metadata": {},
   "source": [
    "**5.D Using your function, print the summary statistics for `2016_q1_sales`.**"
   ]
  },
  {
   "cell_type": "code",
   "execution_count": 68,
   "metadata": {},
   "outputs": [
    {
     "name": "stdout",
     "output_type": "stream",
     "text": [
      "2016_q1_sales\n",
      "154699.17875\n",
      "103207.20000000001\n",
      "[3536.14]\n",
      "47139411653.44524\n",
      "217116.12481215032\n"
     ]
    }
   ],
   "source": [
    "# A:\n",
    "summary('2016_q1_sales', sales_data)"
   ]
  },
  {
   "cell_type": "markdown",
   "metadata": {},
   "source": [
    "### 6. [Bonus] Plot the distributions\n",
    "\n",
    "We've provided a plotting function below called ```distribution_plotter()```. It takes two arguments, the name of the column and the data that column is associated with.\n",
    "\n",
    "In individual cells, plot the distributions for each of the four columns. Does the data appear skewed? Symmetrical? If skewed, what would be your hypothesis for why?"
   ]
  },
  {
   "cell_type": "code",
   "execution_count": 58,
   "metadata": {},
   "outputs": [],
   "source": [
    "def distribution_plotter(column, data_set):\n",
    "    data = data_set[column]\n",
    "    sns.set(rc={\"figure.figsize\": (10, 7)})\n",
    "    sns.set(color_codes=True)\n",
    "    sns.set(style=\"white\", palette=\"muted\")\n",
    "    dist = sns.distplot(data, hist_kws={'alpha':0.2}, kde_kws={'linewidth':5})\n",
    "    dist.set_title('Distribution of ' + column + '\\n', fontsize=16)"
   ]
  },
  {
   "cell_type": "code",
   "execution_count": 59,
   "metadata": {
    "scrolled": true
   },
   "outputs": [
    {
     "data": {
      "image/png": "[encoded data removed]",
      "text/plain": [
       "<matplotlib.figure.Figure at 0x116c662b0>"
      ]
     },
     "metadata": {},
     "output_type": "display_data"
    }
   ],
   "source": [
    "# A:\n",
    "distribution_plotter('2016_q1_sales', sales_data)"
   ]
  },
  {
   "cell_type": "code",
   "execution_count": 60,
   "metadata": {},
   "outputs": [
    {
     "ename": "TypeError",
     "evalue": "'data' must be pandas DataFrame object, not: <class 'dict'>",
     "output_type": "error",
     "traceback": [
      "\u001b[0;31m---------------------------------------------------------------------------\u001b[0m",
      "\u001b[0;31mTypeError\u001b[0m                                 Traceback (most recent call last)",
      "\u001b[0;32m<ipython-input-60-4de16d09c65d>\u001b[0m in \u001b[0;36m<module>\u001b[0;34m()\u001b[0m\n\u001b[0;32m----> 1\u001b[0;31m \u001b[0msns\u001b[0m\u001b[0;34m.\u001b[0m\u001b[0mpairplot\u001b[0m\u001b[0;34m(\u001b[0m\u001b[0msales_data\u001b[0m\u001b[0;34m)\u001b[0m\u001b[0;34m\u001b[0m\u001b[0m\n\u001b[0m",
      "\u001b[0;32m/anaconda3/lib/python3.6/site-packages/seaborn/axisgrid.py\u001b[0m in \u001b[0;36mpairplot\u001b[0;34m(data, hue, hue_order, palette, vars, x_vars, y_vars, kind, diag_kind, markers, size, aspect, dropna, plot_kws, diag_kws, grid_kws)\u001b[0m\n\u001b[1;32m   2025\u001b[0m         raise TypeError(\n\u001b[1;32m   2026\u001b[0m             \"'data' must be pandas DataFrame object, not: {typefound}\".format(\n\u001b[0;32m-> 2027\u001b[0;31m                 typefound=type(data)))\n\u001b[0m\u001b[1;32m   2028\u001b[0m \u001b[0;34m\u001b[0m\u001b[0m\n\u001b[1;32m   2029\u001b[0m     \u001b[0;32mif\u001b[0m \u001b[0mplot_kws\u001b[0m \u001b[0;32mis\u001b[0m \u001b[0;32mNone\u001b[0m\u001b[0;34m:\u001b[0m\u001b[0;34m\u001b[0m\u001b[0m\n",
      "\u001b[0;31mTypeError\u001b[0m: 'data' must be pandas DataFrame object, not: <class 'dict'>"
     ]
    }
   ],
   "source": []
  },
  {
   "cell_type": "markdown",
   "metadata": {},
   "source": [
    "---\n",
    "\n",
    "### An aside on plotting and visual elements..\n",
    "\n",
    "Check out this example:\n",
    "\n",
    "```python\n",
    "   1.  sns.set(rc={\"figure.figsize\": (10, 7)})\n",
    "   2.  sns.set_style(\"white\")\n",
    "   3.  dist = sns.distplot(data, hist_kws={'alpha':0.2}, kde_kws={'linewidth':5})\n",
    "   4.  dist.set_title(\"I'm a fairly cool plot!\", fontsize=16)\n",
    "```\n",
    "\n",
    "**1.** With Seaborn (the `sns` object in context), the `sns.set()` method with `{\"figure.figsize\": (10, 7)}` parameter will control the size of the plot based on aspect ratio and scale.<br><br>\n",
    "**2.** Seaborn comes with a variety of styles.  They can be set using `sns.set_style([The style])`.  There are five preset seaborn themes: `darkgrid`, `whitegrid`, `dark`, `white`, and ticks. They are each suited to different applications and personal preferences. The default theme is `darkgrid`. <br><br>\n",
    "**3.** There are plenty of different types of plot types available.  For getting sense of the distribution of your data, `sns.distplot()` is a great choice.  The first paramter `data` is the only required parameter.  The other parameters in our example on line 3, control the visual aesthetics.  You can read more about [controling the visual aesthetics](https://stanford.edu/~mwaskom/software/seaborn/tutorial/aesthetics.html) of Seaborn.\n",
    "<br><br>\n",
    "**4.** Notice on line 3, we've assigned a reference to sns.distplot(), to a variable called `dist`.  In order to control certain visual elements, it's necessary to have a reference to the specific instance that initially references the plotting function. In this case, with the plot refernece to \"distplot\", it's possible to set the title using `.set_title`."
   ]
  },
  {
   "cell_type": "markdown",
   "metadata": {},
   "source": [
    "### 7. [Bonus]:  Explore the `seaborn` gallery\n",
    "\n",
    "Explore the [Seaborn Gallery](https://stanford.edu/~mwaskom/software/seaborn/examples/index.html), and attempt to adapt 2-3 other plot methods using our `sales_data`.  This should give you a little context and familliarity with some of the most common plotting functions in Seaborn.  \n",
    "\n",
    "Beyond this we will be diving into `matplotlib`, `pandas`, and other plotting packages.  The best way to get good at data visualization is practicing.  Each package has it's own pitfalls and conventions, but many are just wrappers around matplotlib at a low level so it's possible to use them together.  \n",
    "\n",
    "Generally, `seaborn` and `pandas` will get you most of the way there, and then using `matplotlib` can help you \"tweak\" the finer aesthetics of the output.\n",
    "\n",
    "**Note:** Seaborn does not like to work with lists typically, so you may need to convert your data to an array using ['`np.array()`'](https://docs.scipy.org/doc/numpy/reference/generated/numpy.array.html) in order for Seaborn to accept it"
   ]
  },
  {
   "cell_type": "code",
   "execution_count": null,
   "metadata": {
    "collapsed": true
   },
   "outputs": [],
   "source": []
  }
 ],
 "metadata": {
  "anaconda-cloud": {},
  "kernelspec": {
   "display_name": "Python 3",
   "language": "python",
   "name": "python3"
  },
  "language_info": {
   "codemirror_mode": {
    "name": "ipython",
    "version": 3
   },
   "file_extension": ".py",
   "mimetype": "text/x-python",
   "name": "python",
   "nbconvert_exporter": "python",
   "pygments_lexer": "ipython3",
   "version": "3.6.4"
  }
 },
 "nbformat": 4,
 "nbformat_minor": 1
}
