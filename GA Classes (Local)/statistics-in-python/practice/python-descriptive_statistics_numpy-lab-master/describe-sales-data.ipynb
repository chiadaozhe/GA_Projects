{
 "cells": [
  {
   "cell_type": "markdown",
   "metadata": {},
   "source": [
    "<img src=\"http://imgur.com/1ZcRyrc.png\" style=\"float: left; margin: 20px; height: 55px\">\n",
    "\n",
    "## Describing Sales Data with `numpy`\n",
    "\n",
    "_Author: Kiefer Katovich (SF), Joseph Nelson (DC)_\n",
    "\n",
    "---\n",
    "\n",
    "Run the cell below to load the required packages and set up plotting in the notebook!"
   ]
  },
  {
   "cell_type": "code",
   "execution_count": 1,
   "metadata": {},
   "outputs": [],
   "source": [
    "import numpy as np\n",
    "import scipy.stats as stats\n",
    "import csv\n",
    "import seaborn as sns\n",
    "\n",
    "%matplotlib inline"
   ]
  },
  {
   "cell_type": "markdown",
   "metadata": {},
   "source": [
    "## Loading CSV files with python\n",
    "\n",
    "---\n",
    "\n",
    "For this lab you will be using a truncated version of some sales data.\n",
    "\n",
    "The csv has about 200 rows of data and four columns. The relative path to `sales_info.csv` is provided below.\n",
    "\n",
    "\n",
    "Let's take a look at the `csv` module we imported. The csv module’s reader and writer objects read and write sequences. The following python code demonstrates a process for loading data from a CSV file and (in this case) appending each row to a list.\n",
    "\n",
    "\n",
    "```python\n",
    "import csv\n",
    "print 'Opening File. Data: '\n",
    "csv_rows = []\n",
    "with open('./datasets/sales_info.csv', 'rU') as f:\n",
    "    reader = csv.reader(f)\n",
    "    for row in reader:\n",
    "        csv_rows.append(row)\n",
    "f.close()\n",
    "print 'file closed'   # Always remember to close the file after writing to it!\n",
    "```\n",
    "\n",
    "The first argument to `csv.reader` is the string path to the file. The second argument specifies the \"mode\" for the open file object:\n",
    "- `'r'` - Read (Default)\n",
    "- `'w'` - Write\n",
    "- `'a'` - Append;  Adds additional modifications to the end.  Unable to edit current contents.\n",
    "- `'b'` - Binary (used when working with a binary file, i.e. 'rb', for reading a binary file)\n",
    "- `'U'` - Opens text in Universal Newline mode.  As '\\r', '\\n', and '\\r\\n' all indicate a newline depending on which language the file was written in, Universal Newline Mode will read '\\r', '\\n', and '\\r\\n' as Python's '\\n'."
   ]
  },
  {
   "cell_type": "code",
   "execution_count": 2,
   "metadata": {},
   "outputs": [],
   "source": [
    "sales_csv_path = './datasets/sales_info.csv'"
   ]
  },
  {
   "cell_type": "markdown",
   "metadata": {},
   "source": [
    "### 1. Loading the data\n",
    "\n",
    "Set up an empty list called ```rows```.\n",
    "\n",
    "Using the pattern for loading csvs we learned earlier, add all of the rows in the csv file to the rows list.\n",
    "\n",
    "For your reference, the pattern is:\n",
    "```python\n",
    "with open(my_csv_path, 'r') as f:\n",
    "    reader = csv.reader(f)\n",
    "    ...\n",
    "```\n",
    "\n",
    "Beyond this, adding the rows in the csv file to the ```rows``` variable is up to you."
   ]
  },
  {
   "cell_type": "code",
   "execution_count": 5,
   "metadata": {},
   "outputs": [
    {
     "name": "stdout",
     "output_type": "stream",
     "text": [
      "file closed\n"
     ]
    }
   ],
   "source": [
    "# A:\n",
    "csv_rows = []\n",
    "with open(sales_csv_path, 'r') as f:\n",
    "    reader = csv.reader(f)\n",
    "    for row in reader:\n",
    "        csv_rows.append(row)\n",
    "f.close()\n",
    "print('file closed')"
   ]
  },
  {
   "cell_type": "markdown",
   "metadata": {},
   "source": [
    "### 2. Separate header and data\n",
    "\n",
    "The header of the csv is contained in the first index of the ```rows``` variable, as it is the first row in the csv file. \n",
    "\n",
    "Use python indexing to create two new variables: ```header``` which contains the 4 column names, and ```data``` which contains the list of lists, each sub-list representing a row from the csv.\n",
    "\n",
    "Lastly, print ```header``` to see the names of the columns."
   ]
  },
  {
   "cell_type": "code",
   "execution_count": 8,
   "metadata": {},
   "outputs": [
    {
     "name": "stdout",
     "output_type": "stream",
     "text": [
      "['volume_sold', '2015_margin', '2015_q1_sales', '2016_q1_sales']\n",
      "['18.4207604861', '93.8022814583', '337166.53', '337804.05']\n"
     ]
    }
   ],
   "source": [
    "# A:\n",
    "header = csv_rows[0]\n",
    "data = csv_rows[1:]\n",
    "print(header)\n",
    "print(data[0])"
   ]
  },
  {
   "cell_type": "markdown",
   "metadata": {},
   "source": [
    "### 3. Create a dictionary with the data\n",
    "\n",
    "Use loops or list comprehensions to create a dictionary called ```sales_data```, where the keys of the dictionary are the column names, and the values of the dictionary are lists of the data points of the column corresponding to that column name."
   ]
  },
  {
   "cell_type": "code",
   "execution_count": 22,
   "metadata": {
    "scrolled": false
   },
   "outputs": [
    {
     "name": "stdout",
     "output_type": "stream",
     "text": [
      "{'volume_sold': [18.4207604861, 4.77650991918, 16.6024006077, 4.29611149826, 8.15602328201, 5.00512242518, 14.60675, 4.45646649485, 5.04752965097, 5.38807023767, 9.34734863474, 10.9303977273, 6.27020860495, 12.3959191176, 4.55771189614, 4.20012242627, 10.2528698945, 12.0767847594, 3.7250952381, 3.21072662722, 6.29097142857, 7.43482131661, 4.37622478386, 12.9889127838, 11.6974557522, 5.96517512509, 3.94522273425, 7.36958530901, 7.34350882699, 12.3500273544, 8.41791967737, 10.2608361718, 7.82435369972, 10.3314300532, 12.5284878049, 18.7447505256, 6.65773264189, 10.6321289355, 6.92770422965, 6.61817422161, 7.12444444444, 9.84966032435, 11.5058377559, 6.30981315215, 10.1866219839, 10.1221793301, 10.8003469032, 7.26782845188, 10.6737166742, 9.15026865672, 8.12418187744, 6.27579970306, 10.6772953319, 5.88898828541, 10.6401714545, 4.75559643255, 10.246884068, 10.29268081, 4.41819548872, 7.10134734573, 8.00611901938, 7.79050337838, 11.1293822598, 9.34847653987, 6.31088643791, 11.6256060606, 6.65440717629, 7.93041476808, 9.003562316, 14.4394353772, 11.0115404852, 5.72389564186, 7.77732012195, 4.75918372602, 7.78586691659, 5.03499140759, 11.6845098446, 5.14772910448, 10.0860303763, 7.94465682362, 5.29439978635, 11.8265363003, 6.300925868, 8.64269487751, 6.04822838631, 9.47492913676, 3.99185767098, 8.59207381371, 7.21148957299, 8.19108557079, 7.69531160115, 13.6351500118, 6.96681681682, 11.2323237697, 5.09546375267, 11.9368836649, 5.90627376426, 9.12709469154, 7.7544572697, 7.58599675412, 7.43725207583, 9.8798900768, 9.30319388778, 9.21365050557, 5.18177205308, 8.55507774799, 5.78126590331, 8.0710230118, 10.1250032713, 11.0196516733, 8.17666774927, 9.42171292239, 4.85870921867, 9.31378525791, 8.30018036767, 6.50688776965, 9.5852099677, 12.45572275, 8.09288312646, 8.68651837806, 8.34731752963, 9.29224055739, 9.77711182109, 29.878030039, 8.78393692369, 11.9757685161, 11.1401021385, 7.5605488194, 7.39098798637, 6.43360588592, 13.7999774485, 6.44703955254, 8.01794477751, 6.2553554256, 9.69742181905, 7.77268351232, 8.75192030725, 6.79288937945, 7.68249438202, 4.38545511613, 3.60671020408, 8.45364705882, 5.21488185976, 8.40056149733, 6.84136327817, 12.5099672623, 9.0148700565, 7.20036424796, 5.77809677419, 4.94129392971, 6.00045070423, 11.9971174753, 10.6377691184, 8.56422809829, 8.62268641471, 4.83114713217, 10.2701848998, 12.5816945607, 16.0599706745, 11.8677385892, 10.2945011338, 4.17606557377, 9.36189873418, 11.0917085427, 5.3244966443, 6.63090439276, 8.58392405063, 5.53106109325, 6.13912310287, 8.47737603306, 8.44393241167, 5.15196394076, 6.53706864564, 8.50044523598, 3.93154326923, 6.16368913858, 4.90444711538, 7.40241271087, 47.5032692308, 55.7391800938, 11.8407803201, 7.00229357798, 8.75314206706, 3.14774130328, 7.1967787944, 76.2036918138, 10.8043371086, 10.705327051, 51.8006862745, 5.88277871731, 6.68640645161, 5.83335488041, 45.5560956385, 5.17260575296, 10.118018018, 51.6755374204, 2.79463149728, 7.61169779853, 15.6976512739, 50.2758932156], '2015_margin': [93.8022814583, 21.0824246877, 93.6124943024, 16.8247038328, 35.0114570034, 31.8774372328, 76.5189730216, 19.3373453608, 26.142470349, 22.4270237673, 41.892132964, 66.4030492424, 47.8693242069, 86.7601504011, 22.9481762576, 18.7060545353, 44.0411766297, 62.1990040107, 14.2518095238, 16.0432686391, 25.1911714286, 31.7530658307, 23.1614514016, 48.8207407407, 73.2315044248, 23.4503335716, 14.1447926267, 36.4085284899, 36.1718619066, 59.8934779211, 37.1085548647, 52.4055916932, 30.681099171, 48.1333683392, 47.7406803594, 97.2243398739, 31.2923926822, 35.27017991, 31.9091555963, 29.1482532051, 32.6235916667, 47.9893704508, 55.5221865049, 31.941637952, 49.3420628537, 42.8693852124, 53.1849073341, 25.4050062762, 43.9390962494, 44.5348318408, 39.530065189, 31.5106033203, 50.1331972789, 28.7115801384, 52.4235630748, 24.0028010033, 47.3184344342, 49.1944300868, 19.9170827068, 32.71362436, 36.2773863187, 35.2223614865, 40.0093030623, 45.5890982815, 28.2592197712, 55.1925378788, 29.106349454, 39.1116473887, 46.7565544652, 57.2886237318, 46.2992604502, 25.5950192707, 36.7157591463, 20.0006463242, 29.0692439863, 22.7097016091, 58.9404393782, 25.7666753731, 49.1620319871, 33.9956304868, 24.4766550941, 52.3184580805, 30.5095964967, 36.2843302577, 30.1712350678, 41.0171194552, 20.0513661569, 45.5986531395, 35.8870443261, 37.9469113386, 29.3906663471, 64.7439062131, 35.0125088725, 52.2156089683, 22.4304264392, 49.1816335142, 25.0323193916, 45.8722118604, 34.7604217536, 39.9868794518, 34.6033448222, 41.6839918687, 40.8443061122, 44.7063598652, 21.1562997658, 41.547077748, 24.6607061069, 40.1006629307, 50.3450808487, 51.4318879891, 32.3875251705, 53.4813935145, 24.5552275389, 43.8089558984, 43.4441935484, 33.4178523235, 44.3454176281, 65.5244131168, 39.7529703822, 46.2175087515, 32.7325389894, 49.786953612, 44.9972396166, 168.245861698, 49.313768542, 56.569739846, 47.8089690393, 30.9038417358, 37.2649829658, 35.850617415, 68.1836227448, 34.2461556133, 46.0017090264, 26.9316699155, 48.3078228694, 36.216199621, 37.1569323092, 33.5548344371, 33.223011236, 20.8197112367, 15.8903673469, 35.4949411765, 26.0287842988, 37.0314331551, 29.1820981087, 72.4642572637, 52.1879774011, 40.9748793849, 23.8230645161, 24.1203833866, 26.6531361502, 65.067257829, 51.4916463712, 36.8113087607, 35.087834525, 17.9033416459, 38.2349306626, 41.9222384937, 50.8491202346, 36.282033195, 39.7768253968, 16.4770435274, 35.4246202532, 48.8443718593, 20.2525251678, 24.2994315245, 34.2229535865, 25.2890353698, 26.0607419899, 33.6023140496, 37.4071121352, 20.6980424984, 22.8882189239, 27.5077292965, 21.8116586538, 25.4285205993, 19.5683173077, 26.9353354257, 235.730677515, 268.869600245, 56.4333884407, 26.4409174312, 45.2938472174, 15.5945516903, 27.2886517761, 367.225653291, 42.0311992005, 45.8914772727, 255.153235294, 27.5122713672, 26.1030967742, 23.7416031028, 218.008349974, 21.5487817259, 46.7007087087, 233.533188694, 11.9961176992, 38.8099733155, 105.035207006, 225.055138499], '2015_q1_sales': [337166.53, 22351.86, 277764.46, 16805.11, 54411.42, 255939.81, 319020.69, 45340.33, 57849.23, 51031.04, 68657.91, 4151.93, 121837.56, 146725.31, 119287.76, 20335.03, 110552.94, 204237.78, 16939.15, 55498.12, 15983.98, 71758.66, 62988.17, 29637.75, 48759.71, 89736.7, 5577.61, 310035.66, 310718.21, 258284.84, 150049.71, 309568.16, 66468.32, 321983.24, 115531.13, 926706.76, 157981.2, 51078.36, 272703.74, 180760.93, 72185.66, 263161.4, 164809.62, 60986.22, 210690.45, 139068.33, 209403.19, 75110.03, 123291.57, 157591.18, 163684.93, 146850.63, 143950.01, 136167.32, 327172.32, 105869.94, 176266.68, 176720.07, 44836.7, 65830.25, 228680.53, 73810.68, 54655.98, 156056.28, 80923.05, 167606.75, 25575.88, 211902.95, 312502.67, 85217.68, 89525.66, 176252.03, 68258.49, 88008.31, 67219.54, 100722.77, 147242.83, 227702.34, 286763.37, 59531.82, 122811.86, 156513.07, 55538.11, 143498.37, 84998.58, 138010.02, 146424.29, 175475.49, 247716.78, 130512.99, 52054.1, 332692.67, 135418.28, 163104.8, 45612.45, 56995.82, 39867.38, 133081.37, 108362.38, 271021.94, 134589.33, 216171.01, 104354.49, 105046.24, 13677.13, 89053.08, 51427.05, 264408.55, 294990.21, 358098.75, 68077.3, 313345.86, 163324.44, 203099.8, 104044.33, 202835.96, 192934.41, 447305.5, 205170.43, 201282.29, 36855.39, 381036.91, 46509.65, 2337324.42, 208389.88, 145742.16, 187407.93, 62335.59, 138878.63, 169131.81, 280506.28, 223641.14, 361865.13, 134325.62, 145361.36, 185580.5, 93901.53, 68438.51, 32698.19, 22829.66, 13141.2, 8738.45, 48441.46, 87115.74, 102794.01, 306947.29, 225615.38, 327334.28, 27114.29, 7539.14, 20378.73, 501953.12, 66097.53, 89327.88, 20534.72, 5742.23, 15987.52, 13518.07, 17574.68, 24357.22, 29611.32, 18571.65, 18712.28, 8458.2, 19089.74, 7305.46, 14796.7, 8200.55, 11412.54, 11228.97, 17232.45, 21340.78, 16617.85, 21711.71, 28128.95, 21803.2, 12517.29, 53988.92, 555707.4, 1082136.01, 192089.46, 5574.99, 80241.27, 27043.54, 61977.54, 977772.62, 41905.18, 87839.45, 445058.32, 127495.18, 23874.67, 21535.87, 276096.18, 8506.79, 49163.01, 434110.57, 73789.38, 88006.84, 117958.96, 407738.79], '2016_q1_sales': [337804.05, 21736.63, 306942.27, 9307.75, 58939.9, 332979.03, 302592.88, 55315.23, 42398.57, 56241.57, 3536.14, 137416.93, 158476.55, 125731.51, 21834.49, 39609.55, 204038.87, 15689.8, 48545.69, 16320.74, 53182.55, 30402.43, 47217.4, 6367.76, 329252.09, 332976.05, 234926.02, 151934.45, 314068.92, 61847.52, 203644.27, 123632.78, 1050711.75, 149791.31, 61560.7, 260966.41, 160278.07, 78108.56, 253886.88, 173395.13, 91524.76, 247802.36, 115591.86, 233350.35, 84940.69, 115993.15, 125207.35, 161300.14, 164939.85, 147632.84, 168603.49, 342772.02, 102829.3, 216415.08, 174492.82, 41213.34, 91213.98, 256707.1, 75866.02, 50434.54, 141712.31, 91203.94, 156730.02, 24206.67, 218335.21, 325127.17, 94229.41, 117784.92, 166847.54, 73117.79, 100545.74, 68966.63, 96059.65, 211600.93, 234774.87, 268226.7, 58122.85, 106662.37, 147781.41, 67514.95, 170466.11, 94158.15, 139676.38, 167692.5, 180371.58, 298889.32, 133868.58, 39138.81, 343447.68, 191091.14, 184729.87, 37179.58, 40160.26, 40970.96, 135871.39, 92843.04, 295483.47, 130377.49, 192747.83, 103958.63, 106452.13, 12380.85, 94010.77, 51773.27, 242057.36, 392226.28, 369424.59, 73141.35, 292690.86, 172189.31, 211032.4, 171119.44, 201433.01, 200599.95, 476439.16, 215106.77, 204808.54, 37858.67, 382790.84, 58332.41, 2443253.18, 209066.17, 137697.56, 129489.89, 72810.95, 158368.58, 153305.98, 289199.43, 241311.79, 343060.63, 128500.31, 79554.12, 191155.87, 111207.97, 83399.61, 25290.33, 20962.08, 15307.3, 10464.02, 52246.46, 75566.37, 103585.1, 276396.86, 305851.47, 260453.94, 30441.76, 10564.6, 19357.49, 613414.14, 63793.71, 78706.47, 22675.76, 4566.74, 14050.14, 11883.3, 11597.18, 23801.1, 22824.14, 18957.2, 19832.94, 4258.14, 17116.11, 7499.47, 11367.4, 8041.09, 11966.94, 12707.72, 22130.31, 20817.32, 16786.98, 19203.82, 25302.92, 18650.96, 14626.29, 46323.73, 535381.86, 812011.78, 206247.57, 6402.78, 100765.67, 20098.61, 68230.36, 596063.0, 87471.43, 431990.7, 136717.57, 30008.81, 19420.34, 274752.6, 10315.35, 45252.42, 433832.28, 74215.43, 78137.29, 83915.72, 372240.72, 148021.9, 31184.18, 33324.36, 32079.13]}\n"
     ]
    }
   ],
   "source": [
    "# A:\n",
    "volume_sold = []\n",
    "margin_2015 = []\n",
    "q1_sales_2015 = []\n",
    "q1_sales_2016 = []\n",
    "\n",
    "for i in data:\n",
    "    volume_sold.append(float(i[0]))\n",
    "    \n",
    "for i in data:\n",
    "    margin_2015.append(float(i[1]))\n",
    "    \n",
    "for i in data:\n",
    "    q1_sales_2015.append(float(i[2]))\n",
    "    \n",
    "for i in data:\n",
    "    q1_sales_2016.append(float(i[3]))\n",
    "    \n",
    "sales_data = {'volume_sold': volume_sold, '2015_margin': margin_2015, '2015_q1_sales': q1_sales_2015, '2016_q1_sales': q1_sales_2016}\n",
    "print(sales_data)"
   ]
  },
  {
   "cell_type": "code",
   "execution_count": 23,
   "metadata": {},
   "outputs": [
    {
     "data": {
      "text/plain": [
       "[337804.05,\n",
       " 21736.63,\n",
       " 306942.27,\n",
       " 9307.75,\n",
       " 58939.9,\n",
       " 332979.03,\n",
       " 302592.88,\n",
       " 55315.23,\n",
       " 42398.57,\n",
       " 56241.57,\n",
       " 3536.14,\n",
       " 137416.93,\n",
       " 158476.55,\n",
       " 125731.51,\n",
       " 21834.49,\n",
       " 39609.55,\n",
       " 204038.87,\n",
       " 15689.8,\n",
       " 48545.69,\n",
       " 16320.74,\n",
       " 53182.55,\n",
       " 30402.43,\n",
       " 47217.4,\n",
       " 6367.76,\n",
       " 329252.09,\n",
       " 332976.05,\n",
       " 234926.02,\n",
       " 151934.45,\n",
       " 314068.92,\n",
       " 61847.52,\n",
       " 203644.27,\n",
       " 123632.78,\n",
       " 1050711.75,\n",
       " 149791.31,\n",
       " 61560.7,\n",
       " 260966.41,\n",
       " 160278.07,\n",
       " 78108.56,\n",
       " 253886.88,\n",
       " 173395.13,\n",
       " 91524.76,\n",
       " 247802.36,\n",
       " 115591.86,\n",
       " 233350.35,\n",
       " 84940.69,\n",
       " 115993.15,\n",
       " 125207.35,\n",
       " 161300.14,\n",
       " 164939.85,\n",
       " 147632.84,\n",
       " 168603.49,\n",
       " 342772.02,\n",
       " 102829.3,\n",
       " 216415.08,\n",
       " 174492.82,\n",
       " 41213.34,\n",
       " 91213.98,\n",
       " 256707.1,\n",
       " 75866.02,\n",
       " 50434.54,\n",
       " 141712.31,\n",
       " 91203.94,\n",
       " 156730.02,\n",
       " 24206.67,\n",
       " 218335.21,\n",
       " 325127.17,\n",
       " 94229.41,\n",
       " 117784.92,\n",
       " 166847.54,\n",
       " 73117.79,\n",
       " 100545.74,\n",
       " 68966.63,\n",
       " 96059.65,\n",
       " 211600.93,\n",
       " 234774.87,\n",
       " 268226.7,\n",
       " 58122.85,\n",
       " 106662.37,\n",
       " 147781.41,\n",
       " 67514.95,\n",
       " 170466.11,\n",
       " 94158.15,\n",
       " 139676.38,\n",
       " 167692.5,\n",
       " 180371.58,\n",
       " 298889.32,\n",
       " 133868.58,\n",
       " 39138.81,\n",
       " 343447.68,\n",
       " 191091.14,\n",
       " 184729.87,\n",
       " 37179.58,\n",
       " 40160.26,\n",
       " 40970.96,\n",
       " 135871.39,\n",
       " 92843.04,\n",
       " 295483.47,\n",
       " 130377.49,\n",
       " 192747.83,\n",
       " 103958.63,\n",
       " 106452.13,\n",
       " 12380.85,\n",
       " 94010.77,\n",
       " 51773.27,\n",
       " 242057.36,\n",
       " 392226.28,\n",
       " 369424.59,\n",
       " 73141.35,\n",
       " 292690.86,\n",
       " 172189.31,\n",
       " 211032.4,\n",
       " 171119.44,\n",
       " 201433.01,\n",
       " 200599.95,\n",
       " 476439.16,\n",
       " 215106.77,\n",
       " 204808.54,\n",
       " 37858.67,\n",
       " 382790.84,\n",
       " 58332.41,\n",
       " 2443253.18,\n",
       " 209066.17,\n",
       " 137697.56,\n",
       " 129489.89,\n",
       " 72810.95,\n",
       " 158368.58,\n",
       " 153305.98,\n",
       " 289199.43,\n",
       " 241311.79,\n",
       " 343060.63,\n",
       " 128500.31,\n",
       " 79554.12,\n",
       " 191155.87,\n",
       " 111207.97,\n",
       " 83399.61,\n",
       " 25290.33,\n",
       " 20962.08,\n",
       " 15307.3,\n",
       " 10464.02,\n",
       " 52246.46,\n",
       " 75566.37,\n",
       " 103585.1,\n",
       " 276396.86,\n",
       " 305851.47,\n",
       " 260453.94,\n",
       " 30441.76,\n",
       " 10564.6,\n",
       " 19357.49,\n",
       " 613414.14,\n",
       " 63793.71,\n",
       " 78706.47,\n",
       " 22675.76,\n",
       " 4566.74,\n",
       " 14050.14,\n",
       " 11883.3,\n",
       " 11597.18,\n",
       " 23801.1,\n",
       " 22824.14,\n",
       " 18957.2,\n",
       " 19832.94,\n",
       " 4258.14,\n",
       " 17116.11,\n",
       " 7499.47,\n",
       " 11367.4,\n",
       " 8041.09,\n",
       " 11966.94,\n",
       " 12707.72,\n",
       " 22130.31,\n",
       " 20817.32,\n",
       " 16786.98,\n",
       " 19203.82,\n",
       " 25302.92,\n",
       " 18650.96,\n",
       " 14626.29,\n",
       " 46323.73,\n",
       " 535381.86,\n",
       " 812011.78,\n",
       " 206247.57,\n",
       " 6402.78,\n",
       " 100765.67,\n",
       " 20098.61,\n",
       " 68230.36,\n",
       " 596063.0,\n",
       " 87471.43,\n",
       " 431990.7,\n",
       " 136717.57,\n",
       " 30008.81,\n",
       " 19420.34,\n",
       " 274752.6,\n",
       " 10315.35,\n",
       " 45252.42,\n",
       " 433832.28,\n",
       " 74215.43,\n",
       " 78137.29,\n",
       " 83915.72,\n",
       " 372240.72,\n",
       " 148021.9,\n",
       " 31184.18,\n",
       " 33324.36,\n",
       " 32079.13]"
      ]
     },
     "execution_count": 23,
     "metadata": {},
     "output_type": "execute_result"
    }
   ],
   "source": [
    "sales_data['2016_q1_sales']"
   ]
  },
  {
   "cell_type": "markdown",
   "metadata": {},
   "source": [
    "**3.A Print out the first 10 items of the 'volume_sold' column.**"
   ]
  },
  {
   "cell_type": "code",
   "execution_count": 24,
   "metadata": {},
   "outputs": [
    {
     "data": {
      "text/plain": [
       "[18.4207604861,\n",
       " 4.77650991918,\n",
       " 16.6024006077,\n",
       " 4.29611149826,\n",
       " 8.15602328201,\n",
       " 5.00512242518,\n",
       " 14.60675,\n",
       " 4.45646649485,\n",
       " 5.04752965097,\n",
       " 5.38807023767]"
      ]
     },
     "execution_count": 24,
     "metadata": {},
     "output_type": "execute_result"
    }
   ],
   "source": [
    "# A:\n",
    "sales_data['volume_sold'][0:10]"
   ]
  },
  {
   "cell_type": "markdown",
   "metadata": {},
   "source": [
    "### 4. Convert data from string to float\n",
    "\n",
    "As you can see, the data is still in string format (which is how it is read in from the csv). For each key:value pair in our ```sales_data``` dictionary, convert the values (column data) from string values to float values."
   ]
  },
  {
   "cell_type": "code",
   "execution_count": 4,
   "metadata": {},
   "outputs": [],
   "source": [
    "# A:"
   ]
  },
  {
   "cell_type": "markdown",
   "metadata": {},
   "source": [
    "### 5. Write function to print summary statistics\n",
    "\n",
    "Now write a function to print out summary statistics for the data.\n",
    "\n",
    "Your function should:\n",
    "\n",
    "- Accept two arguments: the column name and the data that column is associated with.\n",
    "- Print out information, clearly labeling each item when you print it:\n",
    "    1. Print out the column name\n",
    "    2. Print the mean of the data using ```np.mean()```\n",
    "    3. Print out the median of the data using ```np.median()```\n",
    "    4. Print out the mode of the **rounded data** using ```stats.mode()```\n",
    "    5. Print out the variance of the data using ```np.var()```\n",
    "    6. Print out the standard deviation of the data using ```np.std()```\n",
    "    \n",
    "Remember that you will need to convert the numeric data from these function to strings by wrapping them in the ```str()``` function."
   ]
  },
  {
   "cell_type": "code",
   "execution_count": 52,
   "metadata": {
    "scrolled": true
   },
   "outputs": [],
   "source": [
    "# A:\n",
    "def summary(name, data):\n",
    "    print(name)\n",
    "    print(np.mean(data[name]))\n",
    "    print(np.median(data[name]))\n",
    "    print(stats.mode(data[name])[0])\n",
    "    print(np.var(data[name]))\n",
    "    print(np.std(data[name]))\n"
   ]
  },
  {
   "cell_type": "markdown",
   "metadata": {},
   "source": [
    "**5.A Using your function, print the summary statistics for `volume_sold`.**"
   ]
  },
  {
   "cell_type": "code",
   "execution_count": 53,
   "metadata": {},
   "outputs": [
    {
     "name": "stdout",
     "output_type": "stream",
     "text": [
      "volume_sold\n",
      "10.0186840789888\n",
      "8.16634551564\n",
      "[2.7946315]\n",
      "84.12996520049938\n",
      "9.172238832504275\n"
     ]
    }
   ],
   "source": [
    "# A:\n",
    "summary('volume_sold', sales_data)"
   ]
  },
  {
   "cell_type": "markdown",
   "metadata": {},
   "source": [
    "**5.B Using your function, print the summary statistics for `2015_margin`.**"
   ]
  },
  {
   "cell_type": "code",
   "execution_count": 55,
   "metadata": {},
   "outputs": [
    {
     "name": "stdout",
     "output_type": "stream",
     "text": [
      "2015_margin\n",
      "46.8588951379235\n",
      "36.5621438181\n",
      "[11.9961177]\n",
      "2016.0616629583997\n",
      "44.90057530765502\n"
     ]
    }
   ],
   "source": [
    "# A:\n",
    "summary('2015_margin', sales_data)"
   ]
  },
  {
   "cell_type": "markdown",
   "metadata": {},
   "source": [
    "**5.C Using your function, print the summary statistics for `2015_q1_sales`.**"
   ]
  },
  {
   "cell_type": "code",
   "execution_count": 56,
   "metadata": {},
   "outputs": [
    {
     "name": "stdout",
     "output_type": "stream",
     "text": [
      "2015_q1_sales\n",
      "154631.66820000001\n",
      "104199.41\n",
      "[4151.93]\n",
      "47430301462.331505\n",
      "217784.98906566427\n"
     ]
    }
   ],
   "source": [
    "# A:\n",
    "summary('2015_q1_sales', sales_data)"
   ]
  },
  {
   "cell_type": "markdown",
   "metadata": {},
   "source": [
    "**5.D Using your function, print the summary statistics for `2016_q1_sales`.**"
   ]
  },
  {
   "cell_type": "code",
   "execution_count": 57,
   "metadata": {},
   "outputs": [
    {
     "name": "stdout",
     "output_type": "stream",
     "text": [
      "2016_q1_sales\n",
      "154699.17875\n",
      "103207.20000000001\n",
      "[3536.14]\n",
      "47139411653.44524\n",
      "217116.12481215032\n"
     ]
    }
   ],
   "source": [
    "# A:\n",
    "summary('2016_q1_sales', sales_data)"
   ]
  },
  {
   "cell_type": "markdown",
   "metadata": {},
   "source": [
    "### 6. [Bonus] Plot the distributions\n",
    "\n",
    "We've provided a plotting function below called ```distribution_plotter()```. It takes two arguments, the name of the column and the data that column is associated with.\n",
    "\n",
    "In individual cells, plot the distributions for each of the four columns. Does the data appear skewed? Symmetrical? If skewed, what would be your hypothesis for why?"
   ]
  },
  {
   "cell_type": "code",
   "execution_count": 58,
   "metadata": {},
   "outputs": [],
   "source": [
    "def distribution_plotter(column, data_set):\n",
    "    data = data_set[column]\n",
    "    sns.set(rc={\"figure.figsize\": (10, 7)})\n",
    "    sns.set(color_codes=True)\n",
    "    sns.set(style=\"white\", palette=\"muted\")\n",
    "    dist = sns.distplot(data, hist_kws={'alpha':0.2}, kde_kws={'linewidth':5})\n",
    "    dist.set_title('Distribution of ' + column + '\\n', fontsize=16)"
   ]
  },
  {
   "cell_type": "code",
   "execution_count": 59,
   "metadata": {
    "scrolled": true
   },
   "outputs": [
    {
     "data": {
      "image/png": "[encoded data removed]",
      "text/plain": [
       "<matplotlib.figure.Figure at 0x116c662b0>"
      ]
     },
     "metadata": {},
     "output_type": "display_data"
    }
   ],
   "source": [
    "# A:\n",
    "distribution_plotter('2016_q1_sales', sales_data)"
   ]
  },
  {
   "cell_type": "code",
   "execution_count": 60,
   "metadata": {},
   "outputs": [
    {
     "ename": "TypeError",
     "evalue": "'data' must be pandas DataFrame object, not: <class 'dict'>",
     "output_type": "error",
     "traceback": [
      "\u001b[0;31m---------------------------------------------------------------------------\u001b[0m",
      "\u001b[0;31mTypeError\u001b[0m                                 Traceback (most recent call last)",
      "\u001b[0;32m<ipython-input-60-4de16d09c65d>\u001b[0m in \u001b[0;36m<module>\u001b[0;34m()\u001b[0m\n\u001b[0;32m----> 1\u001b[0;31m \u001b[0msns\u001b[0m\u001b[0;34m.\u001b[0m\u001b[0mpairplot\u001b[0m\u001b[0;34m(\u001b[0m\u001b[0msales_data\u001b[0m\u001b[0;34m)\u001b[0m\u001b[0;34m\u001b[0m\u001b[0m\n\u001b[0m",
      "\u001b[0;32m/anaconda3/lib/python3.6/site-packages/seaborn/axisgrid.py\u001b[0m in \u001b[0;36mpairplot\u001b[0;34m(data, hue, hue_order, palette, vars, x_vars, y_vars, kind, diag_kind, markers, size, aspect, dropna, plot_kws, diag_kws, grid_kws)\u001b[0m\n\u001b[1;32m   2025\u001b[0m         raise TypeError(\n\u001b[1;32m   2026\u001b[0m             \"'data' must be pandas DataFrame object, not: {typefound}\".format(\n\u001b[0;32m-> 2027\u001b[0;31m                 typefound=type(data)))\n\u001b[0m\u001b[1;32m   2028\u001b[0m \u001b[0;34m\u001b[0m\u001b[0m\n\u001b[1;32m   2029\u001b[0m     \u001b[0;32mif\u001b[0m \u001b[0mplot_kws\u001b[0m \u001b[0;32mis\u001b[0m \u001b[0;32mNone\u001b[0m\u001b[0;34m:\u001b[0m\u001b[0;34m\u001b[0m\u001b[0m\n",
      "\u001b[0;31mTypeError\u001b[0m: 'data' must be pandas DataFrame object, not: <class 'dict'>"
     ]
    }
   ],
   "source": []
  },
  {
   "cell_type": "markdown",
   "metadata": {},
   "source": [
    "---\n",
    "\n",
    "### An aside on plotting and visual elements..\n",
    "\n",
    "Check out this example:\n",
    "\n",
    "```python\n",
    "   1.  sns.set(rc={\"figure.figsize\": (10, 7)})\n",
    "   2.  sns.set_style(\"white\")\n",
    "   3.  dist = sns.distplot(data, hist_kws={'alpha':0.2}, kde_kws={'linewidth':5})\n",
    "   4.  dist.set_title(\"I'm a fairly cool plot!\", fontsize=16)\n",
    "```\n",
    "\n",
    "**1.** With Seaborn (the `sns` object in context), the `sns.set()` method with `{\"figure.figsize\": (10, 7)}` parameter will control the size of the plot based on aspect ratio and scale.<br><br>\n",
    "**2.** Seaborn comes with a variety of styles.  They can be set using `sns.set_style([The style])`.  There are five preset seaborn themes: `darkgrid`, `whitegrid`, `dark`, `white`, and ticks. They are each suited to different applications and personal preferences. The default theme is `darkgrid`. <br><br>\n",
    "**3.** There are plenty of different types of plot types available.  For getting sense of the distribution of your data, `sns.distplot()` is a great choice.  The first paramter `data` is the only required parameter.  The other parameters in our example on line 3, control the visual aesthetics.  You can read more about [controling the visual aesthetics](https://stanford.edu/~mwaskom/software/seaborn/tutorial/aesthetics.html) of Seaborn.\n",
    "<br><br>\n",
    "**4.** Notice on line 3, we've assigned a reference to sns.distplot(), to a variable called `dist`.  In order to control certain visual elements, it's necessary to have a reference to the specific instance that initially references the plotting function. In this case, with the plot refernece to \"distplot\", it's possible to set the title using `.set_title`."
   ]
  },
  {
   "cell_type": "markdown",
   "metadata": {},
   "source": [
    "### 7. [Bonus]:  Explore the `seaborn` gallery\n",
    "\n",
    "Explore the [Seaborn Gallery](https://stanford.edu/~mwaskom/software/seaborn/examples/index.html), and attempt to adapt 2-3 other plot methods using our `sales_data`.  This should give you a little context and familliarity with some of the most common plotting functions in Seaborn.  \n",
    "\n",
    "Beyond this we will be diving into `matplotlib`, `pandas`, and other plotting packages.  The best way to get good at data visualization is practicing.  Each package has it's own pitfalls and conventions, but many are just wrappers around matplotlib at a low level so it's possible to use them together.  \n",
    "\n",
    "Generally, `seaborn` and `pandas` will get you most of the way there, and then using `matplotlib` can help you \"tweak\" the finer aesthetics of the output.\n",
    "\n",
    "**Note:** Seaborn does not like to work with lists typically, so you may need to convert your data to an array using ['`np.array()`'](https://docs.scipy.org/doc/numpy/reference/generated/numpy.array.html) in order for Seaborn to accept it"
   ]
  },
  {
   "cell_type": "code",
   "execution_count": null,
   "metadata": {
    "collapsed": true
   },
   "outputs": [],
   "source": []
  }
 ],
 "metadata": {
  "anaconda-cloud": {},
  "kernelspec": {
   "display_name": "Python 3",
   "language": "python",
   "name": "python3"
  },
  "language_info": {
   "codemirror_mode": {
    "name": "ipython",
    "version": 3
   },
   "file_extension": ".py",
   "mimetype": "text/x-python",
   "name": "python",
   "nbconvert_exporter": "python",
   "pygments_lexer": "ipython3",
   "version": "3.6.4"
  }
 },
 "nbformat": 4,
 "nbformat_minor": 1
}
