{
 "cells": [
  {
   "cell_type": "markdown",
   "metadata": {
    "slideshow": {
     "slide_type": "slide"
    }
   },
   "source": [
    "<img src=\"https://assets.entrepreneur.com/content/3x2/2000/1405612741-airbnb-why-new-logo.jpg\" style=\"float: left; margin: 20px; height: 80px\">\n",
    "\n",
    "# Project 4: Analyzing Airbnb's Listings\n",
    "_Done by: Chia Dao Zhe_"
   ]
  },
  {
   "cell_type": "markdown",
   "metadata": {
    "slideshow": {
     "slide_type": "slide"
    }
   },
   "source": [
    "---\n",
    "#### Airbnb operates an online marketplace which offers hospitality service and is accessible via its websites and mobile apps. Members can use the service to arrange or offer lodging, primarily homestays, or tourism experiences. The company does not own any of the real estate listings, nor does it host events; as a broker, it receives commissions from every booking.\n",
    "\n",
    "#### Airbnb takes 3% commission of every booking from hosts, and between 6% and 12% from guests. However, Airbnb also faces strong competition from other similar companies such as Tripping.com, FlipKey, HomeAway, or even the more traditional booking.com and expedia.\n",
    "\n",
    "#### Needless to say, it is therefore in Airbnb's interest that potential guests like what they see on Airbnb's page."
   ]
  },
  {
   "cell_type": "markdown",
   "metadata": {},
   "source": [
    "## 1. Problem Statement(s)\n",
    "\n",
    "* Are we able to develop a model that can predict whether a listing will be attractive to potential guests?\n",
    "* Based on that information, are we then able to better advise hosts on how they can make their listing on Airbnb look more attractive?\n",
    "* Are we able to create a universal model for all travel locations, or must it be country/city specific?"
   ]
  },
  {
   "cell_type": "markdown",
   "metadata": {},
   "source": [
    "## 2. Exploratory Data Analysis (EDA)\n",
    "\n",
    "All airbnb data for this project is obtained here: http://insideairbnb.com/get-the-data.html"
   ]
  },
  {
   "cell_type": "code",
   "execution_count": 223,
   "metadata": {},
   "outputs": [],
   "source": [
    "import pandas as pd\n",
    "import matplotlib.pyplot as plt\n",
    "%matplotlib inline\n",
    "import seaborn as sns\n",
    "import numpy as np"
   ]
  },
  {
   "cell_type": "code",
   "execution_count": 224,
   "metadata": {},
   "outputs": [
    {
     "name": "stderr",
     "output_type": "stream",
     "text": [
      "/Users/FeliciaWilliams/anaconda3/lib/python3.7/site-packages/IPython/core/interactiveshell.py:2785: DtypeWarning: Columns (43,87) have mixed types. Specify dtype option on import or set low_memory=False.\n",
      "  interactivity=interactivity, compiler=compiler, result=result)\n"
     ]
    }
   ],
   "source": [
    "melb = pd.read_csv('/Users/FeliciaWilliams/Documents/GitHub/GA_Projects/Project 4/melbourne.csv')"
   ]
  },
  {
   "cell_type": "code",
   "execution_count": 225,
   "metadata": {
    "scrolled": true
   },
   "outputs": [
    {
     "data": {
      "text/plain": [
       "(21450, 96)"
      ]
     },
     "execution_count": 225,
     "metadata": {},
     "output_type": "execute_result"
    }
   ],
   "source": [
    "melb.shape"
   ]
  },
  {
   "cell_type": "code",
   "execution_count": 226,
   "metadata": {
    "scrolled": true
   },
   "outputs": [
    {
     "data": {
      "text/html": [
       "<div>\n",
       "<style scoped>\n",
       "    .dataframe tbody tr th:only-of-type {\n",
       "        vertical-align: middle;\n",
       "    }\n",
       "\n",
       "    .dataframe tbody tr th {\n",
       "        vertical-align: top;\n",
       "    }\n",
       "\n",
       "    .dataframe thead th {\n",
       "        text-align: right;\n",
       "    }\n",
       "</style>\n",
       "<table border=\"1\" class=\"dataframe\">\n",
       "  <thead>\n",
       "    <tr style=\"text-align: right;\">\n",
       "      <th></th>\n",
       "      <th>id</th>\n",
       "      <th>listing_url</th>\n",
       "      <th>scrape_id</th>\n",
       "      <th>last_scraped</th>\n",
       "      <th>name</th>\n",
       "      <th>summary</th>\n",
       "      <th>space</th>\n",
       "      <th>description</th>\n",
       "      <th>experiences_offered</th>\n",
       "      <th>neighborhood_overview</th>\n",
       "      <th>...</th>\n",
       "      <th>requires_license</th>\n",
       "      <th>license</th>\n",
       "      <th>jurisdiction_names</th>\n",
       "      <th>instant_bookable</th>\n",
       "      <th>is_business_travel_ready</th>\n",
       "      <th>cancellation_policy</th>\n",
       "      <th>require_guest_profile_picture</th>\n",
       "      <th>require_guest_phone_verification</th>\n",
       "      <th>calculated_host_listings_count</th>\n",
       "      <th>reviews_per_month</th>\n",
       "    </tr>\n",
       "  </thead>\n",
       "  <tbody>\n",
       "    <tr>\n",
       "      <th>0</th>\n",
       "      <td>9835</td>\n",
       "      <td>https://www.airbnb.com/rooms/9835</td>\n",
       "      <td>20180808195713</td>\n",
       "      <td>2018-08-09</td>\n",
       "      <td>Beautiful Room &amp; House</td>\n",
       "      <td>NaN</td>\n",
       "      <td>House: Clean, New, Modern, Quite, Safe. 10Km f...</td>\n",
       "      <td>House: Clean, New, Modern, Quite, Safe. 10Km f...</td>\n",
       "      <td>none</td>\n",
       "      <td>Very safe! Family oriented. Older age group.</td>\n",
       "      <td>...</td>\n",
       "      <td>f</td>\n",
       "      <td>NaN</td>\n",
       "      <td>NaN</td>\n",
       "      <td>f</td>\n",
       "      <td>f</td>\n",
       "      <td>strict_14_with_grace_period</td>\n",
       "      <td>f</td>\n",
       "      <td>f</td>\n",
       "      <td>1</td>\n",
       "      <td>0.05</td>\n",
       "    </tr>\n",
       "  </tbody>\n",
       "</table>\n",
       "<p>1 rows × 96 columns</p>\n",
       "</div>"
      ],
      "text/plain": [
       "     id                        listing_url       scrape_id last_scraped  \\\n",
       "0  9835  https://www.airbnb.com/rooms/9835  20180808195713   2018-08-09   \n",
       "\n",
       "                     name summary  \\\n",
       "0  Beautiful Room & House     NaN   \n",
       "\n",
       "                                               space  \\\n",
       "0  House: Clean, New, Modern, Quite, Safe. 10Km f...   \n",
       "\n",
       "                                         description experiences_offered  \\\n",
       "0  House: Clean, New, Modern, Quite, Safe. 10Km f...                none   \n",
       "\n",
       "                           neighborhood_overview        ...          \\\n",
       "0  Very safe! Family oriented. Older age group.         ...           \n",
       "\n",
       "  requires_license license jurisdiction_names instant_bookable  \\\n",
       "0                f     NaN                NaN                f   \n",
       "\n",
       "  is_business_travel_ready          cancellation_policy  \\\n",
       "0                        f  strict_14_with_grace_period   \n",
       "\n",
       "   require_guest_profile_picture require_guest_phone_verification  \\\n",
       "0                              f                                f   \n",
       "\n",
       "   calculated_host_listings_count  reviews_per_month  \n",
       "0                               1               0.05  \n",
       "\n",
       "[1 rows x 96 columns]"
      ]
     },
     "execution_count": 226,
     "metadata": {},
     "output_type": "execute_result"
    }
   ],
   "source": [
    "melb.head(1)"
   ]
  },
  {
   "cell_type": "code",
   "execution_count": 227,
   "metadata": {},
   "outputs": [
    {
     "data": {
      "text/plain": [
       "Index(['id', 'listing_url', 'scrape_id', 'last_scraped', 'name', 'summary',\n",
       "       'space', 'description', 'experiences_offered', 'neighborhood_overview',\n",
       "       'notes', 'transit', 'access', 'interaction', 'house_rules',\n",
       "       'thumbnail_url', 'medium_url', 'picture_url', 'xl_picture_url',\n",
       "       'host_id', 'host_url', 'host_name', 'host_since', 'host_location',\n",
       "       'host_about', 'host_response_time', 'host_response_rate',\n",
       "       'host_acceptance_rate', 'host_is_superhost', 'host_thumbnail_url',\n",
       "       'host_picture_url', 'host_neighbourhood', 'host_listings_count',\n",
       "       'host_total_listings_count', 'host_verifications',\n",
       "       'host_has_profile_pic', 'host_identity_verified', 'street',\n",
       "       'neighbourhood', 'neighbourhood_cleansed',\n",
       "       'neighbourhood_group_cleansed', 'city', 'state', 'zipcode', 'market',\n",
       "       'smart_location', 'country_code', 'country', 'latitude', 'longitude',\n",
       "       'is_location_exact', 'property_type', 'room_type', 'accommodates',\n",
       "       'bathrooms', 'bedrooms', 'beds', 'bed_type', 'amenities', 'square_feet',\n",
       "       'price', 'weekly_price', 'monthly_price', 'security_deposit',\n",
       "       'cleaning_fee', 'guests_included', 'extra_people', 'minimum_nights',\n",
       "       'maximum_nights', 'calendar_updated', 'has_availability',\n",
       "       'availability_30', 'availability_60', 'availability_90',\n",
       "       'availability_365', 'calendar_last_scraped', 'number_of_reviews',\n",
       "       'first_review', 'last_review', 'review_scores_rating',\n",
       "       'review_scores_accuracy', 'review_scores_cleanliness',\n",
       "       'review_scores_checkin', 'review_scores_communication',\n",
       "       'review_scores_location', 'review_scores_value', 'requires_license',\n",
       "       'license', 'jurisdiction_names', 'instant_bookable',\n",
       "       'is_business_travel_ready', 'cancellation_policy',\n",
       "       'require_guest_profile_picture', 'require_guest_phone_verification',\n",
       "       'calculated_host_listings_count', 'reviews_per_month'],\n",
       "      dtype='object')"
      ]
     },
     "execution_count": 227,
     "metadata": {},
     "output_type": "execute_result"
    }
   ],
   "source": [
    "melb.columns"
   ]
  },
  {
   "cell_type": "code",
   "execution_count": 228,
   "metadata": {
    "scrolled": true
   },
   "outputs": [
    {
     "name": "stdout",
     "output_type": "stream",
     "text": [
      "1. id\n",
      "2. listing_url\n",
      "3. scrape_id\n",
      "4. last_scraped\n",
      "5. name\n",
      "6. summary\n",
      "7. space\n",
      "8. description\n",
      "9. experiences_offered\n",
      "10. neighborhood_overview\n",
      "11. notes\n",
      "12. transit\n",
      "13. access\n",
      "14. interaction\n",
      "15. house_rules\n",
      "16. thumbnail_url\n",
      "17. medium_url\n",
      "18. picture_url\n",
      "19. xl_picture_url\n",
      "20. host_id\n",
      "21. host_url\n",
      "22. host_name\n",
      "23. host_since\n",
      "24. host_location\n",
      "25. host_about\n",
      "26. host_response_time\n",
      "27. host_response_rate\n",
      "28. host_acceptance_rate\n",
      "29. host_is_superhost\n",
      "30. host_thumbnail_url\n",
      "31. host_picture_url\n",
      "32. host_neighbourhood\n",
      "33. host_listings_count\n",
      "34. host_total_listings_count\n",
      "35. host_verifications\n",
      "36. host_has_profile_pic\n",
      "37. host_identity_verified\n",
      "38. street\n",
      "39. neighbourhood\n",
      "40. neighbourhood_cleansed\n",
      "41. neighbourhood_group_cleansed\n",
      "42. city\n",
      "43. state\n",
      "44. zipcode\n",
      "45. market\n",
      "46. smart_location\n",
      "47. country_code\n",
      "48. country\n",
      "49. latitude\n",
      "50. longitude\n",
      "51. is_location_exact\n",
      "52. property_type\n",
      "53. room_type\n",
      "54. accommodates\n",
      "55. bathrooms\n",
      "56. bedrooms\n",
      "57. beds\n",
      "58. bed_type\n",
      "59. amenities\n",
      "60. square_feet\n",
      "61. price\n",
      "62. weekly_price\n",
      "63. monthly_price\n",
      "64. security_deposit\n",
      "65. cleaning_fee\n",
      "66. guests_included\n",
      "67. extra_people\n",
      "68. minimum_nights\n",
      "69. maximum_nights\n",
      "70. calendar_updated\n",
      "71. has_availability\n",
      "72. availability_30\n",
      "73. availability_60\n",
      "74. availability_90\n",
      "75. availability_365\n",
      "76. calendar_last_scraped\n",
      "77. number_of_reviews\n",
      "78. first_review\n",
      "79. last_review\n",
      "80. review_scores_rating\n",
      "81. review_scores_accuracy\n",
      "82. review_scores_cleanliness\n",
      "83. review_scores_checkin\n",
      "84. review_scores_communication\n",
      "85. review_scores_location\n",
      "86. review_scores_value\n",
      "87. requires_license\n",
      "88. license\n",
      "89. jurisdiction_names\n",
      "90. instant_bookable\n",
      "91. is_business_travel_ready\n",
      "92. cancellation_policy\n",
      "93. require_guest_profile_picture\n",
      "94. require_guest_phone_verification\n",
      "95. calculated_host_listings_count\n",
      "96. reviews_per_month\n"
     ]
    }
   ],
   "source": [
    "count = 0\n",
    "for i in melb.columns:\n",
    "    count += 1\n",
    "    print(str(count)+ \". \" + i)"
   ]
  },
  {
   "cell_type": "markdown",
   "metadata": {},
   "source": [
    "1. id - remove as identifier for airbnb's own reference\n",
    "2. listing_url - remove as url\n",
    "3. scrape_id - remove as identifier for scraper's own reference\n",
    "4. last_scraped - remove as date for scraper's own reference\n",
    "5. name - keep to find any naming trends\n",
    "6. summary - keep to find any description trends\n",
    "7. space - remove as similar to summary\n",
    "8. description - remove as similar to summary\n",
    "9. experiences_offered - remove as similar to summary\n",
    "10. neighborhood_overview - remove as similar to summary\n",
    "11. notes - remove as similar to summary\n",
    "12. transit - remove as similar to summary\n",
    "13. access - remove as lat/lon will be used as location\n",
    "14. interaction - remove as similar to summary\n",
    "15. house_rules - remove as similar to summary\n",
    "16. thumbnail_url - remove as url\n",
    "17. medium_url - remove as url\n",
    "18. picture_url - remove as url\n",
    "19. xl_picture_url - remove as url\n",
    "20. host_id - remove as identifier for airbnb's own reference\n",
    "21. host_url - remove as url\n",
    "22. host_name - remove as identifier\n",
    "23. host_since - remove as insignificant as property information is more important\n",
    "24. host_location - remove as insignificant as property information is more important\n",
    "25. host_about - remove as insignificant as property information is more important\n",
    "26. host_response_time - keep to see if responsiveness make guests feel better\n",
    "27. host_response_rate - keep to see if responsiveness make guests feel better\n",
    "28. host_acceptance_rate - remove as similar to host response\n",
    "29. host_is_superhost - keep to see if this rating matters\n",
    "30. host_thumbnail_url - remove as url\n",
    "31. host_picture_url - remove as url\n",
    "32. host_neighbourhood - remove as insignificant as property information is more important\n",
    "33. host_listings_count - remove as insignificant as property information is more important\n",
    "34. host_total_listings_count - remove as insignificant as property information is more important\n",
    "35. host_verifications - remove as insignificant as property information is more important\n",
    "36. host_has_profile_pic - remove as insignificant as property information is more important\n",
    "37. host_identity_verified - keep to see if guests like verification\n",
    "38. street - remove as lat/lon will be used as location\n",
    "39. neighbourhood - remove as lat/lon will be used as location\n",
    "40. neighbourhood_cleansed - remove as lat/lon will be used as location\n",
    "41. neighbourhood_group_cleansed - remove as lat/lon will be used as location\n",
    "42. city - remove as lat/lon will be used as location\n",
    "43. state - remove as lat/lon will be used as location\n",
    "44. zipcode - remove as lat/lon will be used as location\n",
    "45. market - remove as lat/lon will be used as location\n",
    "46. smart_location - remove as lat/lon will be used as location\n",
    "47. country_code - remove as lat/lon will be used as location\n",
    "48. country - remove as lat/lon will be used as location\n",
    "49. latitude - keep as location data\n",
    "50. longitude - keep as location data\n",
    "51. is_location_exact - remove as lat/lon will be used as location\n",
    "52. property_type - keep to see if this rating matters\n",
    "53. room_type - keep to see if this rating matters\n",
    "54. accommodates - keep to see if this rating matters\n",
    "55. bathrooms - keep to see if this rating matters\n",
    "56. bedrooms - keep to see if this rating matters\n",
    "57. beds - keep to see if this rating matters\n",
    "58. bed_type - remove as similar to beds\n",
    "59. amenities - keep to see if this rating matters\n",
    "60. square_feet - keep to see if this rating matters\n",
    "61. price - keep to see if this rating matters\n",
    "62. weekly_price - remove as similar to price\n",
    "63. monthly_price - remove as similar to price\n",
    "64. security_deposit - remove as similar to price\n",
    "65. cleaning_fee - remove as similar to price\n",
    "66. guests_included - remove as similar to accommodates\n",
    "67. extra_people - remove as similar to accommodates\n",
    "68. minimum_nights - remove as similar to price\n",
    "69. maximum_nights - remove as similar to price\n",
    "70. calendar_updated - remove as similar to price\n",
    "71. has_availability - remove as insignificant \n",
    "72. availability_30 - remove as insignificant \n",
    "73. availability_60 - remove as insignificant \n",
    "74. availability_90 - remove as insignificant \n",
    "75. availability_365 - remove as insignificant \n",
    "76. calendar_last_scraped - remove as insignificant \n",
    "77. number_of_reviews - keep to see if this rating matters\n",
    "78. first_review - remove as insignificant \n",
    "79. last_review - remove as insignificant \n",
    "80. review_scores_rating - keep to see if this rating matters\n",
    "81. review_scores_accuracy - keep to see if this rating matters\n",
    "82. review_scores_cleanliness - keep to see if this rating matters\n",
    "83. review_scores_checkin - keep to see if this rating matters\n",
    "84. review_scores_communication - keep to see if this rating matters\n",
    "85. review_scores_location - keep to see if this rating matters\n",
    "86. review_scores_value - keep to see if this rating matters\n",
    "87. requires_license - remove as insignificant \n",
    "88. license - remove as insignificant \n",
    "89. jurisdiction_names - remove as insignificant \n",
    "90. instant_bookable - keep to see if this rating matters \n",
    "91. is_business_travel_ready - remove as insignificant \n",
    "92. cancellation_policy - keep to see if this rating matters \n",
    "93. require_guest_profile_picture - remove as insignificant \n",
    "94. require_guest_phone_verification - remove as insignificant \n",
    "95. calculated_host_listings_count - remove as insignificant \n",
    "96. reviews_per_month - TARGET used as proxy"
   ]
  },
  {
   "cell_type": "code",
   "execution_count": 229,
   "metadata": {},
   "outputs": [],
   "source": [
    "melb.drop(['id', 'listing_url', 'scrape_id', 'last_scraped',\n",
    "           'space', 'description', 'experiences_offered', 'neighborhood_overview',\n",
    "           'notes', 'transit', 'access', 'interaction', 'house_rules',\n",
    "           'thumbnail_url', 'medium_url', 'picture_url', 'xl_picture_url',\n",
    "           'host_id', 'host_url', 'host_name', 'host_since', 'host_location',\n",
    "           'host_about', 'host_acceptance_rate', 'host_thumbnail_url',\n",
    "           'host_picture_url', 'host_neighbourhood', 'host_listings_count',\n",
    "           'host_total_listings_count', 'host_verifications',\n",
    "           'host_has_profile_pic', 'street', 'neighbourhood', 'neighbourhood_cleansed',\n",
    "           'neighbourhood_group_cleansed', 'city', 'state', 'zipcode', 'market',\n",
    "           'smart_location', 'country_code', 'country', 'is_location_exact',\n",
    "           'bed_type', 'weekly_price', 'monthly_price', 'security_deposit',\n",
    "           'cleaning_fee', 'guests_included', 'extra_people', 'minimum_nights', 'maximum_nights',\n",
    "           'calendar_updated', 'has_availability', 'availability_30', 'availability_60',\n",
    "           'availability_90','availability_365', 'calendar_last_scraped',\n",
    "           'first_review', 'last_review', 'requires_license', 'license', 'jurisdiction_names',\n",
    "           'is_business_travel_ready', 'require_guest_profile_picture', 'require_guest_phone_verification',\n",
    "           'calculated_host_listings_count'], axis=1, inplace=True)"
   ]
  },
  {
   "cell_type": "code",
   "execution_count": 230,
   "metadata": {},
   "outputs": [
    {
     "data": {
      "text/plain": [
       "(21450, 28)"
      ]
     },
     "execution_count": 230,
     "metadata": {},
     "output_type": "execute_result"
    }
   ],
   "source": [
    "melb.shape"
   ]
  },
  {
   "cell_type": "code",
   "execution_count": 231,
   "metadata": {
    "scrolled": true
   },
   "outputs": [
    {
     "data": {
      "text/html": [
       "<div>\n",
       "<style scoped>\n",
       "    .dataframe tbody tr th:only-of-type {\n",
       "        vertical-align: middle;\n",
       "    }\n",
       "\n",
       "    .dataframe tbody tr th {\n",
       "        vertical-align: top;\n",
       "    }\n",
       "\n",
       "    .dataframe thead th {\n",
       "        text-align: right;\n",
       "    }\n",
       "</style>\n",
       "<table border=\"1\" class=\"dataframe\">\n",
       "  <thead>\n",
       "    <tr style=\"text-align: right;\">\n",
       "      <th></th>\n",
       "      <th>name</th>\n",
       "      <th>summary</th>\n",
       "      <th>host_response_time</th>\n",
       "      <th>host_response_rate</th>\n",
       "      <th>host_is_superhost</th>\n",
       "      <th>host_identity_verified</th>\n",
       "      <th>latitude</th>\n",
       "      <th>longitude</th>\n",
       "      <th>property_type</th>\n",
       "      <th>room_type</th>\n",
       "      <th>...</th>\n",
       "      <th>review_scores_rating</th>\n",
       "      <th>review_scores_accuracy</th>\n",
       "      <th>review_scores_cleanliness</th>\n",
       "      <th>review_scores_checkin</th>\n",
       "      <th>review_scores_communication</th>\n",
       "      <th>review_scores_location</th>\n",
       "      <th>review_scores_value</th>\n",
       "      <th>instant_bookable</th>\n",
       "      <th>cancellation_policy</th>\n",
       "      <th>reviews_per_month</th>\n",
       "    </tr>\n",
       "  </thead>\n",
       "  <tbody>\n",
       "    <tr>\n",
       "      <th>0</th>\n",
       "      <td>Beautiful Room &amp; House</td>\n",
       "      <td>NaN</td>\n",
       "      <td>NaN</td>\n",
       "      <td>NaN</td>\n",
       "      <td>f</td>\n",
       "      <td>f</td>\n",
       "      <td>-37.772684</td>\n",
       "      <td>145.092133</td>\n",
       "      <td>House</td>\n",
       "      <td>Private room</td>\n",
       "      <td>...</td>\n",
       "      <td>90.0</td>\n",
       "      <td>9.0</td>\n",
       "      <td>10.0</td>\n",
       "      <td>10.0</td>\n",
       "      <td>10.0</td>\n",
       "      <td>9.0</td>\n",
       "      <td>9.0</td>\n",
       "      <td>f</td>\n",
       "      <td>strict_14_with_grace_period</td>\n",
       "      <td>0.05</td>\n",
       "    </tr>\n",
       "  </tbody>\n",
       "</table>\n",
       "<p>1 rows × 28 columns</p>\n",
       "</div>"
      ],
      "text/plain": [
       "                     name summary host_response_time host_response_rate  \\\n",
       "0  Beautiful Room & House     NaN                NaN                NaN   \n",
       "\n",
       "  host_is_superhost host_identity_verified   latitude   longitude  \\\n",
       "0                 f                      f -37.772684  145.092133   \n",
       "\n",
       "  property_type     room_type        ...          review_scores_rating  \\\n",
       "0         House  Private room        ...                          90.0   \n",
       "\n",
       "   review_scores_accuracy  review_scores_cleanliness  review_scores_checkin  \\\n",
       "0                     9.0                       10.0                   10.0   \n",
       "\n",
       "  review_scores_communication  review_scores_location review_scores_value  \\\n",
       "0                        10.0                     9.0                 9.0   \n",
       "\n",
       "   instant_bookable          cancellation_policy  reviews_per_month  \n",
       "0                 f  strict_14_with_grace_period               0.05  \n",
       "\n",
       "[1 rows x 28 columns]"
      ]
     },
     "execution_count": 231,
     "metadata": {},
     "output_type": "execute_result"
    }
   ],
   "source": [
    "melb.head(1)"
   ]
  },
  {
   "cell_type": "code",
   "execution_count": 232,
   "metadata": {
    "scrolled": false
   },
   "outputs": [
    {
     "data": {
      "text/plain": [
       "name                               4\n",
       "summary                          527\n",
       "host_response_time              6323\n",
       "host_response_rate              6323\n",
       "host_is_superhost                  4\n",
       "host_identity_verified             4\n",
       "latitude                           0\n",
       "longitude                          0\n",
       "property_type                      0\n",
       "room_type                          0\n",
       "accommodates                       0\n",
       "bathrooms                         22\n",
       "bedrooms                           5\n",
       "beds                              28\n",
       "amenities                          0\n",
       "square_feet                    21225\n",
       "price                              0\n",
       "number_of_reviews                  0\n",
       "review_scores_rating            5119\n",
       "review_scores_accuracy          5135\n",
       "review_scores_cleanliness       5127\n",
       "review_scores_checkin           5149\n",
       "review_scores_communication     5133\n",
       "review_scores_location          5151\n",
       "review_scores_value             5153\n",
       "instant_bookable                   0\n",
       "cancellation_policy                0\n",
       "reviews_per_month               4705\n",
       "dtype: int64"
      ]
     },
     "execution_count": 232,
     "metadata": {},
     "output_type": "execute_result"
    }
   ],
   "source": [
    "melb.isna().sum()"
   ]
  },
  {
   "cell_type": "markdown",
   "metadata": {},
   "source": [
    "## Consideration 1: To consider how to deal with all the empty rows."
   ]
  },
  {
   "cell_type": "markdown",
   "metadata": {},
   "source": [
    "#### We will drop square_feet as most of the inputs are NA.\n",
    "\n",
    "#### For the other features that are numerical, we can fill the null values with 0 as though no information was given.\n",
    "* bathrooms\n",
    "* bedrooms\n",
    "* beds\n",
    "* review_scores_rating\n",
    "* review_scores_accuracy\n",
    "* review_scores_cleanliness\n",
    "* review_scores_checkin\n",
    "* review_scores_communication\n",
    "* review_scores_location\n",
    "* review_scores_value\n",
    "* reviews_per_month"
   ]
  },
  {
   "cell_type": "code",
   "execution_count": 233,
   "metadata": {},
   "outputs": [],
   "source": [
    "melb.drop('square_feet', axis=1, inplace=True)"
   ]
  },
  {
   "cell_type": "code",
   "execution_count": 234,
   "metadata": {
    "scrolled": true
   },
   "outputs": [
    {
     "data": {
      "text/plain": [
       "name                              4\n",
       "summary                         527\n",
       "host_response_time             6323\n",
       "host_response_rate             6323\n",
       "host_is_superhost                 4\n",
       "host_identity_verified            4\n",
       "latitude                          0\n",
       "longitude                         0\n",
       "property_type                     0\n",
       "room_type                         0\n",
       "accommodates                      0\n",
       "bathrooms                         0\n",
       "bedrooms                          0\n",
       "beds                              0\n",
       "amenities                         0\n",
       "price                             0\n",
       "number_of_reviews                 0\n",
       "review_scores_rating              0\n",
       "review_scores_accuracy            0\n",
       "review_scores_cleanliness         0\n",
       "review_scores_checkin             0\n",
       "review_scores_communication       0\n",
       "review_scores_location            0\n",
       "review_scores_value               0\n",
       "instant_bookable                  0\n",
       "cancellation_policy               0\n",
       "reviews_per_month                 0\n",
       "dtype: int64"
      ]
     },
     "execution_count": 234,
     "metadata": {},
     "output_type": "execute_result"
    }
   ],
   "source": [
    "melb.update(melb[['bathrooms', 'bedrooms', 'beds', 'review_scores_rating', 'review_scores_accuracy', 'review_scores_cleanliness',\n",
    "      'review_scores_checkin', 'review_scores_communication', 'review_scores_location', 'review_scores_value',\n",
    "      'reviews_per_month']].fillna(0))\n",
    "\n",
    "melb.isna().sum()"
   ]
  },
  {
   "cell_type": "markdown",
   "metadata": {},
   "source": [
    "#### For other non \"free text\" columns, we will try to populate the NA values with the appropriate information."
   ]
  },
  {
   "cell_type": "code",
   "execution_count": 235,
   "metadata": {
    "scrolled": true
   },
   "outputs": [
    {
     "data": {
      "text/plain": [
       "host_response_time         4\n",
       "host_response_rate        59\n",
       "host_is_superhost          2\n",
       "host_identity_verified     2\n",
       "dtype: int64"
      ]
     },
     "execution_count": 235,
     "metadata": {},
     "output_type": "execute_result"
    }
   ],
   "source": [
    "melb[['host_response_time', 'host_response_rate', 'host_is_superhost', 'host_identity_verified']].nunique()"
   ]
  },
  {
   "cell_type": "code",
   "execution_count": 236,
   "metadata": {
    "scrolled": true
   },
   "outputs": [
    {
     "data": {
      "text/plain": [
       "100%    12626\n",
       "90%       296\n",
       "0%        258\n",
       "99%       205\n",
       "80%       150\n",
       "83%       147\n",
       "98%       145\n",
       "97%       140\n",
       "50%       134\n",
       "94%        98\n",
       "67%        91\n",
       "95%        76\n",
       "96%        71\n",
       "93%        70\n",
       "75%        68\n",
       "91%        65\n",
       "92%        52\n",
       "86%        52\n",
       "88%        49\n",
       "60%        45\n",
       "70%        39\n",
       "89%        39\n",
       "33%        31\n",
       "38%        18\n",
       "25%        15\n",
       "40%        13\n",
       "71%        13\n",
       "78%        11\n",
       "72%         9\n",
       "87%         9\n",
       "85%         9\n",
       "42%         9\n",
       "79%         8\n",
       "82%         8\n",
       "29%         6\n",
       "55%         6\n",
       "20%         4\n",
       "30%         4\n",
       "48%         4\n",
       "77%         4\n",
       "74%         3\n",
       "56%         3\n",
       "43%         3\n",
       "46%         3\n",
       "14%         2\n",
       "63%         2\n",
       "17%         2\n",
       "58%         1\n",
       "84%         1\n",
       "65%         1\n",
       "64%         1\n",
       "44%         1\n",
       "69%         1\n",
       "22%         1\n",
       "36%         1\n",
       "13%         1\n",
       "11%         1\n",
       "57%         1\n",
       "76%         1\n",
       "Name: host_response_rate, dtype: int64"
      ]
     },
     "execution_count": 236,
     "metadata": {},
     "output_type": "execute_result"
    }
   ],
   "source": [
    "melb.host_response_rate.value_counts()"
   ]
  },
  {
   "cell_type": "code",
   "execution_count": 237,
   "metadata": {},
   "outputs": [],
   "source": [
    "melb.host_response_rate.fillna(0, inplace=True)\n",
    "melb.host_response_rate = melb.host_response_rate.astype(str)\n",
    "\n",
    "melb.host_response_rate = melb.host_response_rate.map(lambda x: x.lstrip('+-').rstrip('%'))"
   ]
  },
  {
   "cell_type": "code",
   "execution_count": 238,
   "metadata": {
    "scrolled": false
   },
   "outputs": [
    {
     "data": {
      "text/plain": [
       "count    21450.000000\n",
       "mean        67.527179\n",
       "std         45.572993\n",
       "min          0.000000\n",
       "25%          0.000000\n",
       "50%        100.000000\n",
       "75%        100.000000\n",
       "max        100.000000\n",
       "Name: host_response_rate, dtype: float64"
      ]
     },
     "execution_count": 238,
     "metadata": {},
     "output_type": "execute_result"
    }
   ],
   "source": [
    "melb.host_response_rate = melb.host_response_rate.astype(float)\n",
    "melb.host_response_rate.describe()"
   ]
  },
  {
   "cell_type": "code",
   "execution_count": 239,
   "metadata": {
    "scrolled": true
   },
   "outputs": [
    {
     "data": {
      "text/plain": [
       "f    16533\n",
       "t     4913\n",
       "Name: host_is_superhost, dtype: int64"
      ]
     },
     "execution_count": 239,
     "metadata": {},
     "output_type": "execute_result"
    }
   ],
   "source": [
    "melb.host_is_superhost.value_counts()"
   ]
  },
  {
   "cell_type": "code",
   "execution_count": 240,
   "metadata": {},
   "outputs": [
    {
     "data": {
      "text/plain": [
       "f    16537\n",
       "t     4913\n",
       "Name: host_is_superhost, dtype: int64"
      ]
     },
     "execution_count": 240,
     "metadata": {},
     "output_type": "execute_result"
    }
   ],
   "source": [
    "melb.host_is_superhost.fillna('f', inplace=True)\n",
    "melb.host_is_superhost.value_counts()"
   ]
  },
  {
   "cell_type": "code",
   "execution_count": 241,
   "metadata": {},
   "outputs": [
    {
     "data": {
      "text/plain": [
       "f    12528\n",
       "t     8918\n",
       "Name: host_identity_verified, dtype: int64"
      ]
     },
     "execution_count": 241,
     "metadata": {},
     "output_type": "execute_result"
    }
   ],
   "source": [
    "melb.host_identity_verified.value_counts()"
   ]
  },
  {
   "cell_type": "code",
   "execution_count": 242,
   "metadata": {
    "scrolled": false
   },
   "outputs": [
    {
     "data": {
      "text/plain": [
       "f    12532\n",
       "t     8918\n",
       "Name: host_identity_verified, dtype: int64"
      ]
     },
     "execution_count": 242,
     "metadata": {},
     "output_type": "execute_result"
    }
   ],
   "source": [
    "melb.host_identity_verified.fillna('f', inplace=True)\n",
    "melb.host_identity_verified.value_counts()"
   ]
  },
  {
   "cell_type": "code",
   "execution_count": 243,
   "metadata": {
    "scrolled": true
   },
   "outputs": [
    {
     "data": {
      "text/plain": [
       "within an hour        11168\n",
       "within a few hours     2152\n",
       "within a day           1428\n",
       "a few days or more      379\n",
       "Name: host_response_time, dtype: int64"
      ]
     },
     "execution_count": 243,
     "metadata": {},
     "output_type": "execute_result"
    }
   ],
   "source": [
    "melb.host_response_time.value_counts()"
   ]
  },
  {
   "cell_type": "code",
   "execution_count": 244,
   "metadata": {
    "scrolled": false
   },
   "outputs": [
    {
     "data": {
      "text/plain": [
       "within an hour        11168\n",
       "others                 6323\n",
       "within a few hours     2152\n",
       "within a day           1428\n",
       "a few days or more      379\n",
       "Name: host_response_time, dtype: int64"
      ]
     },
     "execution_count": 244,
     "metadata": {},
     "output_type": "execute_result"
    }
   ],
   "source": [
    "melb.host_response_time.fillna('others', inplace=True)\n",
    "melb.host_response_time.value_counts()"
   ]
  },
  {
   "cell_type": "code",
   "execution_count": 245,
   "metadata": {
    "scrolled": true
   },
   "outputs": [
    {
     "data": {
      "text/plain": [
       "name                             4\n",
       "summary                        527\n",
       "host_response_time               0\n",
       "host_response_rate               0\n",
       "host_is_superhost                0\n",
       "host_identity_verified           0\n",
       "latitude                         0\n",
       "longitude                        0\n",
       "property_type                    0\n",
       "room_type                        0\n",
       "accommodates                     0\n",
       "bathrooms                        0\n",
       "bedrooms                         0\n",
       "beds                             0\n",
       "amenities                        0\n",
       "price                            0\n",
       "number_of_reviews                0\n",
       "review_scores_rating             0\n",
       "review_scores_accuracy           0\n",
       "review_scores_cleanliness        0\n",
       "review_scores_checkin            0\n",
       "review_scores_communication      0\n",
       "review_scores_location           0\n",
       "review_scores_value              0\n",
       "instant_bookable                 0\n",
       "cancellation_policy              0\n",
       "reviews_per_month                0\n",
       "dtype: int64"
      ]
     },
     "execution_count": 245,
     "metadata": {},
     "output_type": "execute_result"
    }
   ],
   "source": [
    "melb.isna().sum()"
   ]
  },
  {
   "cell_type": "code",
   "execution_count": 246,
   "metadata": {
    "scrolled": false
   },
   "outputs": [
    {
     "data": {
      "text/plain": [
       "name                           0\n",
       "summary                        0\n",
       "host_response_time             0\n",
       "host_response_rate             0\n",
       "host_is_superhost              0\n",
       "host_identity_verified         0\n",
       "latitude                       0\n",
       "longitude                      0\n",
       "property_type                  0\n",
       "room_type                      0\n",
       "accommodates                   0\n",
       "bathrooms                      0\n",
       "bedrooms                       0\n",
       "beds                           0\n",
       "amenities                      0\n",
       "price                          0\n",
       "number_of_reviews              0\n",
       "review_scores_rating           0\n",
       "review_scores_accuracy         0\n",
       "review_scores_cleanliness      0\n",
       "review_scores_checkin          0\n",
       "review_scores_communication    0\n",
       "review_scores_location         0\n",
       "review_scores_value            0\n",
       "instant_bookable               0\n",
       "cancellation_policy            0\n",
       "reviews_per_month              0\n",
       "dtype: int64"
      ]
     },
     "execution_count": 246,
     "metadata": {},
     "output_type": "execute_result"
    }
   ],
   "source": [
    "melb.name.fillna('', inplace=True)\n",
    "melb.summary.fillna('', inplace=True)\n",
    "melb.isna().sum()"
   ]
  },
  {
   "cell_type": "markdown",
   "metadata": {},
   "source": [
    "## Consideration 2: To consider how to convert all columns into numerical inputs."
   ]
  },
  {
   "cell_type": "code",
   "execution_count": 247,
   "metadata": {
    "scrolled": true
   },
   "outputs": [
    {
     "data": {
      "text/plain": [
       "name                            object\n",
       "summary                         object\n",
       "host_response_time              object\n",
       "host_response_rate             float64\n",
       "host_is_superhost               object\n",
       "host_identity_verified          object\n",
       "latitude                       float64\n",
       "longitude                      float64\n",
       "property_type                   object\n",
       "room_type                       object\n",
       "accommodates                     int64\n",
       "bathrooms                      float64\n",
       "bedrooms                       float64\n",
       "beds                           float64\n",
       "amenities                       object\n",
       "price                           object\n",
       "number_of_reviews                int64\n",
       "review_scores_rating           float64\n",
       "review_scores_accuracy         float64\n",
       "review_scores_cleanliness      float64\n",
       "review_scores_checkin          float64\n",
       "review_scores_communication    float64\n",
       "review_scores_location         float64\n",
       "review_scores_value            float64\n",
       "instant_bookable                object\n",
       "cancellation_policy             object\n",
       "reviews_per_month              float64\n",
       "dtype: object"
      ]
     },
     "execution_count": 247,
     "metadata": {},
     "output_type": "execute_result"
    }
   ],
   "source": [
    "melb.dtypes"
   ]
  },
  {
   "cell_type": "markdown",
   "metadata": {},
   "source": [
    "### Convert all binary columns from t/f to binary 0/1"
   ]
  },
  {
   "cell_type": "code",
   "execution_count": 248,
   "metadata": {
    "scrolled": true
   },
   "outputs": [
    {
     "data": {
      "text/plain": [
       "1    16537\n",
       "0     4913\n",
       "Name: host_is_superhost, dtype: int64"
      ]
     },
     "execution_count": 248,
     "metadata": {},
     "output_type": "execute_result"
    }
   ],
   "source": [
    "#Convert host_is_superhost from t/f to binary 0/1\n",
    "\n",
    "def f(row):\n",
    "    if row['host_is_superhost'] == 't':\n",
    "        val = 0   \n",
    "    else:\n",
    "        val = 1\n",
    "    return val\n",
    "\n",
    "melb.host_is_superhost = melb.apply(f, axis=1)\n",
    "melb.host_is_superhost.value_counts()"
   ]
  },
  {
   "cell_type": "code",
   "execution_count": 249,
   "metadata": {
    "scrolled": true
   },
   "outputs": [
    {
     "data": {
      "text/plain": [
       "1    12532\n",
       "0     8918\n",
       "Name: host_identity_verified, dtype: int64"
      ]
     },
     "execution_count": 249,
     "metadata": {},
     "output_type": "execute_result"
    }
   ],
   "source": [
    "#Convert host_identity_verified from t/f to binary 0/1\n",
    "\n",
    "def f(row):\n",
    "    if row['host_identity_verified'] == 't':\n",
    "        val = 0   \n",
    "    else:\n",
    "        val = 1\n",
    "    return val\n",
    "\n",
    "melb.host_identity_verified = melb.apply(f, axis=1)\n",
    "melb.host_identity_verified.value_counts()"
   ]
  },
  {
   "cell_type": "code",
   "execution_count": 250,
   "metadata": {},
   "outputs": [
    {
     "data": {
      "text/plain": [
       "1    11686\n",
       "0     9764\n",
       "Name: instant_bookable, dtype: int64"
      ]
     },
     "execution_count": 250,
     "metadata": {},
     "output_type": "execute_result"
    }
   ],
   "source": [
    "#Convert instant_bookable from t/f to binary 0/1\n",
    "\n",
    "def f(row):\n",
    "    if row['instant_bookable'] == 't':\n",
    "        val = 0   \n",
    "    else:\n",
    "        val = 1\n",
    "    return val\n",
    "\n",
    "melb.instant_bookable = melb.apply(f, axis=1)\n",
    "melb.instant_bookable.value_counts()"
   ]
  },
  {
   "cell_type": "markdown",
   "metadata": {},
   "source": [
    "### Convert ordinal categorical columns into numbers."
   ]
  },
  {
   "cell_type": "code",
   "execution_count": 251,
   "metadata": {
    "scrolled": true
   },
   "outputs": [
    {
     "data": {
      "text/plain": [
       "within an hour        11168\n",
       "others                 6323\n",
       "within a few hours     2152\n",
       "within a day           1428\n",
       "a few days or more      379\n",
       "Name: host_response_time, dtype: int64"
      ]
     },
     "execution_count": 251,
     "metadata": {},
     "output_type": "execute_result"
    }
   ],
   "source": [
    "melb.host_response_time.value_counts()"
   ]
  },
  {
   "cell_type": "code",
   "execution_count": 252,
   "metadata": {
    "scrolled": true
   },
   "outputs": [
    {
     "data": {
      "text/plain": [
       "0    11168\n",
       "4     6323\n",
       "1     2152\n",
       "2     1428\n",
       "3      379\n",
       "Name: host_response_time, dtype: int64"
      ]
     },
     "execution_count": 252,
     "metadata": {},
     "output_type": "execute_result"
    }
   ],
   "source": [
    "#Assign numeric value for host_response_time\n",
    "def f(row):\n",
    "    if row['host_response_time'] == 'within an hour':\n",
    "        val = 0\n",
    "    elif row['host_response_time'] == 'within a few hours':\n",
    "        val = 1\n",
    "    elif row['host_response_time'] == 'within a day':\n",
    "        val = 2\n",
    "    elif row['host_response_time'] == 'a few days or more':\n",
    "        val = 3\n",
    "    else:\n",
    "        val = 4\n",
    "    return val\n",
    "\n",
    "melb.host_response_time = melb.apply(f, axis=1)\n",
    "melb.host_response_time.value_counts()"
   ]
  },
  {
   "cell_type": "code",
   "execution_count": 253,
   "metadata": {
    "scrolled": true
   },
   "outputs": [
    {
     "data": {
      "text/plain": [
       "strict_14_with_grace_period    8576\n",
       "flexible                       7221\n",
       "moderate                       5600\n",
       "super_strict_30                  40\n",
       "super_strict_60                  13\n",
       "Name: cancellation_policy, dtype: int64"
      ]
     },
     "execution_count": 253,
     "metadata": {},
     "output_type": "execute_result"
    }
   ],
   "source": [
    "melb.cancellation_policy.value_counts()"
   ]
  },
  {
   "cell_type": "code",
   "execution_count": 254,
   "metadata": {
    "scrolled": false
   },
   "outputs": [
    {
     "data": {
      "text/plain": [
       "2    8576\n",
       "0    7221\n",
       "1    5600\n",
       "3      40\n",
       "4      13\n",
       "Name: cancellation_policy, dtype: int64"
      ]
     },
     "execution_count": 254,
     "metadata": {},
     "output_type": "execute_result"
    }
   ],
   "source": [
    "#Assign numeric value for cancellation_policy\n",
    "def f(row):\n",
    "    if row['cancellation_policy'] == 'flexible':\n",
    "        val = 0\n",
    "    elif row['cancellation_policy'] == 'moderate':\n",
    "        val = 1\n",
    "    elif row['cancellation_policy'] == 'strict_14_with_grace_period':\n",
    "        val = 2\n",
    "    elif row['cancellation_policy'] == 'super_strict_30':\n",
    "        val = 3\n",
    "    else:\n",
    "        val = 4\n",
    "    return val\n",
    "\n",
    "melb.cancellation_policy = melb.apply(f, axis=1)\n",
    "melb.cancellation_policy.value_counts()"
   ]
  },
  {
   "cell_type": "markdown",
   "metadata": {},
   "source": [
    "### Price column should be numeric so just need to clean up the data."
   ]
  },
  {
   "cell_type": "code",
   "execution_count": 255,
   "metadata": {},
   "outputs": [
    {
     "data": {
      "text/plain": [
       "0     $61.00\n",
       "1     $35.00\n",
       "2    $159.00\n",
       "3     $50.00\n",
       "4     $69.00\n",
       "Name: price, dtype: object"
      ]
     },
     "execution_count": 255,
     "metadata": {},
     "output_type": "execute_result"
    }
   ],
   "source": [
    "melb.price.head()"
   ]
  },
  {
   "cell_type": "code",
   "execution_count": 256,
   "metadata": {
    "scrolled": false
   },
   "outputs": [
    {
     "data": {
      "text/plain": [
       "count    21450.000000\n",
       "mean       137.081725\n",
       "std        113.308407\n",
       "min          0.000000\n",
       "25%         69.000000\n",
       "50%        110.000000\n",
       "75%        160.000000\n",
       "max        999.000000\n",
       "Name: price, dtype: float64"
      ]
     },
     "execution_count": 256,
     "metadata": {},
     "output_type": "execute_result"
    }
   ],
   "source": [
    "melb.price = melb.price.astype(str)\n",
    "melb['price'] = melb.price.str.extract('(\\d+)', expand=True).astype(float)\n",
    "melb.price.describe()"
   ]
  },
  {
   "cell_type": "code",
   "execution_count": 257,
   "metadata": {
    "scrolled": true
   },
   "outputs": [
    {
     "data": {
      "text/plain": [
       "0     61.0\n",
       "1     35.0\n",
       "2    159.0\n",
       "3     50.0\n",
       "4     69.0\n",
       "Name: price, dtype: float64"
      ]
     },
     "execution_count": 257,
     "metadata": {},
     "output_type": "execute_result"
    }
   ],
   "source": [
    "melb.price.head()"
   ]
  },
  {
   "cell_type": "markdown",
   "metadata": {},
   "source": [
    "### Convert non-ordical categorical columns into numerical data using get_dummies."
   ]
  },
  {
   "cell_type": "code",
   "execution_count": 258,
   "metadata": {
    "scrolled": false
   },
   "outputs": [
    {
     "data": {
      "text/plain": [
       "Entire home/apt    13326\n",
       "Private room        7727\n",
       "Shared room          397\n",
       "Name: room_type, dtype: int64"
      ]
     },
     "execution_count": 258,
     "metadata": {},
     "output_type": "execute_result"
    }
   ],
   "source": [
    "melb.room_type.value_counts()"
   ]
  },
  {
   "cell_type": "code",
   "execution_count": 259,
   "metadata": {},
   "outputs": [
    {
     "data": {
      "text/html": [
       "<div>\n",
       "<style scoped>\n",
       "    .dataframe tbody tr th:only-of-type {\n",
       "        vertical-align: middle;\n",
       "    }\n",
       "\n",
       "    .dataframe tbody tr th {\n",
       "        vertical-align: top;\n",
       "    }\n",
       "\n",
       "    .dataframe thead th {\n",
       "        text-align: right;\n",
       "    }\n",
       "</style>\n",
       "<table border=\"1\" class=\"dataframe\">\n",
       "  <thead>\n",
       "    <tr style=\"text-align: right;\">\n",
       "      <th></th>\n",
       "      <th>name</th>\n",
       "      <th>summary</th>\n",
       "      <th>host_response_time</th>\n",
       "      <th>host_response_rate</th>\n",
       "      <th>host_is_superhost</th>\n",
       "      <th>host_identity_verified</th>\n",
       "      <th>latitude</th>\n",
       "      <th>longitude</th>\n",
       "      <th>property_type</th>\n",
       "      <th>accommodates</th>\n",
       "      <th>...</th>\n",
       "      <th>review_scores_cleanliness</th>\n",
       "      <th>review_scores_checkin</th>\n",
       "      <th>review_scores_communication</th>\n",
       "      <th>review_scores_location</th>\n",
       "      <th>review_scores_value</th>\n",
       "      <th>instant_bookable</th>\n",
       "      <th>cancellation_policy</th>\n",
       "      <th>reviews_per_month</th>\n",
       "      <th>Entire home/apt</th>\n",
       "      <th>Private room</th>\n",
       "    </tr>\n",
       "  </thead>\n",
       "  <tbody>\n",
       "    <tr>\n",
       "      <th>0</th>\n",
       "      <td>Beautiful Room &amp; House</td>\n",
       "      <td></td>\n",
       "      <td>4</td>\n",
       "      <td>0.0</td>\n",
       "      <td>1</td>\n",
       "      <td>1</td>\n",
       "      <td>-37.772684</td>\n",
       "      <td>145.092133</td>\n",
       "      <td>House</td>\n",
       "      <td>2</td>\n",
       "      <td>...</td>\n",
       "      <td>10.0</td>\n",
       "      <td>10.0</td>\n",
       "      <td>10.0</td>\n",
       "      <td>9.0</td>\n",
       "      <td>9.0</td>\n",
       "      <td>1</td>\n",
       "      <td>2</td>\n",
       "      <td>0.05</td>\n",
       "      <td>0</td>\n",
       "      <td>1</td>\n",
       "    </tr>\n",
       "    <tr>\n",
       "      <th>1</th>\n",
       "      <td>Room in Cool Deco Apartment in Brunswick</td>\n",
       "      <td>A large air conditioned room with queen spring...</td>\n",
       "      <td>0</td>\n",
       "      <td>100.0</td>\n",
       "      <td>1</td>\n",
       "      <td>0</td>\n",
       "      <td>-37.766505</td>\n",
       "      <td>144.980736</td>\n",
       "      <td>Apartment</td>\n",
       "      <td>2</td>\n",
       "      <td>...</td>\n",
       "      <td>8.0</td>\n",
       "      <td>9.0</td>\n",
       "      <td>9.0</td>\n",
       "      <td>9.0</td>\n",
       "      <td>9.0</td>\n",
       "      <td>0</td>\n",
       "      <td>1</td>\n",
       "      <td>1.44</td>\n",
       "      <td>0</td>\n",
       "      <td>1</td>\n",
       "    </tr>\n",
       "    <tr>\n",
       "      <th>2</th>\n",
       "      <td>Cool Chic Beachside 1 BR Views APT+Garage+WIFI</td>\n",
       "      <td>RIGHT IN THE HEART OF ST KILDA! It doesn't get...</td>\n",
       "      <td>0</td>\n",
       "      <td>100.0</td>\n",
       "      <td>0</td>\n",
       "      <td>0</td>\n",
       "      <td>-37.859755</td>\n",
       "      <td>144.977369</td>\n",
       "      <td>Apartment</td>\n",
       "      <td>3</td>\n",
       "      <td>...</td>\n",
       "      <td>10.0</td>\n",
       "      <td>10.0</td>\n",
       "      <td>10.0</td>\n",
       "      <td>10.0</td>\n",
       "      <td>9.0</td>\n",
       "      <td>1</td>\n",
       "      <td>2</td>\n",
       "      <td>0.13</td>\n",
       "      <td>1</td>\n",
       "      <td>0</td>\n",
       "    </tr>\n",
       "    <tr>\n",
       "      <th>3</th>\n",
       "      <td>Large private room-close to city</td>\n",
       "      <td>Comfortable, relaxed house, a home away from  ...</td>\n",
       "      <td>4</td>\n",
       "      <td>0.0</td>\n",
       "      <td>1</td>\n",
       "      <td>0</td>\n",
       "      <td>-37.758971</td>\n",
       "      <td>144.989228</td>\n",
       "      <td>House</td>\n",
       "      <td>1</td>\n",
       "      <td>...</td>\n",
       "      <td>9.0</td>\n",
       "      <td>10.0</td>\n",
       "      <td>10.0</td>\n",
       "      <td>9.0</td>\n",
       "      <td>9.0</td>\n",
       "      <td>1</td>\n",
       "      <td>1</td>\n",
       "      <td>0.31</td>\n",
       "      <td>0</td>\n",
       "      <td>1</td>\n",
       "    </tr>\n",
       "    <tr>\n",
       "      <th>4</th>\n",
       "      <td>Melbourne BnB near City &amp; Sports</td>\n",
       "      <td></td>\n",
       "      <td>4</td>\n",
       "      <td>0.0</td>\n",
       "      <td>1</td>\n",
       "      <td>0</td>\n",
       "      <td>-37.864530</td>\n",
       "      <td>144.992238</td>\n",
       "      <td>House</td>\n",
       "      <td>2</td>\n",
       "      <td>...</td>\n",
       "      <td>9.0</td>\n",
       "      <td>10.0</td>\n",
       "      <td>10.0</td>\n",
       "      <td>9.0</td>\n",
       "      <td>9.0</td>\n",
       "      <td>1</td>\n",
       "      <td>1</td>\n",
       "      <td>0.73</td>\n",
       "      <td>0</td>\n",
       "      <td>1</td>\n",
       "    </tr>\n",
       "  </tbody>\n",
       "</table>\n",
       "<p>5 rows × 28 columns</p>\n",
       "</div>"
      ],
      "text/plain": [
       "                                             name  \\\n",
       "0                          Beautiful Room & House   \n",
       "1        Room in Cool Deco Apartment in Brunswick   \n",
       "2  Cool Chic Beachside 1 BR Views APT+Garage+WIFI   \n",
       "3                Large private room-close to city   \n",
       "4                Melbourne BnB near City & Sports   \n",
       "\n",
       "                                             summary  host_response_time  \\\n",
       "0                                                                      4   \n",
       "1  A large air conditioned room with queen spring...                   0   \n",
       "2  RIGHT IN THE HEART OF ST KILDA! It doesn't get...                   0   \n",
       "3  Comfortable, relaxed house, a home away from  ...                   4   \n",
       "4                                                                      4   \n",
       "\n",
       "   host_response_rate  host_is_superhost  host_identity_verified   latitude  \\\n",
       "0                 0.0                  1                       1 -37.772684   \n",
       "1               100.0                  1                       0 -37.766505   \n",
       "2               100.0                  0                       0 -37.859755   \n",
       "3                 0.0                  1                       0 -37.758971   \n",
       "4                 0.0                  1                       0 -37.864530   \n",
       "\n",
       "    longitude property_type  accommodates      ...       \\\n",
       "0  145.092133         House             2      ...        \n",
       "1  144.980736     Apartment             2      ...        \n",
       "2  144.977369     Apartment             3      ...        \n",
       "3  144.989228         House             1      ...        \n",
       "4  144.992238         House             2      ...        \n",
       "\n",
       "   review_scores_cleanliness  review_scores_checkin  \\\n",
       "0                       10.0                   10.0   \n",
       "1                        8.0                    9.0   \n",
       "2                       10.0                   10.0   \n",
       "3                        9.0                   10.0   \n",
       "4                        9.0                   10.0   \n",
       "\n",
       "   review_scores_communication review_scores_location  review_scores_value  \\\n",
       "0                         10.0                    9.0                  9.0   \n",
       "1                          9.0                    9.0                  9.0   \n",
       "2                         10.0                   10.0                  9.0   \n",
       "3                         10.0                    9.0                  9.0   \n",
       "4                         10.0                    9.0                  9.0   \n",
       "\n",
       "   instant_bookable  cancellation_policy  reviews_per_month  Entire home/apt  \\\n",
       "0                 1                    2               0.05                0   \n",
       "1                 0                    1               1.44                0   \n",
       "2                 1                    2               0.13                1   \n",
       "3                 1                    1               0.31                0   \n",
       "4                 1                    1               0.73                0   \n",
       "\n",
       "   Private room  \n",
       "0             1  \n",
       "1             1  \n",
       "2             0  \n",
       "3             1  \n",
       "4             1  \n",
       "\n",
       "[5 rows x 28 columns]"
      ]
     },
     "execution_count": 259,
     "metadata": {},
     "output_type": "execute_result"
    }
   ],
   "source": [
    "room_df = pd.get_dummies(melb.room_type)\n",
    "melb = pd.concat([melb,room_df], axis=1)\n",
    "melb = melb.drop(['room_type', 'Shared room'], axis=1)\n",
    "melb.head()"
   ]
  },
  {
   "cell_type": "code",
   "execution_count": 260,
   "metadata": {
    "scrolled": true
   },
   "outputs": [
    {
     "data": {
      "text/plain": [
       "Apartment                 11761\n",
       "House                      5726\n",
       "Townhouse                  1311\n",
       "Serviced apartment          427\n",
       "Condominium                 398\n",
       "Villa                       294\n",
       "Bed and breakfast           251\n",
       "Guesthouse                  238\n",
       "Guest suite                 223\n",
       "Loft                        175\n",
       "Bungalow                    165\n",
       "Cottage                     116\n",
       "Other                        64\n",
       "Cabin                        48\n",
       "Hostel                       39\n",
       "Farm stay                    37\n",
       "Boutique hotel               35\n",
       "Hotel                        16\n",
       "Tiny house                   16\n",
       "Nature lodge                 16\n",
       "Camper/RV                    16\n",
       "Boat                         15\n",
       "Earth house                  11\n",
       "Aparthotel                   10\n",
       "Chalet                        8\n",
       "Resort                        7\n",
       "Tent                          6\n",
       "Castle                        5\n",
       "Treehouse                     3\n",
       "Hut                           3\n",
       "Barn                          3\n",
       "Campsite                      2\n",
       "Casa particular (Cuba)        1\n",
       "Minsu (Taiwan)                1\n",
       "Heritage hotel (India)        1\n",
       "Tipi                          1\n",
       "Train                         1\n",
       "Name: property_type, dtype: int64"
      ]
     },
     "execution_count": 260,
     "metadata": {},
     "output_type": "execute_result"
    }
   ],
   "source": [
    "melb.property_type.value_counts()"
   ]
  },
  {
   "cell_type": "code",
   "execution_count": 261,
   "metadata": {
    "scrolled": true
   },
   "outputs": [
    {
     "data": {
      "text/plain": [
       "Apartment    11761\n",
       "House         5726\n",
       "Others        2652\n",
       "Townhouse     1311\n",
       "Name: property_type, dtype: int64"
      ]
     },
     "execution_count": 261,
     "metadata": {},
     "output_type": "execute_result"
    }
   ],
   "source": [
    "#Simplifying the categories for property_type\n",
    "def f(row):\n",
    "    if row['property_type'] == 'Apartment':\n",
    "        val = 'Apartment'\n",
    "    elif row['property_type'] == 'House':\n",
    "        val = 'House'\n",
    "    elif row['property_type'] == 'Townhouse':\n",
    "        val = 'Townhouse'\n",
    "    else:\n",
    "        val = 'Others'\n",
    "    return val\n",
    "\n",
    "melb.property_type = melb.apply(f, axis=1)\n",
    "melb.property_type.value_counts()"
   ]
  },
  {
   "cell_type": "code",
   "execution_count": 262,
   "metadata": {
    "scrolled": false
   },
   "outputs": [
    {
     "data": {
      "text/html": [
       "<div>\n",
       "<style scoped>\n",
       "    .dataframe tbody tr th:only-of-type {\n",
       "        vertical-align: middle;\n",
       "    }\n",
       "\n",
       "    .dataframe tbody tr th {\n",
       "        vertical-align: top;\n",
       "    }\n",
       "\n",
       "    .dataframe thead th {\n",
       "        text-align: right;\n",
       "    }\n",
       "</style>\n",
       "<table border=\"1\" class=\"dataframe\">\n",
       "  <thead>\n",
       "    <tr style=\"text-align: right;\">\n",
       "      <th></th>\n",
       "      <th>name</th>\n",
       "      <th>summary</th>\n",
       "      <th>host_response_time</th>\n",
       "      <th>host_response_rate</th>\n",
       "      <th>host_is_superhost</th>\n",
       "      <th>host_identity_verified</th>\n",
       "      <th>latitude</th>\n",
       "      <th>longitude</th>\n",
       "      <th>accommodates</th>\n",
       "      <th>bathrooms</th>\n",
       "      <th>...</th>\n",
       "      <th>review_scores_location</th>\n",
       "      <th>review_scores_value</th>\n",
       "      <th>instant_bookable</th>\n",
       "      <th>cancellation_policy</th>\n",
       "      <th>reviews_per_month</th>\n",
       "      <th>Entire home/apt</th>\n",
       "      <th>Private room</th>\n",
       "      <th>Apartment</th>\n",
       "      <th>House</th>\n",
       "      <th>Townhouse</th>\n",
       "    </tr>\n",
       "  </thead>\n",
       "  <tbody>\n",
       "    <tr>\n",
       "      <th>0</th>\n",
       "      <td>Beautiful Room &amp; House</td>\n",
       "      <td></td>\n",
       "      <td>4</td>\n",
       "      <td>0.0</td>\n",
       "      <td>1</td>\n",
       "      <td>1</td>\n",
       "      <td>-37.772684</td>\n",
       "      <td>145.092133</td>\n",
       "      <td>2</td>\n",
       "      <td>1.0</td>\n",
       "      <td>...</td>\n",
       "      <td>9.0</td>\n",
       "      <td>9.0</td>\n",
       "      <td>1</td>\n",
       "      <td>2</td>\n",
       "      <td>0.05</td>\n",
       "      <td>0</td>\n",
       "      <td>1</td>\n",
       "      <td>0</td>\n",
       "      <td>1</td>\n",
       "      <td>0</td>\n",
       "    </tr>\n",
       "    <tr>\n",
       "      <th>1</th>\n",
       "      <td>Room in Cool Deco Apartment in Brunswick</td>\n",
       "      <td>A large air conditioned room with queen spring...</td>\n",
       "      <td>0</td>\n",
       "      <td>100.0</td>\n",
       "      <td>1</td>\n",
       "      <td>0</td>\n",
       "      <td>-37.766505</td>\n",
       "      <td>144.980736</td>\n",
       "      <td>2</td>\n",
       "      <td>1.0</td>\n",
       "      <td>...</td>\n",
       "      <td>9.0</td>\n",
       "      <td>9.0</td>\n",
       "      <td>0</td>\n",
       "      <td>1</td>\n",
       "      <td>1.44</td>\n",
       "      <td>0</td>\n",
       "      <td>1</td>\n",
       "      <td>1</td>\n",
       "      <td>0</td>\n",
       "      <td>0</td>\n",
       "    </tr>\n",
       "    <tr>\n",
       "      <th>2</th>\n",
       "      <td>Cool Chic Beachside 1 BR Views APT+Garage+WIFI</td>\n",
       "      <td>RIGHT IN THE HEART OF ST KILDA! It doesn't get...</td>\n",
       "      <td>0</td>\n",
       "      <td>100.0</td>\n",
       "      <td>0</td>\n",
       "      <td>0</td>\n",
       "      <td>-37.859755</td>\n",
       "      <td>144.977369</td>\n",
       "      <td>3</td>\n",
       "      <td>1.0</td>\n",
       "      <td>...</td>\n",
       "      <td>10.0</td>\n",
       "      <td>9.0</td>\n",
       "      <td>1</td>\n",
       "      <td>2</td>\n",
       "      <td>0.13</td>\n",
       "      <td>1</td>\n",
       "      <td>0</td>\n",
       "      <td>1</td>\n",
       "      <td>0</td>\n",
       "      <td>0</td>\n",
       "    </tr>\n",
       "    <tr>\n",
       "      <th>3</th>\n",
       "      <td>Large private room-close to city</td>\n",
       "      <td>Comfortable, relaxed house, a home away from  ...</td>\n",
       "      <td>4</td>\n",
       "      <td>0.0</td>\n",
       "      <td>1</td>\n",
       "      <td>0</td>\n",
       "      <td>-37.758971</td>\n",
       "      <td>144.989228</td>\n",
       "      <td>1</td>\n",
       "      <td>1.5</td>\n",
       "      <td>...</td>\n",
       "      <td>9.0</td>\n",
       "      <td>9.0</td>\n",
       "      <td>1</td>\n",
       "      <td>1</td>\n",
       "      <td>0.31</td>\n",
       "      <td>0</td>\n",
       "      <td>1</td>\n",
       "      <td>0</td>\n",
       "      <td>1</td>\n",
       "      <td>0</td>\n",
       "    </tr>\n",
       "    <tr>\n",
       "      <th>4</th>\n",
       "      <td>Melbourne BnB near City &amp; Sports</td>\n",
       "      <td></td>\n",
       "      <td>4</td>\n",
       "      <td>0.0</td>\n",
       "      <td>1</td>\n",
       "      <td>0</td>\n",
       "      <td>-37.864530</td>\n",
       "      <td>144.992238</td>\n",
       "      <td>2</td>\n",
       "      <td>1.0</td>\n",
       "      <td>...</td>\n",
       "      <td>9.0</td>\n",
       "      <td>9.0</td>\n",
       "      <td>1</td>\n",
       "      <td>1</td>\n",
       "      <td>0.73</td>\n",
       "      <td>0</td>\n",
       "      <td>1</td>\n",
       "      <td>0</td>\n",
       "      <td>1</td>\n",
       "      <td>0</td>\n",
       "    </tr>\n",
       "  </tbody>\n",
       "</table>\n",
       "<p>5 rows × 30 columns</p>\n",
       "</div>"
      ],
      "text/plain": [
       "                                             name  \\\n",
       "0                          Beautiful Room & House   \n",
       "1        Room in Cool Deco Apartment in Brunswick   \n",
       "2  Cool Chic Beachside 1 BR Views APT+Garage+WIFI   \n",
       "3                Large private room-close to city   \n",
       "4                Melbourne BnB near City & Sports   \n",
       "\n",
       "                                             summary  host_response_time  \\\n",
       "0                                                                      4   \n",
       "1  A large air conditioned room with queen spring...                   0   \n",
       "2  RIGHT IN THE HEART OF ST KILDA! It doesn't get...                   0   \n",
       "3  Comfortable, relaxed house, a home away from  ...                   4   \n",
       "4                                                                      4   \n",
       "\n",
       "   host_response_rate  host_is_superhost  host_identity_verified   latitude  \\\n",
       "0                 0.0                  1                       1 -37.772684   \n",
       "1               100.0                  1                       0 -37.766505   \n",
       "2               100.0                  0                       0 -37.859755   \n",
       "3                 0.0                  1                       0 -37.758971   \n",
       "4                 0.0                  1                       0 -37.864530   \n",
       "\n",
       "    longitude  accommodates  bathrooms    ...      review_scores_location  \\\n",
       "0  145.092133             2        1.0    ...                         9.0   \n",
       "1  144.980736             2        1.0    ...                         9.0   \n",
       "2  144.977369             3        1.0    ...                        10.0   \n",
       "3  144.989228             1        1.5    ...                         9.0   \n",
       "4  144.992238             2        1.0    ...                         9.0   \n",
       "\n",
       "   review_scores_value instant_bookable  cancellation_policy  \\\n",
       "0                  9.0                1                    2   \n",
       "1                  9.0                0                    1   \n",
       "2                  9.0                1                    2   \n",
       "3                  9.0                1                    1   \n",
       "4                  9.0                1                    1   \n",
       "\n",
       "   reviews_per_month  Entire home/apt  Private room  Apartment  House  \\\n",
       "0               0.05                0             1          0      1   \n",
       "1               1.44                0             1          1      0   \n",
       "2               0.13                1             0          1      0   \n",
       "3               0.31                0             1          0      1   \n",
       "4               0.73                0             1          0      1   \n",
       "\n",
       "   Townhouse  \n",
       "0          0  \n",
       "1          0  \n",
       "2          0  \n",
       "3          0  \n",
       "4          0  \n",
       "\n",
       "[5 rows x 30 columns]"
      ]
     },
     "execution_count": 262,
     "metadata": {},
     "output_type": "execute_result"
    }
   ],
   "source": [
    "property_df = pd.get_dummies(melb.property_type)\n",
    "melb = pd.concat([melb,property_df], axis=1)\n",
    "melb = melb.drop(['property_type', 'Others'], axis=1)\n",
    "melb.head()"
   ]
  },
  {
   "cell_type": "code",
   "execution_count": 263,
   "metadata": {
    "scrolled": true
   },
   "outputs": [
    {
     "data": {
      "text/plain": [
       "name                            object\n",
       "summary                         object\n",
       "host_response_time               int64\n",
       "host_response_rate             float64\n",
       "host_is_superhost                int64\n",
       "host_identity_verified           int64\n",
       "latitude                       float64\n",
       "longitude                      float64\n",
       "accommodates                     int64\n",
       "bathrooms                      float64\n",
       "bedrooms                       float64\n",
       "beds                           float64\n",
       "amenities                       object\n",
       "price                          float64\n",
       "number_of_reviews                int64\n",
       "review_scores_rating           float64\n",
       "review_scores_accuracy         float64\n",
       "review_scores_cleanliness      float64\n",
       "review_scores_checkin          float64\n",
       "review_scores_communication    float64\n",
       "review_scores_location         float64\n",
       "review_scores_value            float64\n",
       "instant_bookable                 int64\n",
       "cancellation_policy              int64\n",
       "reviews_per_month              float64\n",
       "Entire home/apt                  uint8\n",
       "Private room                     uint8\n",
       "Apartment                        uint8\n",
       "House                            uint8\n",
       "Townhouse                        uint8\n",
       "dtype: object"
      ]
     },
     "execution_count": 263,
     "metadata": {},
     "output_type": "execute_result"
    }
   ],
   "source": [
    "melb.dtypes"
   ]
  },
  {
   "cell_type": "markdown",
   "metadata": {},
   "source": [
    "### As amenities are fixed items that hosts can indicate whether they have it or not in their property listing, I will choose 10 amenities that seem to be most attractive and create them as binary features (i.e. y/n, 0/1).\n",
    "* Wifi\n",
    "* Kitchen\n",
    "* Air conditioning\n",
    "* Breakfast\n",
    "* Private entrance\n",
    "* Hair dryer\n",
    "* Free parking on premises\n",
    "* Essentials (Towels, bed sheets, soap, and toilet paper)\n",
    "* Hot water\n",
    "* TV"
   ]
  },
  {
   "cell_type": "code",
   "execution_count": 264,
   "metadata": {},
   "outputs": [
    {
     "name": "stderr",
     "output_type": "stream",
     "text": [
      "/Users/FeliciaWilliams/anaconda3/lib/python3.7/site-packages/ipykernel_launcher.py:9: UserWarning: Pandas doesn't allow columns to be created via a new attribute name - see https://pandas.pydata.org/pandas-docs/stable/indexing.html#attribute-access\n",
      "  if __name__ == '__main__':\n"
     ]
    }
   ],
   "source": [
    "#Creating the columns for wifi\n",
    "def f(row):\n",
    "    if 'Wifi' in row['amenities']:\n",
    "        val = 0\n",
    "    else:\n",
    "        val = 1\n",
    "    return val\n",
    "\n",
    "melb.amen_wifi = melb.apply(f, axis=1)"
   ]
  },
  {
   "cell_type": "code",
   "execution_count": 265,
   "metadata": {},
   "outputs": [
    {
     "name": "stderr",
     "output_type": "stream",
     "text": [
      "/Users/FeliciaWilliams/anaconda3/lib/python3.7/site-packages/ipykernel_launcher.py:9: UserWarning: Pandas doesn't allow columns to be created via a new attribute name - see https://pandas.pydata.org/pandas-docs/stable/indexing.html#attribute-access\n",
      "  if __name__ == '__main__':\n"
     ]
    }
   ],
   "source": [
    "#Creating the columns for kitchen\n",
    "def f(row):\n",
    "    if 'Kitchen' in row['amenities']:\n",
    "        val = 0\n",
    "    else:\n",
    "        val = 1\n",
    "    return val\n",
    "\n",
    "melb.amen_kitchen = melb.apply(f, axis=1)"
   ]
  },
  {
   "cell_type": "code",
   "execution_count": 266,
   "metadata": {},
   "outputs": [
    {
     "name": "stderr",
     "output_type": "stream",
     "text": [
      "/Users/FeliciaWilliams/anaconda3/lib/python3.7/site-packages/ipykernel_launcher.py:9: UserWarning: Pandas doesn't allow columns to be created via a new attribute name - see https://pandas.pydata.org/pandas-docs/stable/indexing.html#attribute-access\n",
      "  if __name__ == '__main__':\n"
     ]
    }
   ],
   "source": [
    "#Creating the columns for Air conditioning\n",
    "def f(row):\n",
    "    if 'Air conditioning' in row['amenities']:\n",
    "        val = 0\n",
    "    else:\n",
    "        val = 1\n",
    "    return val\n",
    "\n",
    "melb.amen_aircon = melb.apply(f, axis=1)"
   ]
  },
  {
   "cell_type": "code",
   "execution_count": 267,
   "metadata": {},
   "outputs": [
    {
     "name": "stderr",
     "output_type": "stream",
     "text": [
      "/Users/FeliciaWilliams/anaconda3/lib/python3.7/site-packages/ipykernel_launcher.py:9: UserWarning: Pandas doesn't allow columns to be created via a new attribute name - see https://pandas.pydata.org/pandas-docs/stable/indexing.html#attribute-access\n",
      "  if __name__ == '__main__':\n"
     ]
    }
   ],
   "source": [
    "#Creating the columns for breakfast\n",
    "def f(row):\n",
    "    if 'Breakfast' in row['amenities']:\n",
    "        val = 0\n",
    "    else:\n",
    "        val = 1\n",
    "    return val\n",
    "\n",
    "melb.amen_breakfast = melb.apply(f, axis=1)"
   ]
  },
  {
   "cell_type": "code",
   "execution_count": 268,
   "metadata": {},
   "outputs": [
    {
     "name": "stderr",
     "output_type": "stream",
     "text": [
      "/Users/FeliciaWilliams/anaconda3/lib/python3.7/site-packages/ipykernel_launcher.py:9: UserWarning: Pandas doesn't allow columns to be created via a new attribute name - see https://pandas.pydata.org/pandas-docs/stable/indexing.html#attribute-access\n",
      "  if __name__ == '__main__':\n"
     ]
    }
   ],
   "source": [
    "#Creating the columns for private entrance\n",
    "def f(row):\n",
    "    if 'Private entrance' in row['amenities']:\n",
    "        val = 0\n",
    "    else:\n",
    "        val = 1\n",
    "    return val\n",
    "\n",
    "melb.amen_pri_ent = melb.apply(f, axis=1)"
   ]
  },
  {
   "cell_type": "code",
   "execution_count": 269,
   "metadata": {},
   "outputs": [
    {
     "name": "stderr",
     "output_type": "stream",
     "text": [
      "/Users/FeliciaWilliams/anaconda3/lib/python3.7/site-packages/ipykernel_launcher.py:9: UserWarning: Pandas doesn't allow columns to be created via a new attribute name - see https://pandas.pydata.org/pandas-docs/stable/indexing.html#attribute-access\n",
      "  if __name__ == '__main__':\n"
     ]
    }
   ],
   "source": [
    "#Creating the columns for hair dryer\n",
    "def f(row):\n",
    "    if 'Hair dryer' in row['amenities']:\n",
    "        val = 0\n",
    "    else:\n",
    "        val = 1\n",
    "    return val\n",
    "\n",
    "melb.amen_hairdry = melb.apply(f, axis=1)"
   ]
  },
  {
   "cell_type": "code",
   "execution_count": 270,
   "metadata": {},
   "outputs": [
    {
     "name": "stderr",
     "output_type": "stream",
     "text": [
      "/Users/FeliciaWilliams/anaconda3/lib/python3.7/site-packages/ipykernel_launcher.py:9: UserWarning: Pandas doesn't allow columns to be created via a new attribute name - see https://pandas.pydata.org/pandas-docs/stable/indexing.html#attribute-access\n",
      "  if __name__ == '__main__':\n"
     ]
    }
   ],
   "source": [
    "#Creating the columns for free parking\n",
    "def f(row):\n",
    "    if 'Free parking on premises' in row['amenities']:\n",
    "        val = 0\n",
    "    else:\n",
    "        val = 1\n",
    "    return val\n",
    "\n",
    "melb.amen_parking = melb.apply(f, axis=1)"
   ]
  },
  {
   "cell_type": "code",
   "execution_count": 271,
   "metadata": {},
   "outputs": [
    {
     "name": "stderr",
     "output_type": "stream",
     "text": [
      "/Users/FeliciaWilliams/anaconda3/lib/python3.7/site-packages/ipykernel_launcher.py:9: UserWarning: Pandas doesn't allow columns to be created via a new attribute name - see https://pandas.pydata.org/pandas-docs/stable/indexing.html#attribute-access\n",
      "  if __name__ == '__main__':\n"
     ]
    }
   ],
   "source": [
    "#Creating the columns for essentials\n",
    "def f(row):\n",
    "    if 'Essentials' in row['amenities']:\n",
    "        val = 0\n",
    "    else:\n",
    "        val = 1\n",
    "    return val\n",
    "\n",
    "melb.amen_essentials = melb.apply(f, axis=1)"
   ]
  },
  {
   "cell_type": "code",
   "execution_count": 272,
   "metadata": {},
   "outputs": [
    {
     "name": "stderr",
     "output_type": "stream",
     "text": [
      "/Users/FeliciaWilliams/anaconda3/lib/python3.7/site-packages/ipykernel_launcher.py:9: UserWarning: Pandas doesn't allow columns to be created via a new attribute name - see https://pandas.pydata.org/pandas-docs/stable/indexing.html#attribute-access\n",
      "  if __name__ == '__main__':\n"
     ]
    }
   ],
   "source": [
    "#Creating the columns for hot water\n",
    "def f(row):\n",
    "    if 'Hot water' in row['amenities']:\n",
    "        val = 0\n",
    "    else:\n",
    "        val = 1\n",
    "    return val\n",
    "\n",
    "melb.amen_hotwater = melb.apply(f, axis=1)"
   ]
  },
  {
   "cell_type": "code",
   "execution_count": 273,
   "metadata": {},
   "outputs": [
    {
     "name": "stderr",
     "output_type": "stream",
     "text": [
      "/Users/FeliciaWilliams/anaconda3/lib/python3.7/site-packages/ipykernel_launcher.py:9: UserWarning: Pandas doesn't allow columns to be created via a new attribute name - see https://pandas.pydata.org/pandas-docs/stable/indexing.html#attribute-access\n",
      "  if __name__ == '__main__':\n"
     ]
    }
   ],
   "source": [
    "#Creating the columns for tv\n",
    "def f(row):\n",
    "    if 'TV' in row['amenities']:\n",
    "        val = 0\n",
    "    else:\n",
    "        val = 1\n",
    "    return val\n",
    "\n",
    "melb.amen_tv = melb.apply(f, axis=1)"
   ]
  },
  {
   "cell_type": "code",
   "execution_count": 274,
   "metadata": {
    "scrolled": false
   },
   "outputs": [
    {
     "data": {
      "text/html": [
       "<div>\n",
       "<style scoped>\n",
       "    .dataframe tbody tr th:only-of-type {\n",
       "        vertical-align: middle;\n",
       "    }\n",
       "\n",
       "    .dataframe tbody tr th {\n",
       "        vertical-align: top;\n",
       "    }\n",
       "\n",
       "    .dataframe thead th {\n",
       "        text-align: right;\n",
       "    }\n",
       "</style>\n",
       "<table border=\"1\" class=\"dataframe\">\n",
       "  <thead>\n",
       "    <tr style=\"text-align: right;\">\n",
       "      <th></th>\n",
       "      <th>amen_wifi</th>\n",
       "      <th>amen_kitchen</th>\n",
       "      <th>amen_aircon</th>\n",
       "      <th>amen_breakfast</th>\n",
       "      <th>amen_pri_ent</th>\n",
       "      <th>amen_hairdry</th>\n",
       "      <th>amen_parking</th>\n",
       "      <th>amen_essentials</th>\n",
       "      <th>amen_hotwater</th>\n",
       "      <th>amen_tv</th>\n",
       "    </tr>\n",
       "  </thead>\n",
       "  <tbody>\n",
       "    <tr>\n",
       "      <th>0</th>\n",
       "      <td>0</td>\n",
       "      <td>1</td>\n",
       "      <td>1</td>\n",
       "      <td>1</td>\n",
       "      <td>1</td>\n",
       "      <td>1</td>\n",
       "      <td>1</td>\n",
       "      <td>1</td>\n",
       "      <td>1</td>\n",
       "      <td>1</td>\n",
       "    </tr>\n",
       "    <tr>\n",
       "      <th>1</th>\n",
       "      <td>0</td>\n",
       "      <td>0</td>\n",
       "      <td>0</td>\n",
       "      <td>1</td>\n",
       "      <td>0</td>\n",
       "      <td>0</td>\n",
       "      <td>1</td>\n",
       "      <td>0</td>\n",
       "      <td>0</td>\n",
       "      <td>0</td>\n",
       "    </tr>\n",
       "    <tr>\n",
       "      <th>2</th>\n",
       "      <td>0</td>\n",
       "      <td>0</td>\n",
       "      <td>0</td>\n",
       "      <td>1</td>\n",
       "      <td>1</td>\n",
       "      <td>0</td>\n",
       "      <td>0</td>\n",
       "      <td>0</td>\n",
       "      <td>0</td>\n",
       "      <td>0</td>\n",
       "    </tr>\n",
       "    <tr>\n",
       "      <th>3</th>\n",
       "      <td>0</td>\n",
       "      <td>0</td>\n",
       "      <td>1</td>\n",
       "      <td>0</td>\n",
       "      <td>1</td>\n",
       "      <td>0</td>\n",
       "      <td>0</td>\n",
       "      <td>0</td>\n",
       "      <td>1</td>\n",
       "      <td>0</td>\n",
       "    </tr>\n",
       "    <tr>\n",
       "      <th>4</th>\n",
       "      <td>0</td>\n",
       "      <td>1</td>\n",
       "      <td>1</td>\n",
       "      <td>1</td>\n",
       "      <td>1</td>\n",
       "      <td>1</td>\n",
       "      <td>1</td>\n",
       "      <td>0</td>\n",
       "      <td>1</td>\n",
       "      <td>1</td>\n",
       "    </tr>\n",
       "  </tbody>\n",
       "</table>\n",
       "</div>"
      ],
      "text/plain": [
       "   amen_wifi  amen_kitchen  amen_aircon  amen_breakfast  amen_pri_ent  \\\n",
       "0          0             1            1               1             1   \n",
       "1          0             0            0               1             0   \n",
       "2          0             0            0               1             1   \n",
       "3          0             0            1               0             1   \n",
       "4          0             1            1               1             1   \n",
       "\n",
       "   amen_hairdry  amen_parking  amen_essentials  amen_hotwater  amen_tv  \n",
       "0             1             1                1              1        1  \n",
       "1             0             1                0              0        0  \n",
       "2             0             0                0              0        0  \n",
       "3             0             0                0              1        0  \n",
       "4             1             1                0              1        1  "
      ]
     },
     "execution_count": 274,
     "metadata": {},
     "output_type": "execute_result"
    }
   ],
   "source": [
    "amenities_df = pd.concat([melb.amen_wifi,melb.amen_kitchen,melb.amen_aircon,\n",
    "                          melb.amen_breakfast,melb.amen_pri_ent,melb.amen_hairdry\n",
    "                         ,melb.amen_parking,melb.amen_essentials,melb.amen_hotwater,melb.amen_tv], axis=1)\n",
    "\n",
    "amenities_df.columns = ['amen_wifi', 'amen_kitchen', 'amen_aircon', 'amen_breakfast', 'amen_pri_ent',\n",
    "                        'amen_hairdry', 'amen_parking', 'amen_essentials', 'amen_hotwater', 'amen_tv']\n",
    "\n",
    "amenities_df.head()"
   ]
  },
  {
   "cell_type": "code",
   "execution_count": 275,
   "metadata": {},
   "outputs": [],
   "source": [
    "melb = pd.concat([melb, amenities_df], axis=1)\n",
    "melb.drop('amenities', axis=1, inplace=True)"
   ]
  },
  {
   "cell_type": "markdown",
   "metadata": {},
   "source": [
    "### In the absence of using TfidfVectorizer, I will create another dataframe without including name and summary columns for now."
   ]
  },
  {
   "cell_type": "code",
   "execution_count": 276,
   "metadata": {
    "scrolled": true
   },
   "outputs": [
    {
     "data": {
      "text/plain": [
       "host_response_time               int64\n",
       "host_response_rate             float64\n",
       "host_is_superhost                int64\n",
       "host_identity_verified           int64\n",
       "latitude                       float64\n",
       "longitude                      float64\n",
       "accommodates                     int64\n",
       "bathrooms                      float64\n",
       "bedrooms                       float64\n",
       "beds                           float64\n",
       "price                          float64\n",
       "number_of_reviews                int64\n",
       "review_scores_rating           float64\n",
       "review_scores_accuracy         float64\n",
       "review_scores_cleanliness      float64\n",
       "review_scores_checkin          float64\n",
       "review_scores_communication    float64\n",
       "review_scores_location         float64\n",
       "review_scores_value            float64\n",
       "instant_bookable                 int64\n",
       "cancellation_policy              int64\n",
       "reviews_per_month              float64\n",
       "Entire home/apt                  uint8\n",
       "Private room                     uint8\n",
       "Apartment                        uint8\n",
       "House                            uint8\n",
       "Townhouse                        uint8\n",
       "amen_wifi                        int64\n",
       "amen_kitchen                     int64\n",
       "amen_aircon                      int64\n",
       "amen_breakfast                   int64\n",
       "amen_pri_ent                     int64\n",
       "amen_hairdry                     int64\n",
       "amen_parking                     int64\n",
       "amen_essentials                  int64\n",
       "amen_hotwater                    int64\n",
       "amen_tv                          int64\n",
       "dtype: object"
      ]
     },
     "execution_count": 276,
     "metadata": {},
     "output_type": "execute_result"
    }
   ],
   "source": [
    "melb1 = melb.drop(['name', 'summary'], axis=1)\n",
    "melb1.dtypes"
   ]
  },
  {
   "cell_type": "markdown",
   "metadata": {},
   "source": [
    "### Looking at the relationship of price VS number of guests a property can accommodate"
   ]
  },
  {
   "cell_type": "code",
   "execution_count": 277,
   "metadata": {
    "scrolled": true
   },
   "outputs": [
    {
     "data": {
      "text/plain": [
       "<matplotlib.axes._subplots.AxesSubplot at 0x1a1fe31080>"
      ]
     },
     "execution_count": 277,
     "metadata": {},
     "output_type": "execute_result"
    },
    {
     "data": {
      "image/png": "[encoded data removed]",
      "text/plain": [
       "<Figure size 1080x360 with 1 Axes>"
      ]
     },
     "metadata": {
      "needs_background": "light"
     },
     "output_type": "display_data"
    }
   ],
   "source": [
    "fig, ax = plt.subplots(figsize=(15,5))  \n",
    "sns.boxplot(melb1.accommodates, melb1.price)"
   ]
  },
  {
   "cell_type": "code",
   "execution_count": 278,
   "metadata": {
    "scrolled": true
   },
   "outputs": [
    {
     "data": {
      "text/plain": [
       "<matplotlib.axes._subplots.AxesSubplot at 0x1a28c175c0>"
      ]
     },
     "execution_count": 278,
     "metadata": {},
     "output_type": "execute_result"
    },
    {
     "data": {
      "image/png": "[encoded data removed]",
      "text/plain": [
       "<Figure size 1080x360 with 1 Axes>"
      ]
     },
     "metadata": {
      "needs_background": "light"
     },
     "output_type": "display_data"
    }
   ],
   "source": [
    "fig, ax = plt.subplots(figsize=(15,5))  \n",
    "sns.scatterplot(x=\"accommodates\", y=\"price\", hue=\"review_scores_rating\", data=melb1)"
   ]
  },
  {
   "cell_type": "code",
   "execution_count": 279,
   "metadata": {},
   "outputs": [
    {
     "data": {
      "text/plain": [
       "<matplotlib.axes._subplots.AxesSubplot at 0x1a2e518438>"
      ]
     },
     "execution_count": 279,
     "metadata": {},
     "output_type": "execute_result"
    },
    {
     "data": {
      "image/png": "[encoded data removed]",
      "text/plain": [
       "<Figure size 1080x360 with 1 Axes>"
      ]
     },
     "metadata": {
      "needs_background": "light"
     },
     "output_type": "display_data"
    }
   ],
   "source": [
    "fig, ax = plt.subplots(figsize=(15,5))\n",
    "sns.scatterplot(x=\"review_scores_rating\", y=\"reviews_per_month\", data=melb1)"
   ]
  },
  {
   "cell_type": "markdown",
   "metadata": {},
   "source": [
    "## Consideration 3: To review whether any of the feature columns are highly correlated with the target column and/or each other."
   ]
  },
  {
   "cell_type": "code",
   "execution_count": 280,
   "metadata": {},
   "outputs": [
    {
     "data": {
      "text/plain": [
       "<matplotlib.axes._subplots.AxesSubplot at 0x1a2eda59b0>"
      ]
     },
     "execution_count": 280,
     "metadata": {},
     "output_type": "execute_result"
    },
    {
     "data": {
      "image/png": "[encoded data removed]",
      "text/plain": [
       "<Figure size 720x720 with 2 Axes>"
      ]
     },
     "metadata": {
      "needs_background": "light"
     },
     "output_type": "display_data"
    }
   ],
   "source": [
    "fig, ax = plt.subplots(figsize=(10,10))  \n",
    "sns.heatmap(melb1.corr(), vmin=-1, vmax=1, cmap=\"coolwarm\", center=0, linewidths=.5, ax=ax)"
   ]
  },
  {
   "cell_type": "markdown",
   "metadata": {},
   "source": [
    "### We can see that the review scores for each category of cleanliness, value, etc. are highly correlated with each other and even the review_scores_rating, which makes sense because the overall review_scores_rating can be taken as a sum of all the other review scores put together. As such, to drop all other review scores and to rely on review_scores_rating only."
   ]
  },
  {
   "cell_type": "code",
   "execution_count": 281,
   "metadata": {},
   "outputs": [],
   "source": [
    "melb1.drop(['review_scores_accuracy','review_scores_cleanliness','review_scores_checkin',\n",
    "            'review_scores_communication','review_scores_location','review_scores_value'],axis=1, inplace=True)"
   ]
  },
  {
   "cell_type": "code",
   "execution_count": 282,
   "metadata": {
    "scrolled": true
   },
   "outputs": [
    {
     "data": {
      "text/plain": [
       "<matplotlib.axes._subplots.AxesSubplot at 0x1a2e6409b0>"
      ]
     },
     "execution_count": 282,
     "metadata": {},
     "output_type": "execute_result"
    },
    {
     "data": {
      "image/png": "[encoded data removed]",
      "text/plain": [
       "<Figure size 720x720 with 2 Axes>"
      ]
     },
     "metadata": {
      "needs_background": "light"
     },
     "output_type": "display_data"
    }
   ],
   "source": [
    "fig, ax = plt.subplots(figsize=(10,10))  \n",
    "sns.heatmap(melb1.corr(), vmin=-1, vmax=1, cmap=\"coolwarm\", center=0, linewidths=.5, ax=ax)"
   ]
  },
  {
   "cell_type": "code",
   "execution_count": 283,
   "metadata": {
    "scrolled": false
   },
   "outputs": [
    {
     "data": {
      "text/html": [
       "<div>\n",
       "<style scoped>\n",
       "    .dataframe tbody tr th:only-of-type {\n",
       "        vertical-align: middle;\n",
       "    }\n",
       "\n",
       "    .dataframe tbody tr th {\n",
       "        vertical-align: top;\n",
       "    }\n",
       "\n",
       "    .dataframe thead th {\n",
       "        text-align: right;\n",
       "    }\n",
       "</style>\n",
       "<table border=\"1\" class=\"dataframe\">\n",
       "  <thead>\n",
       "    <tr style=\"text-align: right;\">\n",
       "      <th></th>\n",
       "      <th>host_response_time</th>\n",
       "      <th>host_response_rate</th>\n",
       "      <th>host_is_superhost</th>\n",
       "      <th>host_identity_verified</th>\n",
       "      <th>latitude</th>\n",
       "      <th>longitude</th>\n",
       "      <th>accommodates</th>\n",
       "      <th>bathrooms</th>\n",
       "      <th>bedrooms</th>\n",
       "      <th>beds</th>\n",
       "      <th>...</th>\n",
       "      <th>amen_wifi</th>\n",
       "      <th>amen_kitchen</th>\n",
       "      <th>amen_aircon</th>\n",
       "      <th>amen_breakfast</th>\n",
       "      <th>amen_pri_ent</th>\n",
       "      <th>amen_hairdry</th>\n",
       "      <th>amen_parking</th>\n",
       "      <th>amen_essentials</th>\n",
       "      <th>amen_hotwater</th>\n",
       "      <th>amen_tv</th>\n",
       "    </tr>\n",
       "  </thead>\n",
       "  <tbody>\n",
       "    <tr>\n",
       "      <th>host_response_time</th>\n",
       "      <td>1.000000</td>\n",
       "      <td>-0.957311</td>\n",
       "      <td>0.350199</td>\n",
       "      <td>0.002537</td>\n",
       "      <td>-0.023448</td>\n",
       "      <td>-0.041551</td>\n",
       "      <td>-0.200688</td>\n",
       "      <td>-0.049854</td>\n",
       "      <td>-0.067673</td>\n",
       "      <td>-0.152257</td>\n",
       "      <td>...</td>\n",
       "      <td>0.075364</td>\n",
       "      <td>0.034684</td>\n",
       "      <td>0.147637</td>\n",
       "      <td>-0.006376</td>\n",
       "      <td>0.149991</td>\n",
       "      <td>0.334815</td>\n",
       "      <td>-0.013559</td>\n",
       "      <td>0.200180</td>\n",
       "      <td>0.484768</td>\n",
       "      <td>0.151293</td>\n",
       "    </tr>\n",
       "    <tr>\n",
       "      <th>host_response_rate</th>\n",
       "      <td>-0.957311</td>\n",
       "      <td>1.000000</td>\n",
       "      <td>-0.334060</td>\n",
       "      <td>-0.012808</td>\n",
       "      <td>0.015842</td>\n",
       "      <td>0.059555</td>\n",
       "      <td>0.192336</td>\n",
       "      <td>0.058697</td>\n",
       "      <td>0.075214</td>\n",
       "      <td>0.148401</td>\n",
       "      <td>...</td>\n",
       "      <td>-0.065773</td>\n",
       "      <td>-0.028267</td>\n",
       "      <td>-0.133437</td>\n",
       "      <td>0.000754</td>\n",
       "      <td>-0.146130</td>\n",
       "      <td>-0.318704</td>\n",
       "      <td>0.002835</td>\n",
       "      <td>-0.193261</td>\n",
       "      <td>-0.466074</td>\n",
       "      <td>-0.145816</td>\n",
       "    </tr>\n",
       "    <tr>\n",
       "      <th>host_is_superhost</th>\n",
       "      <td>0.350199</td>\n",
       "      <td>-0.334060</td>\n",
       "      <td>1.000000</td>\n",
       "      <td>0.103634</td>\n",
       "      <td>-0.034350</td>\n",
       "      <td>-0.046655</td>\n",
       "      <td>-0.066225</td>\n",
       "      <td>0.001138</td>\n",
       "      <td>-0.004083</td>\n",
       "      <td>-0.034030</td>\n",
       "      <td>...</td>\n",
       "      <td>0.060788</td>\n",
       "      <td>0.008731</td>\n",
       "      <td>0.079272</td>\n",
       "      <td>0.084113</td>\n",
       "      <td>0.103535</td>\n",
       "      <td>0.216537</td>\n",
       "      <td>0.013509</td>\n",
       "      <td>0.116168</td>\n",
       "      <td>0.275772</td>\n",
       "      <td>0.116857</td>\n",
       "    </tr>\n",
       "    <tr>\n",
       "      <th>host_identity_verified</th>\n",
       "      <td>0.002537</td>\n",
       "      <td>-0.012808</td>\n",
       "      <td>0.103634</td>\n",
       "      <td>1.000000</td>\n",
       "      <td>-0.016956</td>\n",
       "      <td>0.031408</td>\n",
       "      <td>-0.002074</td>\n",
       "      <td>0.001042</td>\n",
       "      <td>0.010018</td>\n",
       "      <td>0.004028</td>\n",
       "      <td>...</td>\n",
       "      <td>0.073634</td>\n",
       "      <td>0.027696</td>\n",
       "      <td>-0.016440</td>\n",
       "      <td>0.023934</td>\n",
       "      <td>-0.039737</td>\n",
       "      <td>0.030347</td>\n",
       "      <td>-0.003017</td>\n",
       "      <td>0.048238</td>\n",
       "      <td>0.032352</td>\n",
       "      <td>0.038252</td>\n",
       "    </tr>\n",
       "    <tr>\n",
       "      <th>latitude</th>\n",
       "      <td>-0.023448</td>\n",
       "      <td>0.015842</td>\n",
       "      <td>-0.034350</td>\n",
       "      <td>-0.016956</td>\n",
       "      <td>1.000000</td>\n",
       "      <td>-0.126179</td>\n",
       "      <td>-0.018084</td>\n",
       "      <td>-0.043898</td>\n",
       "      <td>-0.043095</td>\n",
       "      <td>-0.027144</td>\n",
       "      <td>...</td>\n",
       "      <td>0.024394</td>\n",
       "      <td>-0.002449</td>\n",
       "      <td>-0.010166</td>\n",
       "      <td>-0.005380</td>\n",
       "      <td>0.009974</td>\n",
       "      <td>0.003434</td>\n",
       "      <td>0.072718</td>\n",
       "      <td>-0.010161</td>\n",
       "      <td>-0.016170</td>\n",
       "      <td>0.045408</td>\n",
       "    </tr>\n",
       "    <tr>\n",
       "      <th>longitude</th>\n",
       "      <td>-0.041551</td>\n",
       "      <td>0.059555</td>\n",
       "      <td>-0.046655</td>\n",
       "      <td>0.031408</td>\n",
       "      <td>-0.126179</td>\n",
       "      <td>1.000000</td>\n",
       "      <td>0.054433</td>\n",
       "      <td>0.061858</td>\n",
       "      <td>0.095686</td>\n",
       "      <td>0.065584</td>\n",
       "      <td>...</td>\n",
       "      <td>0.152866</td>\n",
       "      <td>0.082435</td>\n",
       "      <td>0.034852</td>\n",
       "      <td>-0.124346</td>\n",
       "      <td>-0.130742</td>\n",
       "      <td>0.001094</td>\n",
       "      <td>-0.223290</td>\n",
       "      <td>-0.000022</td>\n",
       "      <td>-0.003884</td>\n",
       "      <td>0.009702</td>\n",
       "    </tr>\n",
       "    <tr>\n",
       "      <th>accommodates</th>\n",
       "      <td>-0.200688</td>\n",
       "      <td>0.192336</td>\n",
       "      <td>-0.066225</td>\n",
       "      <td>-0.002074</td>\n",
       "      <td>-0.018084</td>\n",
       "      <td>0.054433</td>\n",
       "      <td>1.000000</td>\n",
       "      <td>0.521999</td>\n",
       "      <td>0.803749</td>\n",
       "      <td>0.860723</td>\n",
       "      <td>...</td>\n",
       "      <td>-0.010409</td>\n",
       "      <td>-0.111686</td>\n",
       "      <td>-0.217365</td>\n",
       "      <td>0.062464</td>\n",
       "      <td>-0.144618</td>\n",
       "      <td>-0.202777</td>\n",
       "      <td>-0.191015</td>\n",
       "      <td>-0.084713</td>\n",
       "      <td>-0.161134</td>\n",
       "      <td>-0.211803</td>\n",
       "    </tr>\n",
       "    <tr>\n",
       "      <th>bathrooms</th>\n",
       "      <td>-0.049854</td>\n",
       "      <td>0.058697</td>\n",
       "      <td>0.001138</td>\n",
       "      <td>0.001042</td>\n",
       "      <td>-0.043898</td>\n",
       "      <td>0.061858</td>\n",
       "      <td>0.521999</td>\n",
       "      <td>1.000000</td>\n",
       "      <td>0.598791</td>\n",
       "      <td>0.517345</td>\n",
       "      <td>...</td>\n",
       "      <td>-0.018547</td>\n",
       "      <td>-0.075929</td>\n",
       "      <td>-0.121614</td>\n",
       "      <td>0.028206</td>\n",
       "      <td>-0.073732</td>\n",
       "      <td>-0.050707</td>\n",
       "      <td>-0.186773</td>\n",
       "      <td>-0.012582</td>\n",
       "      <td>-0.021991</td>\n",
       "      <td>-0.099936</td>\n",
       "    </tr>\n",
       "    <tr>\n",
       "      <th>bedrooms</th>\n",
       "      <td>-0.067673</td>\n",
       "      <td>0.075214</td>\n",
       "      <td>-0.004083</td>\n",
       "      <td>0.010018</td>\n",
       "      <td>-0.043095</td>\n",
       "      <td>0.095686</td>\n",
       "      <td>0.803749</td>\n",
       "      <td>0.598791</td>\n",
       "      <td>1.000000</td>\n",
       "      <td>0.767545</td>\n",
       "      <td>...</td>\n",
       "      <td>0.002051</td>\n",
       "      <td>-0.107767</td>\n",
       "      <td>-0.157230</td>\n",
       "      <td>0.044301</td>\n",
       "      <td>-0.127487</td>\n",
       "      <td>-0.105162</td>\n",
       "      <td>-0.233535</td>\n",
       "      <td>-0.034796</td>\n",
       "      <td>-0.067841</td>\n",
       "      <td>-0.151130</td>\n",
       "    </tr>\n",
       "    <tr>\n",
       "      <th>beds</th>\n",
       "      <td>-0.152257</td>\n",
       "      <td>0.148401</td>\n",
       "      <td>-0.034030</td>\n",
       "      <td>0.004028</td>\n",
       "      <td>-0.027144</td>\n",
       "      <td>0.065584</td>\n",
       "      <td>0.860723</td>\n",
       "      <td>0.517345</td>\n",
       "      <td>0.767545</td>\n",
       "      <td>1.000000</td>\n",
       "      <td>...</td>\n",
       "      <td>0.003665</td>\n",
       "      <td>-0.091722</td>\n",
       "      <td>-0.156177</td>\n",
       "      <td>0.051491</td>\n",
       "      <td>-0.125920</td>\n",
       "      <td>-0.135490</td>\n",
       "      <td>-0.181734</td>\n",
       "      <td>-0.032406</td>\n",
       "      <td>-0.113565</td>\n",
       "      <td>-0.149836</td>\n",
       "    </tr>\n",
       "    <tr>\n",
       "      <th>price</th>\n",
       "      <td>-0.050299</td>\n",
       "      <td>0.054076</td>\n",
       "      <td>-0.021523</td>\n",
       "      <td>0.012516</td>\n",
       "      <td>-0.017603</td>\n",
       "      <td>0.079672</td>\n",
       "      <td>0.542499</td>\n",
       "      <td>0.406114</td>\n",
       "      <td>0.531519</td>\n",
       "      <td>0.470038</td>\n",
       "      <td>...</td>\n",
       "      <td>0.042591</td>\n",
       "      <td>-0.035041</td>\n",
       "      <td>-0.196482</td>\n",
       "      <td>0.016039</td>\n",
       "      <td>-0.090005</td>\n",
       "      <td>-0.134740</td>\n",
       "      <td>-0.117099</td>\n",
       "      <td>-0.032914</td>\n",
       "      <td>-0.038713</td>\n",
       "      <td>-0.194299</td>\n",
       "    </tr>\n",
       "    <tr>\n",
       "      <th>number_of_reviews</th>\n",
       "      <td>-0.308824</td>\n",
       "      <td>0.289279</td>\n",
       "      <td>-0.375321</td>\n",
       "      <td>-0.163104</td>\n",
       "      <td>0.062461</td>\n",
       "      <td>-0.002219</td>\n",
       "      <td>0.086230</td>\n",
       "      <td>-0.056502</td>\n",
       "      <td>-0.032431</td>\n",
       "      <td>0.039647</td>\n",
       "      <td>...</td>\n",
       "      <td>-0.065334</td>\n",
       "      <td>-0.005160</td>\n",
       "      <td>-0.052094</td>\n",
       "      <td>-0.014174</td>\n",
       "      <td>-0.013482</td>\n",
       "      <td>-0.203719</td>\n",
       "      <td>0.032039</td>\n",
       "      <td>-0.100240</td>\n",
       "      <td>-0.254343</td>\n",
       "      <td>-0.112306</td>\n",
       "    </tr>\n",
       "    <tr>\n",
       "      <th>review_scores_rating</th>\n",
       "      <td>-0.336009</td>\n",
       "      <td>0.331391</td>\n",
       "      <td>-0.287004</td>\n",
       "      <td>-0.147750</td>\n",
       "      <td>0.039615</td>\n",
       "      <td>0.006842</td>\n",
       "      <td>0.084522</td>\n",
       "      <td>-0.030633</td>\n",
       "      <td>0.014968</td>\n",
       "      <td>0.047845</td>\n",
       "      <td>...</td>\n",
       "      <td>-0.070240</td>\n",
       "      <td>-0.061110</td>\n",
       "      <td>-0.079028</td>\n",
       "      <td>-0.014972</td>\n",
       "      <td>-0.063252</td>\n",
       "      <td>-0.214546</td>\n",
       "      <td>0.000377</td>\n",
       "      <td>-0.181100</td>\n",
       "      <td>-0.312118</td>\n",
       "      <td>-0.111858</td>\n",
       "    </tr>\n",
       "    <tr>\n",
       "      <th>instant_bookable</th>\n",
       "      <td>0.249397</td>\n",
       "      <td>-0.188122</td>\n",
       "      <td>0.035336</td>\n",
       "      <td>-0.163253</td>\n",
       "      <td>-0.018591</td>\n",
       "      <td>0.010078</td>\n",
       "      <td>-0.076253</td>\n",
       "      <td>0.029102</td>\n",
       "      <td>0.009797</td>\n",
       "      <td>-0.037585</td>\n",
       "      <td>...</td>\n",
       "      <td>0.035290</td>\n",
       "      <td>0.017062</td>\n",
       "      <td>0.078820</td>\n",
       "      <td>-0.018620</td>\n",
       "      <td>0.063742</td>\n",
       "      <td>0.128929</td>\n",
       "      <td>-0.047078</td>\n",
       "      <td>0.078753</td>\n",
       "      <td>0.139521</td>\n",
       "      <td>0.011369</td>\n",
       "    </tr>\n",
       "    <tr>\n",
       "      <th>cancellation_policy</th>\n",
       "      <td>-0.287302</td>\n",
       "      <td>0.277499</td>\n",
       "      <td>-0.114473</td>\n",
       "      <td>-0.068311</td>\n",
       "      <td>0.035659</td>\n",
       "      <td>-0.039329</td>\n",
       "      <td>0.253415</td>\n",
       "      <td>0.095647</td>\n",
       "      <td>0.148231</td>\n",
       "      <td>0.194755</td>\n",
       "      <td>...</td>\n",
       "      <td>-0.045035</td>\n",
       "      <td>-0.076057</td>\n",
       "      <td>-0.149952</td>\n",
       "      <td>0.106403</td>\n",
       "      <td>-0.043517</td>\n",
       "      <td>-0.222820</td>\n",
       "      <td>0.058192</td>\n",
       "      <td>-0.112682</td>\n",
       "      <td>-0.245160</td>\n",
       "      <td>-0.152172</td>\n",
       "    </tr>\n",
       "    <tr>\n",
       "      <th>reviews_per_month</th>\n",
       "      <td>-0.457842</td>\n",
       "      <td>0.414036</td>\n",
       "      <td>-0.380533</td>\n",
       "      <td>-0.010557</td>\n",
       "      <td>0.081319</td>\n",
       "      <td>-0.025085</td>\n",
       "      <td>0.143707</td>\n",
       "      <td>-0.047580</td>\n",
       "      <td>-0.009971</td>\n",
       "      <td>0.076200</td>\n",
       "      <td>...</td>\n",
       "      <td>-0.079684</td>\n",
       "      <td>-0.021891</td>\n",
       "      <td>-0.108440</td>\n",
       "      <td>-0.002846</td>\n",
       "      <td>-0.095557</td>\n",
       "      <td>-0.264425</td>\n",
       "      <td>0.048235</td>\n",
       "      <td>-0.152762</td>\n",
       "      <td>-0.365626</td>\n",
       "      <td>-0.111626</td>\n",
       "    </tr>\n",
       "    <tr>\n",
       "      <th>Entire home/apt</th>\n",
       "      <td>-0.190660</td>\n",
       "      <td>0.180406</td>\n",
       "      <td>-0.093945</td>\n",
       "      <td>-0.023716</td>\n",
       "      <td>-0.005257</td>\n",
       "      <td>-0.001132</td>\n",
       "      <td>0.503499</td>\n",
       "      <td>0.155667</td>\n",
       "      <td>0.369693</td>\n",
       "      <td>0.369728</td>\n",
       "      <td>...</td>\n",
       "      <td>0.041144</td>\n",
       "      <td>-0.162321</td>\n",
       "      <td>-0.254461</td>\n",
       "      <td>0.102888</td>\n",
       "      <td>-0.141988</td>\n",
       "      <td>-0.235466</td>\n",
       "      <td>-0.073732</td>\n",
       "      <td>-0.137831</td>\n",
       "      <td>-0.187623</td>\n",
       "      <td>-0.306228</td>\n",
       "    </tr>\n",
       "    <tr>\n",
       "      <th>Private room</th>\n",
       "      <td>0.184248</td>\n",
       "      <td>-0.173343</td>\n",
       "      <td>0.076684</td>\n",
       "      <td>0.012524</td>\n",
       "      <td>0.003271</td>\n",
       "      <td>0.005531</td>\n",
       "      <td>-0.478830</td>\n",
       "      <td>-0.153358</td>\n",
       "      <td>-0.352619</td>\n",
       "      <td>-0.372534</td>\n",
       "      <td>...</td>\n",
       "      <td>-0.041554</td>\n",
       "      <td>0.156542</td>\n",
       "      <td>0.236004</td>\n",
       "      <td>-0.110707</td>\n",
       "      <td>0.127253</td>\n",
       "      <td>0.210699</td>\n",
       "      <td>0.058028</td>\n",
       "      <td>0.101814</td>\n",
       "      <td>0.170888</td>\n",
       "      <td>0.273236</td>\n",
       "    </tr>\n",
       "    <tr>\n",
       "      <th>Apartment</th>\n",
       "      <td>-0.031520</td>\n",
       "      <td>0.010368</td>\n",
       "      <td>-0.011862</td>\n",
       "      <td>0.000518</td>\n",
       "      <td>0.015427</td>\n",
       "      <td>-0.239383</td>\n",
       "      <td>-0.071165</td>\n",
       "      <td>-0.200767</td>\n",
       "      <td>-0.181905</td>\n",
       "      <td>-0.121549</td>\n",
       "      <td>...</td>\n",
       "      <td>-0.034411</td>\n",
       "      <td>-0.126388</td>\n",
       "      <td>-0.096021</td>\n",
       "      <td>0.127688</td>\n",
       "      <td>0.129908</td>\n",
       "      <td>-0.084716</td>\n",
       "      <td>0.208514</td>\n",
       "      <td>-0.051142</td>\n",
       "      <td>-0.046216</td>\n",
       "      <td>-0.087920</td>\n",
       "    </tr>\n",
       "    <tr>\n",
       "      <th>House</th>\n",
       "      <td>0.100894</td>\n",
       "      <td>-0.078231</td>\n",
       "      <td>0.045521</td>\n",
       "      <td>-0.038142</td>\n",
       "      <td>-0.021167</td>\n",
       "      <td>0.120489</td>\n",
       "      <td>0.081552</td>\n",
       "      <td>0.179867</td>\n",
       "      <td>0.208067</td>\n",
       "      <td>0.132638</td>\n",
       "      <td>...</td>\n",
       "      <td>0.000684</td>\n",
       "      <td>0.038135</td>\n",
       "      <td>0.117626</td>\n",
       "      <td>-0.064782</td>\n",
       "      <td>-0.043494</td>\n",
       "      <td>0.133028</td>\n",
       "      <td>-0.167969</td>\n",
       "      <td>0.072801</td>\n",
       "      <td>0.115602</td>\n",
       "      <td>0.066826</td>\n",
       "    </tr>\n",
       "    <tr>\n",
       "      <th>Townhouse</th>\n",
       "      <td>0.016663</td>\n",
       "      <td>-0.015088</td>\n",
       "      <td>0.001055</td>\n",
       "      <td>-0.004321</td>\n",
       "      <td>0.002790</td>\n",
       "      <td>-0.002588</td>\n",
       "      <td>0.012083</td>\n",
       "      <td>0.089758</td>\n",
       "      <td>0.045884</td>\n",
       "      <td>0.018528</td>\n",
       "      <td>...</td>\n",
       "      <td>-0.019083</td>\n",
       "      <td>0.001543</td>\n",
       "      <td>-0.021784</td>\n",
       "      <td>-0.004046</td>\n",
       "      <td>-0.059152</td>\n",
       "      <td>0.007610</td>\n",
       "      <td>-0.046646</td>\n",
       "      <td>-0.020688</td>\n",
       "      <td>-0.008463</td>\n",
       "      <td>0.026538</td>\n",
       "    </tr>\n",
       "    <tr>\n",
       "      <th>amen_wifi</th>\n",
       "      <td>0.075364</td>\n",
       "      <td>-0.065773</td>\n",
       "      <td>0.060788</td>\n",
       "      <td>0.073634</td>\n",
       "      <td>0.024394</td>\n",
       "      <td>0.152866</td>\n",
       "      <td>-0.010409</td>\n",
       "      <td>-0.018547</td>\n",
       "      <td>0.002051</td>\n",
       "      <td>0.003665</td>\n",
       "      <td>...</td>\n",
       "      <td>1.000000</td>\n",
       "      <td>0.146961</td>\n",
       "      <td>0.087523</td>\n",
       "      <td>-0.014927</td>\n",
       "      <td>0.008160</td>\n",
       "      <td>0.151477</td>\n",
       "      <td>-0.027622</td>\n",
       "      <td>0.147840</td>\n",
       "      <td>0.101539</td>\n",
       "      <td>0.082857</td>\n",
       "    </tr>\n",
       "    <tr>\n",
       "      <th>amen_kitchen</th>\n",
       "      <td>0.034684</td>\n",
       "      <td>-0.028267</td>\n",
       "      <td>0.008731</td>\n",
       "      <td>0.027696</td>\n",
       "      <td>-0.002449</td>\n",
       "      <td>0.082435</td>\n",
       "      <td>-0.111686</td>\n",
       "      <td>-0.075929</td>\n",
       "      <td>-0.107767</td>\n",
       "      <td>-0.091722</td>\n",
       "      <td>...</td>\n",
       "      <td>0.146961</td>\n",
       "      <td>1.000000</td>\n",
       "      <td>0.143891</td>\n",
       "      <td>-0.065533</td>\n",
       "      <td>-0.009394</td>\n",
       "      <td>0.091450</td>\n",
       "      <td>0.041949</td>\n",
       "      <td>0.149015</td>\n",
       "      <td>0.079802</td>\n",
       "      <td>0.177183</td>\n",
       "    </tr>\n",
       "    <tr>\n",
       "      <th>amen_aircon</th>\n",
       "      <td>0.147637</td>\n",
       "      <td>-0.133437</td>\n",
       "      <td>0.079272</td>\n",
       "      <td>-0.016440</td>\n",
       "      <td>-0.010166</td>\n",
       "      <td>0.034852</td>\n",
       "      <td>-0.217365</td>\n",
       "      <td>-0.121614</td>\n",
       "      <td>-0.157230</td>\n",
       "      <td>-0.156177</td>\n",
       "      <td>...</td>\n",
       "      <td>0.087523</td>\n",
       "      <td>0.143891</td>\n",
       "      <td>1.000000</td>\n",
       "      <td>-0.008858</td>\n",
       "      <td>0.043606</td>\n",
       "      <td>0.217231</td>\n",
       "      <td>0.043642</td>\n",
       "      <td>0.129412</td>\n",
       "      <td>0.120642</td>\n",
       "      <td>0.277692</td>\n",
       "    </tr>\n",
       "    <tr>\n",
       "      <th>amen_breakfast</th>\n",
       "      <td>-0.006376</td>\n",
       "      <td>0.000754</td>\n",
       "      <td>0.084113</td>\n",
       "      <td>0.023934</td>\n",
       "      <td>-0.005380</td>\n",
       "      <td>-0.124346</td>\n",
       "      <td>0.062464</td>\n",
       "      <td>0.028206</td>\n",
       "      <td>0.044301</td>\n",
       "      <td>0.051491</td>\n",
       "      <td>...</td>\n",
       "      <td>-0.014927</td>\n",
       "      <td>-0.065533</td>\n",
       "      <td>-0.008858</td>\n",
       "      <td>1.000000</td>\n",
       "      <td>0.075096</td>\n",
       "      <td>0.075450</td>\n",
       "      <td>0.103989</td>\n",
       "      <td>0.072316</td>\n",
       "      <td>-0.023657</td>\n",
       "      <td>0.025942</td>\n",
       "    </tr>\n",
       "    <tr>\n",
       "      <th>amen_pri_ent</th>\n",
       "      <td>0.149991</td>\n",
       "      <td>-0.146130</td>\n",
       "      <td>0.103535</td>\n",
       "      <td>-0.039737</td>\n",
       "      <td>0.009974</td>\n",
       "      <td>-0.130742</td>\n",
       "      <td>-0.144618</td>\n",
       "      <td>-0.073732</td>\n",
       "      <td>-0.127487</td>\n",
       "      <td>-0.125920</td>\n",
       "      <td>...</td>\n",
       "      <td>0.008160</td>\n",
       "      <td>-0.009394</td>\n",
       "      <td>0.043606</td>\n",
       "      <td>0.075096</td>\n",
       "      <td>1.000000</td>\n",
       "      <td>0.128790</td>\n",
       "      <td>0.097504</td>\n",
       "      <td>0.097021</td>\n",
       "      <td>0.196379</td>\n",
       "      <td>0.077446</td>\n",
       "    </tr>\n",
       "    <tr>\n",
       "      <th>amen_hairdry</th>\n",
       "      <td>0.334815</td>\n",
       "      <td>-0.318704</td>\n",
       "      <td>0.216537</td>\n",
       "      <td>0.030347</td>\n",
       "      <td>0.003434</td>\n",
       "      <td>0.001094</td>\n",
       "      <td>-0.202777</td>\n",
       "      <td>-0.050707</td>\n",
       "      <td>-0.105162</td>\n",
       "      <td>-0.135490</td>\n",
       "      <td>...</td>\n",
       "      <td>0.151477</td>\n",
       "      <td>0.091450</td>\n",
       "      <td>0.217231</td>\n",
       "      <td>0.075450</td>\n",
       "      <td>0.128790</td>\n",
       "      <td>1.000000</td>\n",
       "      <td>0.013192</td>\n",
       "      <td>0.265921</td>\n",
       "      <td>0.357826</td>\n",
       "      <td>0.210576</td>\n",
       "    </tr>\n",
       "    <tr>\n",
       "      <th>amen_parking</th>\n",
       "      <td>-0.013559</td>\n",
       "      <td>0.002835</td>\n",
       "      <td>0.013509</td>\n",
       "      <td>-0.003017</td>\n",
       "      <td>0.072718</td>\n",
       "      <td>-0.223290</td>\n",
       "      <td>-0.191015</td>\n",
       "      <td>-0.186773</td>\n",
       "      <td>-0.233535</td>\n",
       "      <td>-0.181734</td>\n",
       "      <td>...</td>\n",
       "      <td>-0.027622</td>\n",
       "      <td>0.041949</td>\n",
       "      <td>0.043642</td>\n",
       "      <td>0.103989</td>\n",
       "      <td>0.097504</td>\n",
       "      <td>0.013192</td>\n",
       "      <td>1.000000</td>\n",
       "      <td>0.047162</td>\n",
       "      <td>-0.038520</td>\n",
       "      <td>0.077718</td>\n",
       "    </tr>\n",
       "    <tr>\n",
       "      <th>amen_essentials</th>\n",
       "      <td>0.200180</td>\n",
       "      <td>-0.193261</td>\n",
       "      <td>0.116168</td>\n",
       "      <td>0.048238</td>\n",
       "      <td>-0.010161</td>\n",
       "      <td>-0.000022</td>\n",
       "      <td>-0.084713</td>\n",
       "      <td>-0.012582</td>\n",
       "      <td>-0.034796</td>\n",
       "      <td>-0.032406</td>\n",
       "      <td>...</td>\n",
       "      <td>0.147840</td>\n",
       "      <td>0.149015</td>\n",
       "      <td>0.129412</td>\n",
       "      <td>0.072316</td>\n",
       "      <td>0.097021</td>\n",
       "      <td>0.265921</td>\n",
       "      <td>0.047162</td>\n",
       "      <td>1.000000</td>\n",
       "      <td>0.233185</td>\n",
       "      <td>0.152951</td>\n",
       "    </tr>\n",
       "    <tr>\n",
       "      <th>amen_hotwater</th>\n",
       "      <td>0.484768</td>\n",
       "      <td>-0.466074</td>\n",
       "      <td>0.275772</td>\n",
       "      <td>0.032352</td>\n",
       "      <td>-0.016170</td>\n",
       "      <td>-0.003884</td>\n",
       "      <td>-0.161134</td>\n",
       "      <td>-0.021991</td>\n",
       "      <td>-0.067841</td>\n",
       "      <td>-0.113565</td>\n",
       "      <td>...</td>\n",
       "      <td>0.101539</td>\n",
       "      <td>0.079802</td>\n",
       "      <td>0.120642</td>\n",
       "      <td>-0.023657</td>\n",
       "      <td>0.196379</td>\n",
       "      <td>0.357826</td>\n",
       "      <td>-0.038520</td>\n",
       "      <td>0.233185</td>\n",
       "      <td>1.000000</td>\n",
       "      <td>0.169199</td>\n",
       "    </tr>\n",
       "    <tr>\n",
       "      <th>amen_tv</th>\n",
       "      <td>0.151293</td>\n",
       "      <td>-0.145816</td>\n",
       "      <td>0.116857</td>\n",
       "      <td>0.038252</td>\n",
       "      <td>0.045408</td>\n",
       "      <td>0.009702</td>\n",
       "      <td>-0.211803</td>\n",
       "      <td>-0.099936</td>\n",
       "      <td>-0.151130</td>\n",
       "      <td>-0.149836</td>\n",
       "      <td>...</td>\n",
       "      <td>0.082857</td>\n",
       "      <td>0.177183</td>\n",
       "      <td>0.277692</td>\n",
       "      <td>0.025942</td>\n",
       "      <td>0.077446</td>\n",
       "      <td>0.210576</td>\n",
       "      <td>0.077718</td>\n",
       "      <td>0.152951</td>\n",
       "      <td>0.169199</td>\n",
       "      <td>1.000000</td>\n",
       "    </tr>\n",
       "  </tbody>\n",
       "</table>\n",
       "<p>31 rows × 31 columns</p>\n",
       "</div>"
      ],
      "text/plain": [
       "                        host_response_time  host_response_rate  \\\n",
       "host_response_time                1.000000           -0.957311   \n",
       "host_response_rate               -0.957311            1.000000   \n",
       "host_is_superhost                 0.350199           -0.334060   \n",
       "host_identity_verified            0.002537           -0.012808   \n",
       "latitude                         -0.023448            0.015842   \n",
       "longitude                        -0.041551            0.059555   \n",
       "accommodates                     -0.200688            0.192336   \n",
       "bathrooms                        -0.049854            0.058697   \n",
       "bedrooms                         -0.067673            0.075214   \n",
       "beds                             -0.152257            0.148401   \n",
       "price                            -0.050299            0.054076   \n",
       "number_of_reviews                -0.308824            0.289279   \n",
       "review_scores_rating             -0.336009            0.331391   \n",
       "instant_bookable                  0.249397           -0.188122   \n",
       "cancellation_policy              -0.287302            0.277499   \n",
       "reviews_per_month                -0.457842            0.414036   \n",
       "Entire home/apt                  -0.190660            0.180406   \n",
       "Private room                      0.184248           -0.173343   \n",
       "Apartment                        -0.031520            0.010368   \n",
       "House                             0.100894           -0.078231   \n",
       "Townhouse                         0.016663           -0.015088   \n",
       "amen_wifi                         0.075364           -0.065773   \n",
       "amen_kitchen                      0.034684           -0.028267   \n",
       "amen_aircon                       0.147637           -0.133437   \n",
       "amen_breakfast                   -0.006376            0.000754   \n",
       "amen_pri_ent                      0.149991           -0.146130   \n",
       "amen_hairdry                      0.334815           -0.318704   \n",
       "amen_parking                     -0.013559            0.002835   \n",
       "amen_essentials                   0.200180           -0.193261   \n",
       "amen_hotwater                     0.484768           -0.466074   \n",
       "amen_tv                           0.151293           -0.145816   \n",
       "\n",
       "                        host_is_superhost  host_identity_verified  latitude  \\\n",
       "host_response_time               0.350199                0.002537 -0.023448   \n",
       "host_response_rate              -0.334060               -0.012808  0.015842   \n",
       "host_is_superhost                1.000000                0.103634 -0.034350   \n",
       "host_identity_verified           0.103634                1.000000 -0.016956   \n",
       "latitude                        -0.034350               -0.016956  1.000000   \n",
       "longitude                       -0.046655                0.031408 -0.126179   \n",
       "accommodates                    -0.066225               -0.002074 -0.018084   \n",
       "bathrooms                        0.001138                0.001042 -0.043898   \n",
       "bedrooms                        -0.004083                0.010018 -0.043095   \n",
       "beds                            -0.034030                0.004028 -0.027144   \n",
       "price                           -0.021523                0.012516 -0.017603   \n",
       "number_of_reviews               -0.375321               -0.163104  0.062461   \n",
       "review_scores_rating            -0.287004               -0.147750  0.039615   \n",
       "instant_bookable                 0.035336               -0.163253 -0.018591   \n",
       "cancellation_policy             -0.114473               -0.068311  0.035659   \n",
       "reviews_per_month               -0.380533               -0.010557  0.081319   \n",
       "Entire home/apt                 -0.093945               -0.023716 -0.005257   \n",
       "Private room                     0.076684                0.012524  0.003271   \n",
       "Apartment                       -0.011862                0.000518  0.015427   \n",
       "House                            0.045521               -0.038142 -0.021167   \n",
       "Townhouse                        0.001055               -0.004321  0.002790   \n",
       "amen_wifi                        0.060788                0.073634  0.024394   \n",
       "amen_kitchen                     0.008731                0.027696 -0.002449   \n",
       "amen_aircon                      0.079272               -0.016440 -0.010166   \n",
       "amen_breakfast                   0.084113                0.023934 -0.005380   \n",
       "amen_pri_ent                     0.103535               -0.039737  0.009974   \n",
       "amen_hairdry                     0.216537                0.030347  0.003434   \n",
       "amen_parking                     0.013509               -0.003017  0.072718   \n",
       "amen_essentials                  0.116168                0.048238 -0.010161   \n",
       "amen_hotwater                    0.275772                0.032352 -0.016170   \n",
       "amen_tv                          0.116857                0.038252  0.045408   \n",
       "\n",
       "                        longitude  accommodates  bathrooms  bedrooms  \\\n",
       "host_response_time      -0.041551     -0.200688  -0.049854 -0.067673   \n",
       "host_response_rate       0.059555      0.192336   0.058697  0.075214   \n",
       "host_is_superhost       -0.046655     -0.066225   0.001138 -0.004083   \n",
       "host_identity_verified   0.031408     -0.002074   0.001042  0.010018   \n",
       "latitude                -0.126179     -0.018084  -0.043898 -0.043095   \n",
       "longitude                1.000000      0.054433   0.061858  0.095686   \n",
       "accommodates             0.054433      1.000000   0.521999  0.803749   \n",
       "bathrooms                0.061858      0.521999   1.000000  0.598791   \n",
       "bedrooms                 0.095686      0.803749   0.598791  1.000000   \n",
       "beds                     0.065584      0.860723   0.517345  0.767545   \n",
       "price                    0.079672      0.542499   0.406114  0.531519   \n",
       "number_of_reviews       -0.002219      0.086230  -0.056502 -0.032431   \n",
       "review_scores_rating     0.006842      0.084522  -0.030633  0.014968   \n",
       "instant_bookable         0.010078     -0.076253   0.029102  0.009797   \n",
       "cancellation_policy     -0.039329      0.253415   0.095647  0.148231   \n",
       "reviews_per_month       -0.025085      0.143707  -0.047580 -0.009971   \n",
       "Entire home/apt         -0.001132      0.503499   0.155667  0.369693   \n",
       "Private room             0.005531     -0.478830  -0.153358 -0.352619   \n",
       "Apartment               -0.239383     -0.071165  -0.200767 -0.181905   \n",
       "House                    0.120489      0.081552   0.179867  0.208067   \n",
       "Townhouse               -0.002588      0.012083   0.089758  0.045884   \n",
       "amen_wifi                0.152866     -0.010409  -0.018547  0.002051   \n",
       "amen_kitchen             0.082435     -0.111686  -0.075929 -0.107767   \n",
       "amen_aircon              0.034852     -0.217365  -0.121614 -0.157230   \n",
       "amen_breakfast          -0.124346      0.062464   0.028206  0.044301   \n",
       "amen_pri_ent            -0.130742     -0.144618  -0.073732 -0.127487   \n",
       "amen_hairdry             0.001094     -0.202777  -0.050707 -0.105162   \n",
       "amen_parking            -0.223290     -0.191015  -0.186773 -0.233535   \n",
       "amen_essentials         -0.000022     -0.084713  -0.012582 -0.034796   \n",
       "amen_hotwater           -0.003884     -0.161134  -0.021991 -0.067841   \n",
       "amen_tv                  0.009702     -0.211803  -0.099936 -0.151130   \n",
       "\n",
       "                            beds    ...     amen_wifi  amen_kitchen  \\\n",
       "host_response_time     -0.152257    ...      0.075364      0.034684   \n",
       "host_response_rate      0.148401    ...     -0.065773     -0.028267   \n",
       "host_is_superhost      -0.034030    ...      0.060788      0.008731   \n",
       "host_identity_verified  0.004028    ...      0.073634      0.027696   \n",
       "latitude               -0.027144    ...      0.024394     -0.002449   \n",
       "longitude               0.065584    ...      0.152866      0.082435   \n",
       "accommodates            0.860723    ...     -0.010409     -0.111686   \n",
       "bathrooms               0.517345    ...     -0.018547     -0.075929   \n",
       "bedrooms                0.767545    ...      0.002051     -0.107767   \n",
       "beds                    1.000000    ...      0.003665     -0.091722   \n",
       "price                   0.470038    ...      0.042591     -0.035041   \n",
       "number_of_reviews       0.039647    ...     -0.065334     -0.005160   \n",
       "review_scores_rating    0.047845    ...     -0.070240     -0.061110   \n",
       "instant_bookable       -0.037585    ...      0.035290      0.017062   \n",
       "cancellation_policy     0.194755    ...     -0.045035     -0.076057   \n",
       "reviews_per_month       0.076200    ...     -0.079684     -0.021891   \n",
       "Entire home/apt         0.369728    ...      0.041144     -0.162321   \n",
       "Private room           -0.372534    ...     -0.041554      0.156542   \n",
       "Apartment              -0.121549    ...     -0.034411     -0.126388   \n",
       "House                   0.132638    ...      0.000684      0.038135   \n",
       "Townhouse               0.018528    ...     -0.019083      0.001543   \n",
       "amen_wifi               0.003665    ...      1.000000      0.146961   \n",
       "amen_kitchen           -0.091722    ...      0.146961      1.000000   \n",
       "amen_aircon            -0.156177    ...      0.087523      0.143891   \n",
       "amen_breakfast          0.051491    ...     -0.014927     -0.065533   \n",
       "amen_pri_ent           -0.125920    ...      0.008160     -0.009394   \n",
       "amen_hairdry           -0.135490    ...      0.151477      0.091450   \n",
       "amen_parking           -0.181734    ...     -0.027622      0.041949   \n",
       "amen_essentials        -0.032406    ...      0.147840      0.149015   \n",
       "amen_hotwater          -0.113565    ...      0.101539      0.079802   \n",
       "amen_tv                -0.149836    ...      0.082857      0.177183   \n",
       "\n",
       "                        amen_aircon  amen_breakfast  amen_pri_ent  \\\n",
       "host_response_time         0.147637       -0.006376      0.149991   \n",
       "host_response_rate        -0.133437        0.000754     -0.146130   \n",
       "host_is_superhost          0.079272        0.084113      0.103535   \n",
       "host_identity_verified    -0.016440        0.023934     -0.039737   \n",
       "latitude                  -0.010166       -0.005380      0.009974   \n",
       "longitude                  0.034852       -0.124346     -0.130742   \n",
       "accommodates              -0.217365        0.062464     -0.144618   \n",
       "bathrooms                 -0.121614        0.028206     -0.073732   \n",
       "bedrooms                  -0.157230        0.044301     -0.127487   \n",
       "beds                      -0.156177        0.051491     -0.125920   \n",
       "price                     -0.196482        0.016039     -0.090005   \n",
       "number_of_reviews         -0.052094       -0.014174     -0.013482   \n",
       "review_scores_rating      -0.079028       -0.014972     -0.063252   \n",
       "instant_bookable           0.078820       -0.018620      0.063742   \n",
       "cancellation_policy       -0.149952        0.106403     -0.043517   \n",
       "reviews_per_month         -0.108440       -0.002846     -0.095557   \n",
       "Entire home/apt           -0.254461        0.102888     -0.141988   \n",
       "Private room               0.236004       -0.110707      0.127253   \n",
       "Apartment                 -0.096021        0.127688      0.129908   \n",
       "House                      0.117626       -0.064782     -0.043494   \n",
       "Townhouse                 -0.021784       -0.004046     -0.059152   \n",
       "amen_wifi                  0.087523       -0.014927      0.008160   \n",
       "amen_kitchen               0.143891       -0.065533     -0.009394   \n",
       "amen_aircon                1.000000       -0.008858      0.043606   \n",
       "amen_breakfast            -0.008858        1.000000      0.075096   \n",
       "amen_pri_ent               0.043606        0.075096      1.000000   \n",
       "amen_hairdry               0.217231        0.075450      0.128790   \n",
       "amen_parking               0.043642        0.103989      0.097504   \n",
       "amen_essentials            0.129412        0.072316      0.097021   \n",
       "amen_hotwater              0.120642       -0.023657      0.196379   \n",
       "amen_tv                    0.277692        0.025942      0.077446   \n",
       "\n",
       "                        amen_hairdry  amen_parking  amen_essentials  \\\n",
       "host_response_time          0.334815     -0.013559         0.200180   \n",
       "host_response_rate         -0.318704      0.002835        -0.193261   \n",
       "host_is_superhost           0.216537      0.013509         0.116168   \n",
       "host_identity_verified      0.030347     -0.003017         0.048238   \n",
       "latitude                    0.003434      0.072718        -0.010161   \n",
       "longitude                   0.001094     -0.223290        -0.000022   \n",
       "accommodates               -0.202777     -0.191015        -0.084713   \n",
       "bathrooms                  -0.050707     -0.186773        -0.012582   \n",
       "bedrooms                   -0.105162     -0.233535        -0.034796   \n",
       "beds                       -0.135490     -0.181734        -0.032406   \n",
       "price                      -0.134740     -0.117099        -0.032914   \n",
       "number_of_reviews          -0.203719      0.032039        -0.100240   \n",
       "review_scores_rating       -0.214546      0.000377        -0.181100   \n",
       "instant_bookable            0.128929     -0.047078         0.078753   \n",
       "cancellation_policy        -0.222820      0.058192        -0.112682   \n",
       "reviews_per_month          -0.264425      0.048235        -0.152762   \n",
       "Entire home/apt            -0.235466     -0.073732        -0.137831   \n",
       "Private room                0.210699      0.058028         0.101814   \n",
       "Apartment                  -0.084716      0.208514        -0.051142   \n",
       "House                       0.133028     -0.167969         0.072801   \n",
       "Townhouse                   0.007610     -0.046646        -0.020688   \n",
       "amen_wifi                   0.151477     -0.027622         0.147840   \n",
       "amen_kitchen                0.091450      0.041949         0.149015   \n",
       "amen_aircon                 0.217231      0.043642         0.129412   \n",
       "amen_breakfast              0.075450      0.103989         0.072316   \n",
       "amen_pri_ent                0.128790      0.097504         0.097021   \n",
       "amen_hairdry                1.000000      0.013192         0.265921   \n",
       "amen_parking                0.013192      1.000000         0.047162   \n",
       "amen_essentials             0.265921      0.047162         1.000000   \n",
       "amen_hotwater               0.357826     -0.038520         0.233185   \n",
       "amen_tv                     0.210576      0.077718         0.152951   \n",
       "\n",
       "                        amen_hotwater   amen_tv  \n",
       "host_response_time           0.484768  0.151293  \n",
       "host_response_rate          -0.466074 -0.145816  \n",
       "host_is_superhost            0.275772  0.116857  \n",
       "host_identity_verified       0.032352  0.038252  \n",
       "latitude                    -0.016170  0.045408  \n",
       "longitude                   -0.003884  0.009702  \n",
       "accommodates                -0.161134 -0.211803  \n",
       "bathrooms                   -0.021991 -0.099936  \n",
       "bedrooms                    -0.067841 -0.151130  \n",
       "beds                        -0.113565 -0.149836  \n",
       "price                       -0.038713 -0.194299  \n",
       "number_of_reviews           -0.254343 -0.112306  \n",
       "review_scores_rating        -0.312118 -0.111858  \n",
       "instant_bookable             0.139521  0.011369  \n",
       "cancellation_policy         -0.245160 -0.152172  \n",
       "reviews_per_month           -0.365626 -0.111626  \n",
       "Entire home/apt             -0.187623 -0.306228  \n",
       "Private room                 0.170888  0.273236  \n",
       "Apartment                   -0.046216 -0.087920  \n",
       "House                        0.115602  0.066826  \n",
       "Townhouse                   -0.008463  0.026538  \n",
       "amen_wifi                    0.101539  0.082857  \n",
       "amen_kitchen                 0.079802  0.177183  \n",
       "amen_aircon                  0.120642  0.277692  \n",
       "amen_breakfast              -0.023657  0.025942  \n",
       "amen_pri_ent                 0.196379  0.077446  \n",
       "amen_hairdry                 0.357826  0.210576  \n",
       "amen_parking                -0.038520  0.077718  \n",
       "amen_essentials              0.233185  0.152951  \n",
       "amen_hotwater                1.000000  0.169199  \n",
       "amen_tv                      0.169199  1.000000  \n",
       "\n",
       "[31 rows x 31 columns]"
      ]
     },
     "execution_count": 283,
     "metadata": {},
     "output_type": "execute_result"
    }
   ],
   "source": [
    "melb1.corr()"
   ]
  },
  {
   "cell_type": "code",
   "execution_count": 284,
   "metadata": {},
   "outputs": [
    {
     "data": {
      "text/plain": [
       "0.6792408582273046"
      ]
     },
     "execution_count": 284,
     "metadata": {},
     "output_type": "execute_result"
    }
   ],
   "source": [
    "melb1.number_of_reviews.corr(melb1.reviews_per_month)"
   ]
  },
  {
   "cell_type": "markdown",
   "metadata": {},
   "source": [
    "### We drop host_response_rate as it is highly correlated to host_response_time.\n",
    "### We also drop bedrooms and beds as it is highly correlated to accommodates."
   ]
  },
  {
   "cell_type": "code",
   "execution_count": 285,
   "metadata": {},
   "outputs": [
    {
     "data": {
      "text/plain": [
       "<matplotlib.axes._subplots.AxesSubplot at 0x1a2db6c940>"
      ]
     },
     "execution_count": 285,
     "metadata": {},
     "output_type": "execute_result"
    },
    {
     "data": {
      "image/png": "[encoded data removed]",
      "text/plain": [
       "<Figure size 720x720 with 2 Axes>"
      ]
     },
     "metadata": {
      "needs_background": "light"
     },
     "output_type": "display_data"
    }
   ],
   "source": [
    "fig, ax = plt.subplots(figsize=(10,10))  \n",
    "sns.heatmap(melb1.corr(), vmin=-1, vmax=1, cmap=\"coolwarm\", center=0, linewidths=.5, ax=ax)"
   ]
  },
  {
   "cell_type": "code",
   "execution_count": 286,
   "metadata": {},
   "outputs": [],
   "source": [
    "melb1.drop(['host_response_rate', 'bedrooms', 'beds'],axis=1, inplace=True)"
   ]
  },
  {
   "cell_type": "code",
   "execution_count": 287,
   "metadata": {},
   "outputs": [],
   "source": [
    "melb1.drop('number_of_reviews',axis=1, inplace=True)"
   ]
  },
  {
   "cell_type": "code",
   "execution_count": 288,
   "metadata": {
    "scrolled": true
   },
   "outputs": [
    {
     "data": {
      "text/plain": [
       "<matplotlib.axes._subplots.AxesSubplot at 0x1a28ae4828>"
      ]
     },
     "execution_count": 288,
     "metadata": {},
     "output_type": "execute_result"
    },
    {
     "data": {
      "image/png": "[encoded data removed]",
      "text/plain": [
       "<Figure size 720x720 with 2 Axes>"
      ]
     },
     "metadata": {
      "needs_background": "light"
     },
     "output_type": "display_data"
    }
   ],
   "source": [
    "fig, ax = plt.subplots(figsize=(10,10))  \n",
    "sns.heatmap(melb1.corr(), vmin=-1, vmax=1, cmap=\"coolwarm\", center=0, linewidths=.5, ax=ax)"
   ]
  },
  {
   "cell_type": "code",
   "execution_count": 295,
   "metadata": {},
   "outputs": [
    {
     "data": {
      "text/plain": [
       "4705"
      ]
     },
     "execution_count": 295,
     "metadata": {},
     "output_type": "execute_result"
    }
   ],
   "source": [
    "melb1.reviews_per_month[melb1['reviews_per_month']==0].count()"
   ]
  },
  {
   "cell_type": "code",
   "execution_count": 296,
   "metadata": {},
   "outputs": [],
   "source": [
    "melb2 = melb1.drop(melb1[melb1['reviews_per_month']==0].index)"
   ]
  },
  {
   "cell_type": "code",
   "execution_count": 297,
   "metadata": {},
   "outputs": [
    {
     "data": {
      "text/plain": [
       "(16745, 27)"
      ]
     },
     "execution_count": 297,
     "metadata": {},
     "output_type": "execute_result"
    }
   ],
   "source": [
    "melb2.shape"
   ]
  },
  {
   "cell_type": "code",
   "execution_count": 298,
   "metadata": {},
   "outputs": [
    {
     "data": {
      "text/plain": [
       "0"
      ]
     },
     "execution_count": 298,
     "metadata": {},
     "output_type": "execute_result"
    }
   ],
   "source": [
    "melb2.reviews_per_month[melb1['reviews_per_month']==0].count()"
   ]
  },
  {
   "cell_type": "markdown",
   "metadata": {},
   "source": [
    "## Consideration 4: As a proxy to how popular or attractive a property listing might be on airbnb's page, we will be using reviews_per_month as our target column.\n",
    "\n",
    "### Some assumptions taken include:\n",
    "* Only guests who have stayed in the property will make a review.\n",
    "* The fact that a review was provided, indicates that the guest did book the place and that the property listed on the website was attractive enough, regardless of how satisfied the guest was after the stay.\n",
    "* We first start off by grouping the reviews_per_month into 2 bins to indicate how much success a listing has had up to date.\n",
    "\n",
    "### We will be using the following groupings:\n",
    "1. Not Popular: <= 1 reviews_per_month\n",
    "2. Popular: > 1 reviews_per_month"
   ]
  },
  {
   "cell_type": "code",
   "execution_count": 299,
   "metadata": {
    "scrolled": true
   },
   "outputs": [
    {
     "data": {
      "text/plain": [
       "<matplotlib.axes._subplots.AxesSubplot at 0x1a2747b7f0>"
      ]
     },
     "execution_count": 299,
     "metadata": {},
     "output_type": "execute_result"
    },
    {
     "data": {
      "image/png": "[encoded data removed]",
      "text/plain": [
       "<Figure size 1080x360 with 1 Axes>"
      ]
     },
     "metadata": {
      "needs_background": "light"
     },
     "output_type": "display_data"
    }
   ],
   "source": [
    "melb2.reviews_per_month.hist(bins=20, figsize=(15,5))"
   ]
  },
  {
   "cell_type": "code",
   "execution_count": 300,
   "metadata": {},
   "outputs": [
    {
     "name": "stderr",
     "output_type": "stream",
     "text": [
      "/Users/FeliciaWilliams/anaconda3/lib/python3.7/site-packages/ipykernel_launcher.py:8: UserWarning: Pandas doesn't allow columns to be created via a new attribute name - see https://pandas.pydata.org/pandas-docs/stable/indexing.html#attribute-access\n",
      "  \n"
     ]
    }
   ],
   "source": [
    "def f(row):\n",
    "    if row['reviews_per_month'] <= 1:\n",
    "        val = 0   \n",
    "    else:\n",
    "        val = 1\n",
    "    return val\n",
    "\n",
    "melb2.pop_2class = melb2.apply(f, axis=1)"
   ]
  },
  {
   "cell_type": "code",
   "execution_count": 301,
   "metadata": {
    "scrolled": true
   },
   "outputs": [
    {
     "data": {
      "image/png": "[encoded data removed]",
      "text/plain": [
       "<Figure size 432x288 with 1 Axes>"
      ]
     },
     "metadata": {
      "needs_background": "light"
     },
     "output_type": "display_data"
    }
   ],
   "source": [
    "sns.countplot(x=melb2.pop_2class,data=melb2.pop_2class, palette='hls')\n",
    "plt.show()"
   ]
  },
  {
   "cell_type": "code",
   "execution_count": 302,
   "metadata": {},
   "outputs": [
    {
     "data": {
      "text/plain": [
       "0    8874\n",
       "1    7871\n",
       "dtype: int64"
      ]
     },
     "execution_count": 302,
     "metadata": {},
     "output_type": "execute_result"
    }
   ],
   "source": [
    "melb2.pop_2class.value_counts()"
   ]
  },
  {
   "cell_type": "markdown",
   "metadata": {},
   "source": [
    "### The data is imbalanced and we will seek to use SMOTE to try and balance out the data."
   ]
  },
  {
   "cell_type": "code",
   "execution_count": 303,
   "metadata": {},
   "outputs": [],
   "source": [
    "melb2 = pd.concat([melb2, melb2.pop_2class], axis=1)"
   ]
  },
  {
   "cell_type": "code",
   "execution_count": 304,
   "metadata": {},
   "outputs": [
    {
     "data": {
      "text/plain": [
       "<matplotlib.axes._subplots.AxesSubplot at 0x1a2dc809e8>"
      ]
     },
     "execution_count": 304,
     "metadata": {},
     "output_type": "execute_result"
    },
    {
     "data": {
      "image/png": "[encoded data removed]",
      "text/plain": [
       "<Figure size 720x720 with 2 Axes>"
      ]
     },
     "metadata": {
      "needs_background": "light"
     },
     "output_type": "display_data"
    }
   ],
   "source": [
    "fig, ax = plt.subplots(figsize=(10,10))  \n",
    "sns.heatmap(melb2.corr(), vmin=-1, vmax=1, cmap=\"coolwarm\", center=0, linewidths=.5, ax=ax)"
   ]
  },
  {
   "cell_type": "code",
   "execution_count": 305,
   "metadata": {},
   "outputs": [],
   "source": [
    "melb2.rename({0: 'pop_2class'}, axis=1, inplace=True)"
   ]
  },
  {
   "cell_type": "markdown",
   "metadata": {},
   "source": [
    "# Applying SMOTE"
   ]
  },
  {
   "cell_type": "code",
   "execution_count": 306,
   "metadata": {},
   "outputs": [],
   "source": [
    "X = melb2.drop(['pop_2class', 'reviews_per_month'], axis=1)\n",
    "y_2class = melb2.pop_2class"
   ]
  },
  {
   "cell_type": "code",
   "execution_count": 307,
   "metadata": {},
   "outputs": [
    {
     "data": {
      "text/plain": [
       "26"
      ]
     },
     "execution_count": 307,
     "metadata": {},
     "output_type": "execute_result"
    }
   ],
   "source": [
    "len(X.columns)"
   ]
  },
  {
   "cell_type": "code",
   "execution_count": 308,
   "metadata": {},
   "outputs": [],
   "source": [
    "from imblearn.over_sampling import SMOTE\n",
    " \n",
    "smote = SMOTE(kind = \"regular\")\n",
    "X_sm, y_sm = smote.fit_sample(X, y_2class)"
   ]
  },
  {
   "cell_type": "code",
   "execution_count": 309,
   "metadata": {
    "scrolled": true
   },
   "outputs": [
    {
     "name": "stdout",
     "output_type": "stream",
     "text": [
      "0: 8874\n",
      "1: 8874\n"
     ]
    }
   ],
   "source": [
    "count0=0\n",
    "count1=0\n",
    "\n",
    "for i in y_sm:\n",
    "    if i == 0:\n",
    "        count0 += 1\n",
    "    else:\n",
    "        count1 += 1\n",
    "\n",
    "print(\"0: \" + str(count0) + \"\\n\" + \"1: \" + str(count1))"
   ]
  },
  {
   "cell_type": "markdown",
   "metadata": {},
   "source": [
    "## 3. Building the Model\n",
    "\n",
    "### For this problem, we will be building a Logistic Regression model to predict how 'popular' a property listing is based on all the other features shown on a property listing.\n",
    "---"
   ]
  },
  {
   "cell_type": "markdown",
   "metadata": {},
   "source": [
    "### *3.1 Train_Test_Split*"
   ]
  },
  {
   "cell_type": "code",
   "execution_count": 310,
   "metadata": {
    "scrolled": true
   },
   "outputs": [
    {
     "name": "stdout",
     "output_type": "stream",
     "text": [
      "Testing score: 0.7721433400946586\n",
      "Training score: 0.7638043723236421\n"
     ]
    }
   ],
   "source": [
    "from sklearn.linear_model import LogisticRegression\n",
    "LR = LogisticRegression()\n",
    "\n",
    "from sklearn.model_selection import train_test_split\n",
    "\n",
    "X_train, X_test, y_train, y_test = train_test_split(X_sm,y_sm, random_state=111)\n",
    "\n",
    "model = LR.fit(X_train,y_train)\n",
    "\n",
    "y_pred = LR.predict(X_test)\n",
    "\n",
    "print('Testing score: ' + str(LR.score(X_test, y_test)))\n",
    "print('Training score: ' + str(LR.score(X_train, y_train)))"
   ]
  },
  {
   "cell_type": "code",
   "execution_count": 311,
   "metadata": {
    "scrolled": true
   },
   "outputs": [
    {
     "name": "stdout",
     "output_type": "stream",
     "text": [
      "[0.13826719]\n",
      "                         0         0\n",
      "0       host_response_time -0.520742\n",
      "1        host_is_superhost -1.143531\n",
      "2   host_identity_verified  0.193901\n",
      "3                 latitude  1.224981\n",
      "4                longitude  0.310428\n",
      "5             accommodates  0.182289\n",
      "6                bathrooms -0.051905\n",
      "7                    price -0.004697\n",
      "8     review_scores_rating  0.024862\n",
      "9         instant_bookable -0.543410\n",
      "10     cancellation_policy -0.022857\n",
      "11         Entire home/apt  0.721352\n",
      "12            Private room  0.486705\n",
      "13               Apartment  0.384910\n",
      "14                   House -0.285528\n",
      "15               Townhouse -0.154207\n",
      "16               amen_wifi -0.384585\n",
      "17            amen_kitchen  0.386230\n",
      "18             amen_aircon  0.048678\n",
      "19          amen_breakfast  0.026005\n",
      "20            amen_pri_ent -0.205767\n",
      "21            amen_hairdry -0.481383\n",
      "22            amen_parking  0.100792\n",
      "23         amen_essentials -0.438184\n",
      "24           amen_hotwater -0.496505\n",
      "25                 amen_tv  0.078167\n"
     ]
    }
   ],
   "source": [
    "print(model.intercept_)\n",
    "\n",
    "coefficients = pd.concat([pd.DataFrame(X.columns),pd.DataFrame(np.transpose(model.coef_))], axis = 1)\n",
    "print(coefficients)"
   ]
  },
  {
   "cell_type": "markdown",
   "metadata": {},
   "source": [
    "### Based on the coefficients,\n",
    "\n",
    "#### *Expected relationships include:*\n",
    "* host_response_time (-ve): As host_response_time is represented as a ordinal numeric value, where 0 represents the fastest reply time and 4 represents the slowest reply time, the -ve coefficient is expected as a lower value, which indicates a faster reply, would likely make guests more comfortable and inclined to book the property.\n",
    "* accomoodates (+ve): The more people a property can accommodate, the more likely it is for guests to book the place. This is not surprising as it might be reflective of a more spacious and luxurious place.\n",
    "* price (-ve): The higher the price, the less likely it is for guests to book the place, which is very intuitive.\n",
    "* amen_wifi (-ve): For amen_wifi, where 0 represents yes and 1 represents no, the -ve coefficient is expected as guests would be more likely to book a place with available wifi.\n",
    "\n",
    "#### *Unexpected relationships include:*\n",
    "* host_identity_verified: For host_identity_verified, where 0 represents yes and 1 represents no, one would expect that it should have a negative relationship as guests might feel more safe when the host's identify is verified.\n",
    "* amen_kitchen: For amen_kitchen, where 0 represents yes and 1 represents no, one would expect that having a kitchen would be more attractive if guests are looking to cook within the property. But it might be the case that guests are on holiday and do not need a place with kitchen facilities.\n",
    "* amen_tv: For amen_tv, where 0 represents yes and 1 represents no, one would expect that having a tv would be more attractive for guests to unwind after a long day. But it might be the case that guests are on holiday and do not need a tv to enjoy their stay.\n",
    "\n",
    "### One observation is that the coefficients for features that are binary are generally larger due to the fact that it is either yes or no. Features which are continous variables (e.g. price, review_scores_rating, bathrooms), where the change can be very small or very large across a wide range, tend to have a smaller coefficient."
   ]
  },
  {
   "cell_type": "code",
   "execution_count": 312,
   "metadata": {
    "scrolled": true
   },
   "outputs": [],
   "source": [
    "from sklearn import metrics\n",
    "from sklearn.metrics import confusion_matrix, precision_recall_curve, auc, roc_auc_score, roc_curve, recall_score, classification_report\n",
    "cm=metrics.confusion_matrix(y_test,y_pred)"
   ]
  },
  {
   "cell_type": "code",
   "execution_count": 313,
   "metadata": {
    "scrolled": true
   },
   "outputs": [
    {
     "data": {
      "text/html": [
       "<div>\n",
       "<style scoped>\n",
       "    .dataframe tbody tr th:only-of-type {\n",
       "        vertical-align: middle;\n",
       "    }\n",
       "\n",
       "    .dataframe tbody tr th {\n",
       "        vertical-align: top;\n",
       "    }\n",
       "\n",
       "    .dataframe thead th {\n",
       "        text-align: right;\n",
       "    }\n",
       "</style>\n",
       "<table border=\"1\" class=\"dataframe\">\n",
       "  <thead>\n",
       "    <tr style=\"text-align: right;\">\n",
       "      <th></th>\n",
       "      <th>Predicted 0</th>\n",
       "      <th>Predicted 1</th>\n",
       "    </tr>\n",
       "  </thead>\n",
       "  <tbody>\n",
       "    <tr>\n",
       "      <th>Actual 0</th>\n",
       "      <td>1593</td>\n",
       "      <td>580</td>\n",
       "    </tr>\n",
       "    <tr>\n",
       "      <th>Actual 1</th>\n",
       "      <td>431</td>\n",
       "      <td>1833</td>\n",
       "    </tr>\n",
       "  </tbody>\n",
       "</table>\n",
       "</div>"
      ],
      "text/plain": [
       "          Predicted 0  Predicted 1\n",
       "Actual 0         1593          580\n",
       "Actual 1          431         1833"
      ]
     },
     "execution_count": 313,
     "metadata": {},
     "output_type": "execute_result"
    }
   ],
   "source": [
    "list1 = [\"Actual 0\", \"Actual 1\"]\n",
    "list2 = [\"Predicted 0\", \"Predicted 1\"]\n",
    "pd.DataFrame(cm, list1,list2)"
   ]
  },
  {
   "cell_type": "code",
   "execution_count": 314,
   "metadata": {},
   "outputs": [
    {
     "name": "stdout",
     "output_type": "stream",
     "text": [
      "             precision    recall  f1-score   support\n",
      "\n",
      "          0       0.79      0.73      0.76      2173\n",
      "          1       0.76      0.81      0.78      2264\n",
      "\n",
      "avg / total       0.77      0.77      0.77      4437\n",
      "\n"
     ]
    }
   ],
   "source": [
    "print(classification_report(y_test, y_pred))"
   ]
  },
  {
   "cell_type": "code",
   "execution_count": 315,
   "metadata": {
    "scrolled": true
   },
   "outputs": [
    {
     "data": {
      "image/png": "[encoded data removed]",
      "text/plain": [
       "<Figure size 432x288 with 1 Axes>"
      ]
     },
     "metadata": {
      "needs_background": "light"
     },
     "output_type": "display_data"
    }
   ],
   "source": [
    "fpr, tpr, threshold = metrics.roc_curve(y_test, y_pred)\n",
    "roc_auc = metrics.auc(fpr, tpr)\n",
    "\n",
    "import matplotlib.pyplot as plt\n",
    "plt.title('Receiver Operating Characteristic')\n",
    "plt.plot(fpr, tpr, 'b', label = 'AUC = %0.2f' % roc_auc)\n",
    "plt.legend(loc = 'lower right')\n",
    "plt.plot([0, 1], [0, 1],'r--')\n",
    "plt.xlim([0, 1])\n",
    "plt.ylim([0, 1])\n",
    "plt.ylabel('True Positive Rate')\n",
    "plt.xlabel('False Positive Rate')\n",
    "plt.show()"
   ]
  },
  {
   "cell_type": "code",
   "execution_count": 86,
   "metadata": {
    "scrolled": true
   },
   "outputs": [
    {
     "name": "stdout",
     "output_type": "stream",
     "text": [
      "[[0.18937475 0.81062525]]\n",
      "1\n"
     ]
    }
   ],
   "source": [
    "print(model.predict_proba(X_test[2].reshape(1,-1)))\n",
    "print(y_test[2])"
   ]
  },
  {
   "cell_type": "code",
   "execution_count": 87,
   "metadata": {},
   "outputs": [
    {
     "data": {
      "text/plain": [
       "array([  0.        ,   1.        ,   0.        , -37.82048517,\n",
       "       144.95681412,   2.        ,   1.        ,  65.        ,\n",
       "        97.        ,   0.        ,   1.        ,   0.        ,\n",
       "         1.        ,   1.        ,   0.        ,   0.        ,\n",
       "         0.        ,   0.        ,   0.        ,   1.        ,\n",
       "         1.        ,   0.        ,   1.        ,   0.        ,\n",
       "         0.        ,   0.        ])"
      ]
     },
     "execution_count": 87,
     "metadata": {},
     "output_type": "execute_result"
    }
   ],
   "source": [
    "X_test[2]"
   ]
  },
  {
   "cell_type": "markdown",
   "metadata": {},
   "source": [
    "### I want to show a list of probabilities with respect to changes in certain features."
   ]
  },
  {
   "cell_type": "markdown",
   "metadata": {},
   "source": [
    "### Using price as the first example, I hold every other feature constant by using the first sample of X_test to generate a list of probabilities against a range of prices."
   ]
  },
  {
   "cell_type": "code",
   "execution_count": 88,
   "metadata": {
    "scrolled": true
   },
   "outputs": [
    {
     "name": "stdout",
     "output_type": "stream",
     "text": [
      "price for X_test[2] is 65.0\n"
     ]
    }
   ],
   "source": [
    "print(\"price for X_test[2] is \" + str(X_test[2][7]))"
   ]
  },
  {
   "cell_type": "code",
   "execution_count": 89,
   "metadata": {
    "scrolled": false
   },
   "outputs": [],
   "source": [
    "pricelist = []\n",
    "arraylist = []\n",
    "\n",
    "for k in range (50,200,10):\n",
    "    pricelist.append(k)\n",
    "    onelist = []\n",
    "    for i in range(0, len(X_test[2])):\n",
    "        if i == 7:\n",
    "            onelist.append(k)\n",
    "        else:\n",
    "            onelist.append(X_test[2][i])\n",
    "    arraylist.append(onelist)"
   ]
  },
  {
   "cell_type": "code",
   "execution_count": 90,
   "metadata": {
    "scrolled": true
   },
   "outputs": [],
   "source": [
    "pricedata = np.asarray(arraylist)\n",
    "pricedata = list(model.predict_proba(pricedata))"
   ]
  },
  {
   "cell_type": "code",
   "execution_count": 91,
   "metadata": {
    "scrolled": true
   },
   "outputs": [],
   "source": [
    "priceprobalist = []\n",
    "for i in pricedata:\n",
    "    priceprobalist.append(i[1])"
   ]
  },
  {
   "cell_type": "code",
   "execution_count": 92,
   "metadata": {},
   "outputs": [
    {
     "data": {
      "text/html": [
       "<div>\n",
       "<style scoped>\n",
       "    .dataframe tbody tr th:only-of-type {\n",
       "        vertical-align: middle;\n",
       "    }\n",
       "\n",
       "    .dataframe tbody tr th {\n",
       "        vertical-align: top;\n",
       "    }\n",
       "\n",
       "    .dataframe thead th {\n",
       "        text-align: right;\n",
       "    }\n",
       "</style>\n",
       "<table border=\"1\" class=\"dataframe\">\n",
       "  <thead>\n",
       "    <tr style=\"text-align: right;\">\n",
       "      <th></th>\n",
       "      <th>0</th>\n",
       "    </tr>\n",
       "  </thead>\n",
       "  <tbody>\n",
       "    <tr>\n",
       "      <th>50</th>\n",
       "      <td>0.821094</td>\n",
       "    </tr>\n",
       "    <tr>\n",
       "      <th>60</th>\n",
       "      <td>0.814166</td>\n",
       "    </tr>\n",
       "    <tr>\n",
       "      <th>70</th>\n",
       "      <td>0.807033</td>\n",
       "    </tr>\n",
       "    <tr>\n",
       "      <th>80</th>\n",
       "      <td>0.799694</td>\n",
       "    </tr>\n",
       "    <tr>\n",
       "      <th>90</th>\n",
       "      <td>0.792147</td>\n",
       "    </tr>\n",
       "    <tr>\n",
       "      <th>100</th>\n",
       "      <td>0.784393</td>\n",
       "    </tr>\n",
       "    <tr>\n",
       "      <th>110</th>\n",
       "      <td>0.776431</td>\n",
       "    </tr>\n",
       "    <tr>\n",
       "      <th>120</th>\n",
       "      <td>0.768262</td>\n",
       "    </tr>\n",
       "    <tr>\n",
       "      <th>130</th>\n",
       "      <td>0.759886</td>\n",
       "    </tr>\n",
       "    <tr>\n",
       "      <th>140</th>\n",
       "      <td>0.751306</td>\n",
       "    </tr>\n",
       "    <tr>\n",
       "      <th>150</th>\n",
       "      <td>0.742524</td>\n",
       "    </tr>\n",
       "    <tr>\n",
       "      <th>160</th>\n",
       "      <td>0.733541</td>\n",
       "    </tr>\n",
       "    <tr>\n",
       "      <th>170</th>\n",
       "      <td>0.724361</td>\n",
       "    </tr>\n",
       "    <tr>\n",
       "      <th>180</th>\n",
       "      <td>0.714988</td>\n",
       "    </tr>\n",
       "    <tr>\n",
       "      <th>190</th>\n",
       "      <td>0.705425</td>\n",
       "    </tr>\n",
       "  </tbody>\n",
       "</table>\n",
       "</div>"
      ],
      "text/plain": [
       "            0\n",
       "50   0.821094\n",
       "60   0.814166\n",
       "70   0.807033\n",
       "80   0.799694\n",
       "90   0.792147\n",
       "100  0.784393\n",
       "110  0.776431\n",
       "120  0.768262\n",
       "130  0.759886\n",
       "140  0.751306\n",
       "150  0.742524\n",
       "160  0.733541\n",
       "170  0.724361\n",
       "180  0.714988\n",
       "190  0.705425"
      ]
     },
     "execution_count": 92,
     "metadata": {},
     "output_type": "execute_result"
    }
   ],
   "source": [
    "pd.DataFrame(priceprobalist, pricelist)"
   ]
  },
  {
   "cell_type": "code",
   "execution_count": 93,
   "metadata": {},
   "outputs": [
    {
     "data": {
      "text/plain": [
       "[<matplotlib.lines.Line2D at 0x1a205beeb8>]"
      ]
     },
     "execution_count": 93,
     "metadata": {},
     "output_type": "execute_result"
    },
    {
     "data": {
      "image/png": "[encoded data removed]",
      "text/plain": [
       "<Figure size 432x288 with 1 Axes>"
      ]
     },
     "metadata": {
      "needs_background": "light"
     },
     "output_type": "display_data"
    }
   ],
   "source": [
    "plt.ylabel('probability of having a popular listing')\n",
    "plt.xlabel('price per night')\n",
    "plt.title('Relationship of probability VS features')\n",
    "plt.xticks([50,60,70,80,90,100,110,120,130,140,150,160,170,180,190])\n",
    "plt.plot(pricelist, priceprobalist)"
   ]
  },
  {
   "cell_type": "code",
   "execution_count": 99,
   "metadata": {
    "scrolled": true
   },
   "outputs": [
    {
     "name": "stdout",
     "output_type": "stream",
     "text": [
      "review score for X_test[2] is 97.0\n"
     ]
    }
   ],
   "source": [
    "print(\"review score for X_test[2] is \" + str(X_test[2][8]))"
   ]
  },
  {
   "cell_type": "code",
   "execution_count": 100,
   "metadata": {},
   "outputs": [],
   "source": [
    "rev_score_list = []\n",
    "rev_score_arraylist = []\n",
    "\n",
    "for k in range (80,100):\n",
    "    rev_score_list.append(k)\n",
    "    onelist = []\n",
    "    for i in range(0, len(X_test[2])):\n",
    "        if i == 8:\n",
    "            onelist.append(k)\n",
    "        else:\n",
    "            onelist.append(X_test[2][i])\n",
    "    rev_score_arraylist.append(onelist)"
   ]
  },
  {
   "cell_type": "code",
   "execution_count": 101,
   "metadata": {},
   "outputs": [],
   "source": [
    "rev_score_data = np.asarray(rev_score_arraylist)\n",
    "rev_score_data = list(model.predict_proba(rev_score_data))\n",
    "rev_score_probalist = []\n",
    "for i in rev_score_data:\n",
    "    rev_score_probalist.append(i[1])"
   ]
  },
  {
   "cell_type": "code",
   "execution_count": 102,
   "metadata": {},
   "outputs": [
    {
     "data": {
      "text/html": [
       "<div>\n",
       "<style scoped>\n",
       "    .dataframe tbody tr th:only-of-type {\n",
       "        vertical-align: middle;\n",
       "    }\n",
       "\n",
       "    .dataframe tbody tr th {\n",
       "        vertical-align: top;\n",
       "    }\n",
       "\n",
       "    .dataframe thead th {\n",
       "        text-align: right;\n",
       "    }\n",
       "</style>\n",
       "<table border=\"1\" class=\"dataframe\">\n",
       "  <thead>\n",
       "    <tr style=\"text-align: right;\">\n",
       "      <th></th>\n",
       "      <th>0</th>\n",
       "    </tr>\n",
       "  </thead>\n",
       "  <tbody>\n",
       "    <tr>\n",
       "      <th>80</th>\n",
       "      <td>0.652737</td>\n",
       "    </tr>\n",
       "    <tr>\n",
       "      <th>81</th>\n",
       "      <td>0.663628</td>\n",
       "    </tr>\n",
       "    <tr>\n",
       "      <th>82</th>\n",
       "      <td>0.674348</td>\n",
       "    </tr>\n",
       "    <tr>\n",
       "      <th>83</th>\n",
       "      <td>0.684888</td>\n",
       "    </tr>\n",
       "    <tr>\n",
       "      <th>84</th>\n",
       "      <td>0.695241</td>\n",
       "    </tr>\n",
       "    <tr>\n",
       "      <th>85</th>\n",
       "      <td>0.705400</td>\n",
       "    </tr>\n",
       "    <tr>\n",
       "      <th>86</th>\n",
       "      <td>0.715360</td>\n",
       "    </tr>\n",
       "    <tr>\n",
       "      <th>87</th>\n",
       "      <td>0.725113</td>\n",
       "    </tr>\n",
       "    <tr>\n",
       "      <th>88</th>\n",
       "      <td>0.734657</td>\n",
       "    </tr>\n",
       "    <tr>\n",
       "      <th>89</th>\n",
       "      <td>0.743986</td>\n",
       "    </tr>\n",
       "    <tr>\n",
       "      <th>90</th>\n",
       "      <td>0.753098</td>\n",
       "    </tr>\n",
       "    <tr>\n",
       "      <th>91</th>\n",
       "      <td>0.761989</td>\n",
       "    </tr>\n",
       "    <tr>\n",
       "      <th>92</th>\n",
       "      <td>0.770657</td>\n",
       "    </tr>\n",
       "    <tr>\n",
       "      <th>93</th>\n",
       "      <td>0.779101</td>\n",
       "    </tr>\n",
       "    <tr>\n",
       "      <th>94</th>\n",
       "      <td>0.787320</td>\n",
       "    </tr>\n",
       "    <tr>\n",
       "      <th>95</th>\n",
       "      <td>0.795313</td>\n",
       "    </tr>\n",
       "    <tr>\n",
       "      <th>96</th>\n",
       "      <td>0.803082</td>\n",
       "    </tr>\n",
       "    <tr>\n",
       "      <th>97</th>\n",
       "      <td>0.810625</td>\n",
       "    </tr>\n",
       "    <tr>\n",
       "      <th>98</th>\n",
       "      <td>0.817945</td>\n",
       "    </tr>\n",
       "    <tr>\n",
       "      <th>99</th>\n",
       "      <td>0.825044</td>\n",
       "    </tr>\n",
       "  </tbody>\n",
       "</table>\n",
       "</div>"
      ],
      "text/plain": [
       "           0\n",
       "80  0.652737\n",
       "81  0.663628\n",
       "82  0.674348\n",
       "83  0.684888\n",
       "84  0.695241\n",
       "85  0.705400\n",
       "86  0.715360\n",
       "87  0.725113\n",
       "88  0.734657\n",
       "89  0.743986\n",
       "90  0.753098\n",
       "91  0.761989\n",
       "92  0.770657\n",
       "93  0.779101\n",
       "94  0.787320\n",
       "95  0.795313\n",
       "96  0.803082\n",
       "97  0.810625\n",
       "98  0.817945\n",
       "99  0.825044"
      ]
     },
     "execution_count": 102,
     "metadata": {},
     "output_type": "execute_result"
    }
   ],
   "source": [
    "pd.DataFrame(rev_score_probalist, rev_score_list)"
   ]
  },
  {
   "cell_type": "code",
   "execution_count": 103,
   "metadata": {
    "scrolled": true
   },
   "outputs": [
    {
     "data": {
      "text/plain": [
       "[<matplotlib.lines.Line2D at 0x1a20fc70b8>]"
      ]
     },
     "execution_count": 103,
     "metadata": {},
     "output_type": "execute_result"
    },
    {
     "data": {
      "image/png": "[encoded data removed]",
      "text/plain": [
       "<Figure size 432x288 with 1 Axes>"
      ]
     },
     "metadata": {
      "needs_background": "light"
     },
     "output_type": "display_data"
    }
   ],
   "source": [
    "plt.ylabel('probability of having a popular listing')\n",
    "plt.xlabel('review_scores_rating')\n",
    "plt.title('Relationship of probability VS features')\n",
    "plt.xticks(range(80,100))\n",
    "plt.plot(rev_score_list, rev_score_probalist)"
   ]
  },
  {
   "cell_type": "markdown",
   "metadata": {},
   "source": [
    "## What we want to show is that assuming a certain set of features, the model can help to advise hosts on how much a decrease in price can increase their probability of their listing being more attractive.\n",
    "\n",
    "### For example, from the graph above, we can see that holding all other variables constant in sample 2,\n",
    "* Decreasing price by $10 (from $70 to $60) only increases your probability of your property being popular by ~0.5%, which is not very significant.\n",
    "* Increasing review score by 2 points (from 97 to 99), increases your probability of your property being popular by ~1%, which is not very significant."
   ]
  },
  {
   "cell_type": "markdown",
   "metadata": {},
   "source": [
    "### We take a look at another sample instead, one which inherently has a lower probability of being popular."
   ]
  },
  {
   "cell_type": "code",
   "execution_count": 104,
   "metadata": {},
   "outputs": [
    {
     "name": "stdout",
     "output_type": "stream",
     "text": [
      "[[0.59037909 0.40962091]]\n",
      "0\n"
     ]
    }
   ],
   "source": [
    "print(model.predict_proba(X_test[788].reshape(1,-1)))\n",
    "print(y_test[788])"
   ]
  },
  {
   "cell_type": "code",
   "execution_count": 105,
   "metadata": {
    "scrolled": false
   },
   "outputs": [
    {
     "data": {
      "text/plain": [
       "array([  0.        ,   1.        ,   1.        , -37.84186694,\n",
       "       144.93667424,   4.        ,   1.        , 319.        ,\n",
       "        80.        ,   0.        ,   1.        ,   1.        ,\n",
       "         0.        ,   0.        ,   0.        ,   0.        ,\n",
       "         0.        ,   0.        ,   0.        ,   1.        ,\n",
       "         1.        ,   0.        ,   1.        ,   0.        ,\n",
       "         0.        ,   0.        ])"
      ]
     },
     "execution_count": 105,
     "metadata": {},
     "output_type": "execute_result"
    }
   ],
   "source": [
    "X_test[788]"
   ]
  },
  {
   "cell_type": "code",
   "execution_count": 108,
   "metadata": {},
   "outputs": [],
   "source": [
    "# With respect to sample 788, we try to decrease price (from $319 to $250)\n",
    "# AND \n",
    "# make the cancellation policy more lenient (from moderate to flexible).\n",
    "\n",
    "new_sample = [  0.        ,   1.        ,   1.        , -37.84186694,\n",
    "       144.93667424,   4.        ,   1.        , 250.        ,\n",
    "        80.        ,   0.        ,   0.        ,\n",
    "         1.        ,   0.        ,   0.        ,   0.        ,\n",
    "         0.        ,   0.        ,   0.        ,   0.        ,\n",
    "         1.        ,   1.        ,   0.        ,   1.        ,\n",
    "         0.        ,   0.        ,   0.        ]\n",
    "new_sample = np.asarray(new_sample)"
   ]
  },
  {
   "cell_type": "code",
   "execution_count": 109,
   "metadata": {
    "scrolled": true
   },
   "outputs": [
    {
     "data": {
      "text/plain": [
       "array([[0.51194838, 0.48805162]])"
      ]
     },
     "execution_count": 109,
     "metadata": {},
     "output_type": "execute_result"
    }
   ],
   "source": [
    "model.predict_proba(new_sample.reshape(1,-1))"
   ]
  },
  {
   "cell_type": "markdown",
   "metadata": {},
   "source": [
    "### We can see that doing so increases the probability of the property being popular by ~12% (from 22% to 34%)."
   ]
  },
  {
   "cell_type": "markdown",
   "metadata": {},
   "source": [
    "### We now see what happens if we assume that the lower price (i.e. 250) is maintained and that the property receives an increase in the number of bookings (from 1 to 8)."
   ]
  },
  {
   "cell_type": "code",
   "execution_count": 110,
   "metadata": {},
   "outputs": [],
   "source": [
    "new_sample = [  0.        ,   1.        ,   1.        , -37.84186694,\n",
    "       144.93667424,   4.        ,   1.        , 250.        ,\n",
    "        80.        ,   0.        ,   1.        ,\n",
    "         1.        ,   0.        ,   0.        ,   0.        ,\n",
    "         0.        ,   0.        ,   0.        ,   0.        ,\n",
    "         1.        ,   1.        ,   0.        ,   1.        ,\n",
    "         0.        ,   0.        ,   0.        ]\n",
    "new_sample = np.asarray(new_sample)"
   ]
  },
  {
   "cell_type": "code",
   "execution_count": 111,
   "metadata": {
    "scrolled": true
   },
   "outputs": [
    {
     "data": {
      "text/plain": [
       "array([[0.5112294, 0.4887706]])"
      ]
     },
     "execution_count": 111,
     "metadata": {},
     "output_type": "execute_result"
    }
   ],
   "source": [
    "model.predict_proba(new_sample.reshape(1,-1))"
   ]
  },
  {
   "cell_type": "markdown",
   "metadata": {},
   "source": [
    "### We can see by having a higher number of ratings can greatly increase your probability of having a popular property listing. Although there is a high correlation between these 2 variables, one thing that is not taken into account is the length of time for the total number of ratings. "
   ]
  },
  {
   "cell_type": "code",
   "execution_count": 112,
   "metadata": {},
   "outputs": [
    {
     "name": "stdout",
     "output_type": "stream",
     "text": [
      "Probability of Popular with all amenities is [[0.51416743 0.48583257]]\n",
      "Probability of Popular without any amenities is [[0.8135048 0.1864952]]\n"
     ]
    }
   ],
   "source": [
    "new_sample_w_amen = [  0.        ,   1.        ,   1.        , -37.84186694,\n",
    "       144.93667424,   4.        ,   1.        , 250.        ,\n",
    "        80.        ,   0.        ,   1.        ,\n",
    "         1.        ,   0.        ,   0.        ,   0.        ,\n",
    "         0.        ,   0.        ,   0.        ,   0.        ,\n",
    "         0.        ,   0.        ,   0.        ,   0.        ,\n",
    "         0.        ,   0.        ,   0.        ]\n",
    "new_sample_w_amen = np.asarray(new_sample_w_amen)\n",
    "print(\"Probability of Popular with all amenities is \" + str(model.predict_proba(new_sample_w_amen.reshape(1,-1))))\n",
    "\n",
    "new_sample_wo_amen = [  0.        ,   1.        ,   1.        , -37.84186694,\n",
    "       144.93667424,   4.        ,   1.        , 250.        ,\n",
    "        80.        ,   0.        ,   1.        ,\n",
    "         1.        ,   0.        ,   0.        ,   0.        ,\n",
    "         1.        ,   1.        ,   1.        ,   1.        ,\n",
    "         1.        ,   1.        ,   1.        ,   1.        ,\n",
    "         1.        ,   1.        ,   1.        ]\n",
    "new_sample_wo_amen = np.asarray(new_sample_wo_amen)\n",
    "print(\"Probability of Popular without any amenities is \" + str(model.predict_proba(new_sample_wo_amen.reshape(1,-1))))"
   ]
  },
  {
   "cell_type": "markdown",
   "metadata": {},
   "source": [
    "### On the contrary, if we were to compare with and without the 10 chosen amenities, we can see that having all 10 amenities can help to increase the probability by about 3 times (55% vs 17%), as opposed to having no amenities at all.\n",
    "\n",
    "## While some of these insights might be quite intuitive, the aim is to devise a strategy to better advise NEW hosts as to how to attract potential guests from the start. Therefore, what we can seek to advise NEW property owners would be to set a lower price, provide more amenities, until a steady base is established, before raising prices to what might be ideal for the hosts."
   ]
  },
  {
   "cell_type": "markdown",
   "metadata": {},
   "source": [
    "### *3.2 K-fold Cross Validation*"
   ]
  },
  {
   "cell_type": "code",
   "execution_count": 113,
   "metadata": {},
   "outputs": [
    {
     "name": "stdout",
     "output_type": "stream",
     "text": [
      "3-fold: 0.8283010530966934\n",
      "5-fold: 0.8277855512187937\n",
      "10-fold: 0.8284115177848148\n"
     ]
    }
   ],
   "source": [
    "from sklearn.linear_model import LogisticRegressionCV\n",
    "\n",
    "for i in (3,5,10):\n",
    "    clf = LogisticRegressionCV(cv=i, random_state=0).fit(X_sm, y_sm)\n",
    "    print(str(i) + \"-fold: \" + str(clf.score(X_sm, y_sm)))"
   ]
  },
  {
   "cell_type": "markdown",
   "metadata": {},
   "source": [
    "### Using K-fold cross validation gives us a score that is very much the same as a train-test-split at about 87% accuracy."
   ]
  },
  {
   "cell_type": "markdown",
   "metadata": {},
   "source": [
    "## 4. Trying out a multi-class target."
   ]
  },
  {
   "cell_type": "code",
   "execution_count": 344,
   "metadata": {},
   "outputs": [],
   "source": [
    "def f(row):\n",
    "    if row['reviews_per_month'] <= 1:\n",
    "        val = 0   \n",
    "    elif row['reviews_per_month'] <= 3:\n",
    "        val = 1\n",
    "    else:\n",
    "        val = 2\n",
    "    return val\n",
    "\n",
    "melb2.pop_3class = melb2.apply(f, axis=1)"
   ]
  },
  {
   "cell_type": "code",
   "execution_count": 345,
   "metadata": {},
   "outputs": [
    {
     "data": {
      "text/plain": [
       "<matplotlib.axes._subplots.AxesSubplot at 0x1a2141c630>"
      ]
     },
     "execution_count": 345,
     "metadata": {},
     "output_type": "execute_result"
    },
    {
     "data": {
      "image/png": "[encoded data removed]",
      "text/plain": [
       "<Figure size 432x288 with 1 Axes>"
      ]
     },
     "metadata": {
      "needs_background": "light"
     },
     "output_type": "display_data"
    }
   ],
   "source": [
    "melb2.pop_3class.value_counts().plot(kind=\"bar\")"
   ]
  },
  {
   "cell_type": "code",
   "execution_count": 346,
   "metadata": {},
   "outputs": [
    {
     "data": {
      "text/plain": [
       "Index(['host_response_time', 'host_is_superhost', 'host_identity_verified',\n",
       "       'latitude', 'longitude', 'accommodates', 'bathrooms', 'price',\n",
       "       'review_scores_rating', 'instant_bookable', 'cancellation_policy',\n",
       "       'reviews_per_month', 'Entire home/apt', 'Private room', 'Apartment',\n",
       "       'House', 'Townhouse', 'amen_wifi', 'amen_kitchen', 'amen_aircon',\n",
       "       'amen_breakfast', 'amen_pri_ent', 'amen_hairdry', 'amen_parking',\n",
       "       'amen_essentials', 'amen_hotwater', 'amen_tv', 'pop_2class'],\n",
       "      dtype='object')"
      ]
     },
     "execution_count": 346,
     "metadata": {},
     "output_type": "execute_result"
    }
   ],
   "source": [
    "melb2.columns"
   ]
  },
  {
   "cell_type": "code",
   "execution_count": 347,
   "metadata": {},
   "outputs": [],
   "source": [
    "# Applying SMOTE to the other 2 classes.\n",
    "y_3class = melb2.pop_3class\n",
    " \n",
    "smote = SMOTE(kind = \"regular\")\n",
    "X_3_sm, y_3_sm = smote.fit_sample(X, y_3class)"
   ]
  },
  {
   "cell_type": "code",
   "execution_count": 348,
   "metadata": {},
   "outputs": [
    {
     "name": "stdout",
     "output_type": "stream",
     "text": [
      "0: 8874\n",
      "1: 8874\n",
      "2: 8874\n"
     ]
    }
   ],
   "source": [
    "# Doing a quick count check of all 3 classes after SMOTE.\n",
    "\n",
    "count0=0\n",
    "count1=0\n",
    "count2=0\n",
    "\n",
    "for i in y_3_sm:\n",
    "    if i == 0:\n",
    "        count0 += 1\n",
    "    elif i == 1:\n",
    "        count1 += 1 \n",
    "    else:\n",
    "        count2 += 1\n",
    "\n",
    "print(\"0: \" + str(count0) + \"\\n\" + \"1: \" + str(count1) + \"\\n\" + \"2: \" + str(count1))"
   ]
  },
  {
   "cell_type": "code",
   "execution_count": 349,
   "metadata": {},
   "outputs": [
    {
     "name": "stdout",
     "output_type": "stream",
     "text": [
      "Testing score: 0.6245492788461539\n",
      "Training score: 0.6076830612040469\n"
     ]
    }
   ],
   "source": [
    "X_train, X_test, y_train, y_test = train_test_split(X_3_sm,y_3_sm, random_state=111)\n",
    "\n",
    "ovr_clf = LogisticRegression(random_state=0, multi_class='ovr')\n",
    "model = ovr_clf.fit(X_train,y_train)\n",
    "\n",
    "y_pred = ovr_clf.predict(X_test)\n",
    "\n",
    "print('Testing score: ' + str(ovr_clf.score(X_test, y_test)))\n",
    "print('Training score: ' + str(ovr_clf.score(X_train, y_train)))"
   ]
  },
  {
   "cell_type": "code",
   "execution_count": 350,
   "metadata": {},
   "outputs": [
    {
     "data": {
      "text/html": [
       "<div>\n",
       "<style scoped>\n",
       "    .dataframe tbody tr th:only-of-type {\n",
       "        vertical-align: middle;\n",
       "    }\n",
       "\n",
       "    .dataframe tbody tr th {\n",
       "        vertical-align: top;\n",
       "    }\n",
       "\n",
       "    .dataframe thead th {\n",
       "        text-align: right;\n",
       "    }\n",
       "</style>\n",
       "<table border=\"1\" class=\"dataframe\">\n",
       "  <thead>\n",
       "    <tr style=\"text-align: right;\">\n",
       "      <th></th>\n",
       "      <th>Predicted 0</th>\n",
       "      <th>Predicted 1</th>\n",
       "      <th>Predicted 2</th>\n",
       "    </tr>\n",
       "  </thead>\n",
       "  <tbody>\n",
       "    <tr>\n",
       "      <th>Actual 0</th>\n",
       "      <td>1538</td>\n",
       "      <td>360</td>\n",
       "      <td>256</td>\n",
       "    </tr>\n",
       "    <tr>\n",
       "      <th>Actual 1</th>\n",
       "      <td>478</td>\n",
       "      <td>871</td>\n",
       "      <td>846</td>\n",
       "    </tr>\n",
       "    <tr>\n",
       "      <th>Actual 2</th>\n",
       "      <td>123</td>\n",
       "      <td>436</td>\n",
       "      <td>1748</td>\n",
       "    </tr>\n",
       "  </tbody>\n",
       "</table>\n",
       "</div>"
      ],
      "text/plain": [
       "          Predicted 0  Predicted 1  Predicted 2\n",
       "Actual 0         1538          360          256\n",
       "Actual 1          478          871          846\n",
       "Actual 2          123          436         1748"
      ]
     },
     "execution_count": 350,
     "metadata": {},
     "output_type": "execute_result"
    }
   ],
   "source": [
    "cm=metrics.confusion_matrix(y_test,y_pred)\n",
    "list1 = [\"Actual 0\", \"Actual 1\", \"Actual 2\"]\n",
    "list2 = [\"Predicted 0\", \"Predicted 1\", \"Predicted 2\"]\n",
    "pd.DataFrame(cm, list1,list2)"
   ]
  },
  {
   "cell_type": "code",
   "execution_count": 351,
   "metadata": {},
   "outputs": [
    {
     "name": "stdout",
     "output_type": "stream",
     "text": [
      "             precision    recall  f1-score   support\n",
      "\n",
      "          0       0.72      0.71      0.72      2154\n",
      "          1       0.52      0.40      0.45      2195\n",
      "          2       0.61      0.76      0.68      2307\n",
      "\n",
      "avg / total       0.62      0.62      0.62      6656\n",
      "\n"
     ]
    }
   ],
   "source": [
    "print(classification_report(y_test, y_pred))"
   ]
  },
  {
   "cell_type": "code",
   "execution_count": 352,
   "metadata": {},
   "outputs": [],
   "source": [
    "from sklearn.preprocessing import label_binarize"
   ]
  },
  {
   "cell_type": "code",
   "execution_count": 353,
   "metadata": {},
   "outputs": [
    {
     "data": {
      "image/png": "[encoded data removed]",
      "text/plain": [
       "<Figure size 432x288 with 1 Axes>"
      ]
     },
     "metadata": {
      "needs_background": "light"
     },
     "output_type": "display_data"
    },
    {
     "data": {
      "image/png": "[encoded data removed]",
      "text/plain": [
       "<Figure size 432x288 with 1 Axes>"
      ]
     },
     "metadata": {
      "needs_background": "light"
     },
     "output_type": "display_data"
    },
    {
     "data": {
      "image/png": "[encoded data removed]",
      "text/plain": [
       "<Figure size 432x288 with 1 Axes>"
      ]
     },
     "metadata": {
      "needs_background": "light"
     },
     "output_type": "display_data"
    }
   ],
   "source": [
    "y_test = label_binarize(y_test, classes=[0,1,2])\n",
    "y_pred = label_binarize(y_pred, classes=[0,1,2])\n",
    "\n",
    "for i in range(3):\n",
    "    fpr, tpr, threshold = metrics.roc_curve(y_test[:, i], y_pred[:, i])\n",
    "    roc_auc = metrics.auc(fpr, tpr)\n",
    "\n",
    "    plt.figure()\n",
    "    plt.plot(fpr, tpr, label='ROC curve (area = %0.2f)' % roc_auc)\n",
    "    plt.plot([0, 1], [0, 1], 'k--')\n",
    "    plt.xlim([0.0, 1.0])\n",
    "    plt.ylim([0.0, 1.05])\n",
    "    plt.xlabel('False Positive Rate')\n",
    "    plt.ylabel('True Positive Rate')\n",
    "    plt.title('Receiver operating characteristic for Class ' + str(i) + ' VS rest')\n",
    "    plt.legend(loc=\"lower right\")\n",
    "    plt.show()"
   ]
  },
  {
   "cell_type": "markdown",
   "metadata": {},
   "source": [
    "# Conclusion:\n",
    "\n",
    "### Using a 2-class logistic regression model, the accuracy of predicting whether a property is \"popular\" increases from 50% (base) to ~87%.\n",
    "### Using a 3-class logistic regression model, the accuracy of predicting whether a property is \"popular\" increases from 33% (base) to ~75%.\n",
    "\n",
    "#### While the results seem encouraging, the model is not without its limitations. Some of these include:\n",
    "* Target column used is only a proxy and not based on the actual bookings for the property.\n",
    "* The grouping of \"popular\" for target column currently does not take into account the LENGTH of booking per guest. For example, if 1 guest were to book a property for 3 weeks VS 1 day, they might both show only 1 review per month, but the actual occupancy rate would be very different.\n",
    "* The model might seem quite effective because it can be regarded as an \"easy\" classification problem. Reducing prices and/or increasing more amenities is already quite intuitive in whether your probability will increase or not.\n",
    "\n",
    "#### However, what the model strives to achieve is how to best balance / optimize a change in the property features against how likely it is for the property to be \"popular\". Some examples include:\n",
    "* Is it worth it to provide breakfast if it only increases the probability by 5%?\n",
    "* Is it worth it to reduce prices by $50 per night if it only increases the probability by 5%?\n",
    "* Is it worth it to make my property instant bookable if it only increases the probability by 5%?\n",
    "\n",
    "### Moving forward, some improvements to the model could include:\n",
    "* Using NLP to find out if certain words used in the naming and description of the property could make it more \"popular\".\n",
    "* Using additional features to see if we can increase the model score.\n",
    "* To combine data from other locations (e.g. countries / cities) to see if a generalised model works as well as a location specific model."
   ]
  }
 ],
 "metadata": {
  "celltoolbar": "Slideshow",
  "kernelspec": {
   "display_name": "Python 3",
   "language": "python",
   "name": "python3"
  },
  "language_info": {
   "codemirror_mode": {
    "name": "ipython",
    "version": 3
   },
   "file_extension": ".py",
   "mimetype": "text/x-python",
   "name": "python",
   "nbconvert_exporter": "python",
   "pygments_lexer": "ipython3",
   "version": "3.7.0"
  }
 },
 "nbformat": 4,
 "nbformat_minor": 2
}
