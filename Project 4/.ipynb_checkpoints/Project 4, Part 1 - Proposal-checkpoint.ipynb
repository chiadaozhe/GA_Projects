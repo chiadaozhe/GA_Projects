{
 "cells": [
  {
   "cell_type": "markdown",
   "metadata": {},
   "source": [
    "# Project 4: Analyzing Airbnb Data"
   ]
  },
  {
   "cell_type": "markdown",
   "metadata": {},
   "source": [
    "## 1. Background and Problem Statement\n",
    "\n",
    "Founded in 2008, Airbnb is a global travel community that offers magical end-to-end trips, including where you stay, what you do and the people you meet. Airbnb uniquely leverages technology to economically empower millions of people around the world to unlock and monetize their spaces, passions and talents to become hospitality entrepreneurs.\n",
    "\n",
    "As budding hospitality entrepreneurs, it is important that hosts also understand how best to appeal to their potential guests and thus increase their occupancy rates.\n",
    "\n",
    "Based on past airbnb data, we want to understand what factors attract guests the most and whether we can use these insights to let hosts increase the attractiveness of their offerings.\n",
    "\n",
    "The following are potential questions that we can look at:\n",
    "1. Which factors most affect the attractiveness of an accommodation offering?\n",
    "2. Is price a significant determinant in the attractiveness, or can we use other factors to optimise the pricing that hosts should set to maximise their revenue?\n",
    "3. Do the same factors apply different cities or countries, or is every area unique to itself?"
   ]
  },
  {
   "cell_type": "markdown",
   "metadata": {},
   "source": [
    "## 2. Setting the Context\n",
    "\n",
    "i. Hypothesis / Assumptions\n",
    "- Pricing is not the main feature that affects whether potential guests book an accommodation offering\n",
    "- Other factors such as location, review scores and/or even key words used in the description might sway potential guests' decision in their bookings\n",
    "- Most potential guests look at the same factors when booking accommodation offerings around the world\n",
    "\n",
    "ii. Goals and Success Metrics\n",
    "- To find the features that can optimise an accommodation offering's price, occupancy and/or review score\n",
    "- Based on the features identified, to apply this to other cities and/or countries as well\n",
    "\n",
    "iii. Risks or Limitations\n",
    "- Prices might already be optimised based on Airbnb's internal algorithm\n",
    "- Success metrics is based on a proxy and might not reflect the true situation\n",
    "- Success metrics might be a multi-targeted based on price, occupancy and/or review scores, making it more complicated\n",
    "- Features which are significant to one city and/or country might not be applicable to others\n",
    "\n",
    "It is important to set the right success metric as it is possible that the metrics and features might get confusing as to which affects which."
   ]
  },
  {
   "cell_type": "markdown",
   "metadata": {},
   "source": [
    "## 3. Dataset\n",
    "\n",
    "http://insideairbnb.com/get-the-data.html\n",
    "\n",
    "Training and Testing Data:\n",
    "- Melbourne, Victoria, Australia\n",
    "\n",
    "Additional Testing Data: \n",
    "- Sydney, New South Wales, Australia\n",
    "- Vienna, Vienna, Austria"
   ]
  },
  {
   "cell_type": "code",
   "execution_count": null,
   "metadata": {},
   "outputs": [],
   "source": []
  }
 ],
 "metadata": {
  "kernelspec": {
   "display_name": "Python 3",
   "language": "python",
   "name": "python3"
  },
  "language_info": {
   "codemirror_mode": {
    "name": "ipython",
    "version": 3
   },
   "file_extension": ".py",
   "mimetype": "text/x-python",
   "name": "python",
   "nbconvert_exporter": "python",
   "pygments_lexer": "ipython3",
   "version": "3.6.4"
  }
 },
 "nbformat": 4,
 "nbformat_minor": 2
}
