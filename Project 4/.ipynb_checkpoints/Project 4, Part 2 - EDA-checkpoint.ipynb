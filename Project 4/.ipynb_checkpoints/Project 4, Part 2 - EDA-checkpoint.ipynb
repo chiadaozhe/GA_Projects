{
 "cells": [
  {
   "cell_type": "code",
   "execution_count": 116,
   "metadata": {},
   "outputs": [],
   "source": [
    "import pandas as pd\n",
    "import matplotlib.pyplot as plt\n",
    "%matplotlib inline\n",
    "import seaborn as sns"
   ]
  },
  {
   "cell_type": "code",
   "execution_count": 117,
   "metadata": {},
   "outputs": [],
   "source": [
    "airbnb = pd.read_excel('/Users/FeliciaWilliams/Documents/GitHub/GA_Projects/Project 4/listings.xlsm')"
   ]
  },
  {
   "cell_type": "code",
   "execution_count": 118,
   "metadata": {},
   "outputs": [
    {
     "data": {
      "text/plain": [
       "(21450, 29)"
      ]
     },
     "execution_count": 118,
     "metadata": {},
     "output_type": "execute_result"
    }
   ],
   "source": [
    "airbnb.shape"
   ]
  },
  {
   "cell_type": "code",
   "execution_count": 119,
   "metadata": {},
   "outputs": [
    {
     "data": {
      "text/html": [
       "<div>\n",
       "<style scoped>\n",
       "    .dataframe tbody tr th:only-of-type {\n",
       "        vertical-align: middle;\n",
       "    }\n",
       "\n",
       "    .dataframe tbody tr th {\n",
       "        vertical-align: top;\n",
       "    }\n",
       "\n",
       "    .dataframe thead th {\n",
       "        text-align: right;\n",
       "    }\n",
       "</style>\n",
       "<table border=\"1\" class=\"dataframe\">\n",
       "  <thead>\n",
       "    <tr style=\"text-align: right;\">\n",
       "      <th></th>\n",
       "      <th>name</th>\n",
       "      <th>summary</th>\n",
       "      <th>space</th>\n",
       "      <th>host_response_time</th>\n",
       "      <th>host_response_rate</th>\n",
       "      <th>host_is_superhost</th>\n",
       "      <th>host_identity_verified</th>\n",
       "      <th>latitude</th>\n",
       "      <th>longitude</th>\n",
       "      <th>property_type</th>\n",
       "      <th>...</th>\n",
       "      <th>review_scores_rating</th>\n",
       "      <th>review_scores_accuracy</th>\n",
       "      <th>review_scores_cleanliness</th>\n",
       "      <th>review_scores_checkin</th>\n",
       "      <th>review_scores_communication</th>\n",
       "      <th>review_scores_location</th>\n",
       "      <th>review_scores_value</th>\n",
       "      <th>cancellation_policy</th>\n",
       "      <th>calculated_host_listings_count</th>\n",
       "      <th>reviews_per_month</th>\n",
       "    </tr>\n",
       "  </thead>\n",
       "  <tbody>\n",
       "    <tr>\n",
       "      <th>0</th>\n",
       "      <td>Beautiful Room &amp; House</td>\n",
       "      <td>NaN</td>\n",
       "      <td>House: Clean, New, Modern, Quite, Safe. 10Km f...</td>\n",
       "      <td>NaN</td>\n",
       "      <td>NaN</td>\n",
       "      <td>f</td>\n",
       "      <td>f</td>\n",
       "      <td>-37.772684</td>\n",
       "      <td>145.092133</td>\n",
       "      <td>House</td>\n",
       "      <td>...</td>\n",
       "      <td>90.0</td>\n",
       "      <td>9.0</td>\n",
       "      <td>10.0</td>\n",
       "      <td>10.0</td>\n",
       "      <td>10.0</td>\n",
       "      <td>9.0</td>\n",
       "      <td>9.0</td>\n",
       "      <td>strict_14_with_grace_period</td>\n",
       "      <td>1</td>\n",
       "      <td>0.05</td>\n",
       "    </tr>\n",
       "    <tr>\n",
       "      <th>1</th>\n",
       "      <td>Room in Cool Deco Apartment in Brunswick</td>\n",
       "      <td>A large air conditioned room with queen spring...</td>\n",
       "      <td>The apartment is Deco/Edwardian in style and h...</td>\n",
       "      <td>within an hour</td>\n",
       "      <td>1.0</td>\n",
       "      <td>f</td>\n",
       "      <td>t</td>\n",
       "      <td>-37.766505</td>\n",
       "      <td>144.980736</td>\n",
       "      <td>Apartment</td>\n",
       "      <td>...</td>\n",
       "      <td>86.0</td>\n",
       "      <td>9.0</td>\n",
       "      <td>8.0</td>\n",
       "      <td>9.0</td>\n",
       "      <td>9.0</td>\n",
       "      <td>9.0</td>\n",
       "      <td>9.0</td>\n",
       "      <td>moderate</td>\n",
       "      <td>1</td>\n",
       "      <td>1.44</td>\n",
       "    </tr>\n",
       "    <tr>\n",
       "      <th>2</th>\n",
       "      <td>Cool Chic Beachside 1 BR Views APT+Garage+WIFI</td>\n",
       "      <td>RIGHT IN THE HEART OF ST KILDA! It doesn't get...</td>\n",
       "      <td>FREE WiFi FREE housekeeping for 9+ night stays...</td>\n",
       "      <td>within an hour</td>\n",
       "      <td>1.0</td>\n",
       "      <td>t</td>\n",
       "      <td>t</td>\n",
       "      <td>-37.859755</td>\n",
       "      <td>144.977369</td>\n",
       "      <td>Apartment</td>\n",
       "      <td>...</td>\n",
       "      <td>97.0</td>\n",
       "      <td>10.0</td>\n",
       "      <td>10.0</td>\n",
       "      <td>10.0</td>\n",
       "      <td>10.0</td>\n",
       "      <td>10.0</td>\n",
       "      <td>9.0</td>\n",
       "      <td>strict_14_with_grace_period</td>\n",
       "      <td>17</td>\n",
       "      <td>0.13</td>\n",
       "    </tr>\n",
       "    <tr>\n",
       "      <th>3</th>\n",
       "      <td>Large private room-close to city</td>\n",
       "      <td>Comfortable, relaxed house, a home away from  ...</td>\n",
       "      <td>The atmosphere is relaxed and easy going. You ...</td>\n",
       "      <td>NaN</td>\n",
       "      <td>NaN</td>\n",
       "      <td>f</td>\n",
       "      <td>t</td>\n",
       "      <td>-37.758971</td>\n",
       "      <td>144.989228</td>\n",
       "      <td>House</td>\n",
       "      <td>...</td>\n",
       "      <td>94.0</td>\n",
       "      <td>9.0</td>\n",
       "      <td>9.0</td>\n",
       "      <td>10.0</td>\n",
       "      <td>10.0</td>\n",
       "      <td>9.0</td>\n",
       "      <td>9.0</td>\n",
       "      <td>moderate</td>\n",
       "      <td>3</td>\n",
       "      <td>0.31</td>\n",
       "    </tr>\n",
       "    <tr>\n",
       "      <th>4</th>\n",
       "      <td>Melbourne BnB near City &amp; Sports</td>\n",
       "      <td>NaN</td>\n",
       "      <td>We offer comfortable accommodation in Inner Me...</td>\n",
       "      <td>NaN</td>\n",
       "      <td>NaN</td>\n",
       "      <td>f</td>\n",
       "      <td>t</td>\n",
       "      <td>-37.864530</td>\n",
       "      <td>144.992238</td>\n",
       "      <td>House</td>\n",
       "      <td>...</td>\n",
       "      <td>89.0</td>\n",
       "      <td>9.0</td>\n",
       "      <td>9.0</td>\n",
       "      <td>10.0</td>\n",
       "      <td>10.0</td>\n",
       "      <td>9.0</td>\n",
       "      <td>9.0</td>\n",
       "      <td>moderate</td>\n",
       "      <td>1</td>\n",
       "      <td>0.73</td>\n",
       "    </tr>\n",
       "  </tbody>\n",
       "</table>\n",
       "<p>5 rows × 29 columns</p>\n",
       "</div>"
      ],
      "text/plain": [
       "                                             name  \\\n",
       "0                          Beautiful Room & House   \n",
       "1        Room in Cool Deco Apartment in Brunswick   \n",
       "2  Cool Chic Beachside 1 BR Views APT+Garage+WIFI   \n",
       "3                Large private room-close to city   \n",
       "4                Melbourne BnB near City & Sports   \n",
       "\n",
       "                                             summary  \\\n",
       "0                                                NaN   \n",
       "1  A large air conditioned room with queen spring...   \n",
       "2  RIGHT IN THE HEART OF ST KILDA! It doesn't get...   \n",
       "3  Comfortable, relaxed house, a home away from  ...   \n",
       "4                                                NaN   \n",
       "\n",
       "                                               space host_response_time  \\\n",
       "0  House: Clean, New, Modern, Quite, Safe. 10Km f...                NaN   \n",
       "1  The apartment is Deco/Edwardian in style and h...     within an hour   \n",
       "2  FREE WiFi FREE housekeeping for 9+ night stays...     within an hour   \n",
       "3  The atmosphere is relaxed and easy going. You ...                NaN   \n",
       "4  We offer comfortable accommodation in Inner Me...                NaN   \n",
       "\n",
       "   host_response_rate host_is_superhost host_identity_verified   latitude  \\\n",
       "0                 NaN                 f                      f -37.772684   \n",
       "1                 1.0                 f                      t -37.766505   \n",
       "2                 1.0                 t                      t -37.859755   \n",
       "3                 NaN                 f                      t -37.758971   \n",
       "4                 NaN                 f                      t -37.864530   \n",
       "\n",
       "    longitude property_type        ...         review_scores_rating  \\\n",
       "0  145.092133         House        ...                         90.0   \n",
       "1  144.980736     Apartment        ...                         86.0   \n",
       "2  144.977369     Apartment        ...                         97.0   \n",
       "3  144.989228         House        ...                         94.0   \n",
       "4  144.992238         House        ...                         89.0   \n",
       "\n",
       "   review_scores_accuracy  review_scores_cleanliness  review_scores_checkin  \\\n",
       "0                     9.0                       10.0                   10.0   \n",
       "1                     9.0                        8.0                    9.0   \n",
       "2                    10.0                       10.0                   10.0   \n",
       "3                     9.0                        9.0                   10.0   \n",
       "4                     9.0                        9.0                   10.0   \n",
       "\n",
       "   review_scores_communication review_scores_location  review_scores_value  \\\n",
       "0                         10.0                    9.0                  9.0   \n",
       "1                          9.0                    9.0                  9.0   \n",
       "2                         10.0                   10.0                  9.0   \n",
       "3                         10.0                    9.0                  9.0   \n",
       "4                         10.0                    9.0                  9.0   \n",
       "\n",
       "           cancellation_policy  calculated_host_listings_count  \\\n",
       "0  strict_14_with_grace_period                               1   \n",
       "1                     moderate                               1   \n",
       "2  strict_14_with_grace_period                              17   \n",
       "3                     moderate                               3   \n",
       "4                     moderate                               1   \n",
       "\n",
       "   reviews_per_month  \n",
       "0               0.05  \n",
       "1               1.44  \n",
       "2               0.13  \n",
       "3               0.31  \n",
       "4               0.73  \n",
       "\n",
       "[5 rows x 29 columns]"
      ]
     },
     "execution_count": 119,
     "metadata": {},
     "output_type": "execute_result"
    }
   ],
   "source": [
    "airbnb.head()"
   ]
  },
  {
   "cell_type": "code",
   "execution_count": 120,
   "metadata": {},
   "outputs": [
    {
     "data": {
      "text/plain": [
       "<matplotlib.axes._subplots.AxesSubplot at 0x1a1f99fba8>"
      ]
     },
     "execution_count": 120,
     "metadata": {},
     "output_type": "execute_result"
    },
    {
     "data": {
      "image/png": "[encoded data removed]",
      "text/plain": [
       "<matplotlib.figure.Figure at 0x1a1f99f3c8>"
      ]
     },
     "metadata": {},
     "output_type": "display_data"
    }
   ],
   "source": [
    "airbnb.reviews_per_month.hist(bins=50)"
   ]
  },
  {
   "cell_type": "markdown",
   "metadata": {},
   "source": [
    "# Consideration 1: To consider how to deal with all the empty rows."
   ]
  },
  {
   "cell_type": "code",
   "execution_count": 121,
   "metadata": {
    "scrolled": true
   },
   "outputs": [
    {
     "data": {
      "text/plain": [
       "name                                  5\n",
       "summary                             529\n",
       "space                              5702\n",
       "host_response_time                 6323\n",
       "host_response_rate                 6323\n",
       "host_is_superhost                     4\n",
       "host_identity_verified                4\n",
       "latitude                              0\n",
       "longitude                             0\n",
       "property_type                         0\n",
       "room_type                             0\n",
       "accommodates                          0\n",
       "bathrooms                            22\n",
       "bedrooms                              5\n",
       "beds                                 28\n",
       "amenities                             0\n",
       "square_feet                       21225\n",
       "price                                 0\n",
       "number_of_reviews                     0\n",
       "review_scores_rating               5119\n",
       "review_scores_accuracy             5135\n",
       "review_scores_cleanliness          5127\n",
       "review_scores_checkin              5149\n",
       "review_scores_communication        5133\n",
       "review_scores_location             5151\n",
       "review_scores_value                5153\n",
       "cancellation_policy                   0\n",
       "calculated_host_listings_count        0\n",
       "reviews_per_month                  4705\n",
       "dtype: int64"
      ]
     },
     "execution_count": 121,
     "metadata": {},
     "output_type": "execute_result"
    }
   ],
   "source": [
    "airbnb.isna().sum()"
   ]
  },
  {
   "cell_type": "code",
   "execution_count": 122,
   "metadata": {},
   "outputs": [],
   "source": [
    "#As most of the data in square_feet is unavailable, to remove that column\n",
    "data = airbnb.drop('square_feet', axis=1)"
   ]
  },
  {
   "cell_type": "code",
   "execution_count": 123,
   "metadata": {},
   "outputs": [
    {
     "data": {
      "text/plain": [
       "(21450, 28)"
      ]
     },
     "execution_count": 123,
     "metadata": {},
     "output_type": "execute_result"
    }
   ],
   "source": [
    "data.shape"
   ]
  },
  {
   "cell_type": "code",
   "execution_count": 124,
   "metadata": {
    "scrolled": true
   },
   "outputs": [
    {
     "data": {
      "text/plain": [
       "name                                 5\n",
       "summary                            529\n",
       "space                             5702\n",
       "host_response_time                6323\n",
       "host_response_rate                6323\n",
       "host_is_superhost                    4\n",
       "host_identity_verified               4\n",
       "latitude                             0\n",
       "longitude                            0\n",
       "property_type                        0\n",
       "room_type                            0\n",
       "accommodates                         0\n",
       "bathrooms                           22\n",
       "bedrooms                             5\n",
       "beds                                28\n",
       "amenities                            0\n",
       "price                                0\n",
       "number_of_reviews                    0\n",
       "review_scores_rating              5119\n",
       "review_scores_accuracy            5135\n",
       "review_scores_cleanliness         5127\n",
       "review_scores_checkin             5149\n",
       "review_scores_communication       5133\n",
       "review_scores_location            5151\n",
       "review_scores_value               5153\n",
       "cancellation_policy                  0\n",
       "calculated_host_listings_count       0\n",
       "reviews_per_month                 4705\n",
       "dtype: int64"
      ]
     },
     "execution_count": 124,
     "metadata": {},
     "output_type": "execute_result"
    }
   ],
   "source": [
    "data.isna().sum()"
   ]
  },
  {
   "cell_type": "code",
   "execution_count": 125,
   "metadata": {},
   "outputs": [
    {
     "data": {
      "text/plain": [
       "0"
      ]
     },
     "execution_count": 125,
     "metadata": {},
     "output_type": "execute_result"
    }
   ],
   "source": [
    "data['host_is_superhost'].fillna('f', inplace=True)\n",
    "data['host_is_superhost'].isna().sum()"
   ]
  },
  {
   "cell_type": "code",
   "execution_count": 126,
   "metadata": {},
   "outputs": [
    {
     "data": {
      "text/plain": [
       "0"
      ]
     },
     "execution_count": 126,
     "metadata": {},
     "output_type": "execute_result"
    }
   ],
   "source": [
    "data['host_identity_verified'].fillna('f', inplace=True)\n",
    "data['host_identity_verified'].isna().sum()"
   ]
  },
  {
   "cell_type": "code",
   "execution_count": 127,
   "metadata": {},
   "outputs": [
    {
     "data": {
      "text/plain": [
       "within an hour        11168\n",
       "within a few hours     2152\n",
       "within a day           1428\n",
       "a few days or more      379\n",
       "Name: host_response_time, dtype: int64"
      ]
     },
     "execution_count": 127,
     "metadata": {},
     "output_type": "execute_result"
    }
   ],
   "source": [
    "data.host_response_time.value_counts()"
   ]
  },
  {
   "cell_type": "code",
   "execution_count": 128,
   "metadata": {},
   "outputs": [
    {
     "data": {
      "text/plain": [
       "21450"
      ]
     },
     "execution_count": 128,
     "metadata": {},
     "output_type": "execute_result"
    }
   ],
   "source": [
    "11168+2152+1428+379+6323 "
   ]
  },
  {
   "cell_type": "code",
   "execution_count": 129,
   "metadata": {},
   "outputs": [
    {
     "data": {
      "text/plain": [
       "0"
      ]
     },
     "execution_count": 129,
     "metadata": {},
     "output_type": "execute_result"
    }
   ],
   "source": [
    "data['host_response_time'].fillna('never', inplace=True)\n",
    "data['host_response_time'].isna().sum()"
   ]
  },
  {
   "cell_type": "code",
   "execution_count": 130,
   "metadata": {},
   "outputs": [],
   "source": [
    "#Since host_response_rate is a function of host_response_time, to drop host_response_rate and depend on host_response_time instead.\n",
    "data.drop('host_response_rate', axis=1, inplace=True)"
   ]
  },
  {
   "cell_type": "code",
   "execution_count": 131,
   "metadata": {
    "scrolled": true
   },
   "outputs": [
    {
     "data": {
      "text/plain": [
       "(21450, 27)"
      ]
     },
     "execution_count": 131,
     "metadata": {},
     "output_type": "execute_result"
    }
   ],
   "source": [
    "data.shape"
   ]
  },
  {
   "cell_type": "code",
   "execution_count": 132,
   "metadata": {},
   "outputs": [],
   "source": [
    "#Since review scores are based on ratings from people, we can assume that those that are blanks did not receive any ratings and fill them with 0.\n",
    "data.fillna({'review_scores_rating':0, 'review_scores_accuracy':0, 'review_scores_cleanliness':0, 'review_scores_checkin':0, 'review_scores_communication':0, 'review_scores_location':0, 'review_scores_value':0}, inplace=True)"
   ]
  },
  {
   "cell_type": "code",
   "execution_count": 133,
   "metadata": {
    "scrolled": true
   },
   "outputs": [
    {
     "data": {
      "text/plain": [
       "count    16745.000000\n",
       "mean         1.547330\n",
       "std          1.681611\n",
       "min          0.020000\n",
       "25%          0.300000\n",
       "50%          0.980000\n",
       "75%          2.210000\n",
       "max         14.140000\n",
       "Name: reviews_per_month, dtype: float64"
      ]
     },
     "execution_count": 133,
     "metadata": {},
     "output_type": "execute_result"
    }
   ],
   "source": [
    "data.reviews_per_month.describe()"
   ]
  },
  {
   "cell_type": "code",
   "execution_count": 134,
   "metadata": {},
   "outputs": [
    {
     "data": {
      "text/plain": [
       "0"
      ]
     },
     "execution_count": 134,
     "metadata": {},
     "output_type": "execute_result"
    }
   ],
   "source": [
    "#Since all other listings with a value for reviews_per_month has a minimum of 0.02, we can assume that all those with NA represent no reviews.\n",
    "data['reviews_per_month'].fillna(0, inplace=True)\n",
    "data['reviews_per_month'].isna().sum()"
   ]
  },
  {
   "cell_type": "code",
   "execution_count": 135,
   "metadata": {
    "scrolled": true
   },
   "outputs": [
    {
     "data": {
      "text/plain": [
       "name                                 5\n",
       "summary                            529\n",
       "space                             5702\n",
       "host_response_time                   0\n",
       "host_is_superhost                    0\n",
       "host_identity_verified               0\n",
       "latitude                             0\n",
       "longitude                            0\n",
       "property_type                        0\n",
       "room_type                            0\n",
       "accommodates                         0\n",
       "bathrooms                           22\n",
       "bedrooms                             5\n",
       "beds                                28\n",
       "amenities                            0\n",
       "price                                0\n",
       "number_of_reviews                    0\n",
       "review_scores_rating                 0\n",
       "review_scores_accuracy               0\n",
       "review_scores_cleanliness            0\n",
       "review_scores_checkin                0\n",
       "review_scores_communication          0\n",
       "review_scores_location               0\n",
       "review_scores_value                  0\n",
       "cancellation_policy                  0\n",
       "calculated_host_listings_count       0\n",
       "reviews_per_month                    0\n",
       "dtype: int64"
      ]
     },
     "execution_count": 135,
     "metadata": {},
     "output_type": "execute_result"
    }
   ],
   "source": [
    "data.isna().sum()"
   ]
  },
  {
   "cell_type": "markdown",
   "metadata": {},
   "source": [
    "### The rest of the columns will be handled at a later date."
   ]
  },
  {
   "cell_type": "markdown",
   "metadata": {},
   "source": [
    "# Consideration 2: To consider how many bins to use in classifying the target column."
   ]
  },
  {
   "cell_type": "code",
   "execution_count": 136,
   "metadata": {},
   "outputs": [
    {
     "data": {
      "text/plain": [
       "<matplotlib.axes._subplots.AxesSubplot at 0x1a1fb32390>"
      ]
     },
     "execution_count": 136,
     "metadata": {},
     "output_type": "execute_result"
    },
    {
     "data": {
      "image/png": "[encoded data removed]",
      "text/plain": [
       "<matplotlib.figure.Figure at 0x1a208e1f98>"
      ]
     },
     "metadata": {},
     "output_type": "display_data"
    }
   ],
   "source": [
    "data.reviews_per_month.hist(bins=50, figsize=(15,5))"
   ]
  },
  {
   "cell_type": "code",
   "execution_count": 137,
   "metadata": {},
   "outputs": [],
   "source": [
    "def f(row):\n",
    "    if row['reviews_per_month'] <= 0.5:\n",
    "        val = 0\n",
    "    elif row['reviews_per_month'] <= 2:\n",
    "        val = 1    \n",
    "    else:\n",
    "        val = 2\n",
    "    return val\n",
    "\n",
    "data['popular'] = data.apply(f, axis=1)"
   ]
  },
  {
   "cell_type": "code",
   "execution_count": 138,
   "metadata": {},
   "outputs": [
    {
     "data": {
      "text/plain": [
       "<matplotlib.axes._subplots.AxesSubplot at 0x1a1fb7ada0>"
      ]
     },
     "execution_count": 138,
     "metadata": {},
     "output_type": "execute_result"
    },
    {
     "data": {
      "image/png": "[encoded data removed]",
      "text/plain": [
       "<matplotlib.figure.Figure at 0x1a1fb8e0f0>"
      ]
     },
     "metadata": {},
     "output_type": "display_data"
    }
   ],
   "source": [
    "data.popular.hist()"
   ]
  },
  {
   "cell_type": "code",
   "execution_count": 139,
   "metadata": {
    "scrolled": true
   },
   "outputs": [
    {
     "name": "stdout",
     "output_type": "stream",
     "text": [
      "Total listings is 21450\n",
      "Less popular listings: Number of listings booked no more than once in 2 months is 10510 - 49.0%\n",
      "Popular listings: Number of listings booked no more than once in 2 weeks is 6324 - 28.999999999999996%\n",
      "Most popular listings: Number of listings booked at least once in 2 weeks is 4616 - 22.0%\n"
     ]
    }
   ],
   "source": [
    "count0 = 0\n",
    "count1 = 0\n",
    "count2 = 0\n",
    "\n",
    "for i in data['popular']:\n",
    "    if i == 0:\n",
    "        count0 += 1\n",
    "    elif i == 1:\n",
    "        count1 += 1\n",
    "    else:\n",
    "        count2 += 1\n",
    "\n",
    "total = count0 + count1 + count2\n",
    "print('Total listings is ' +  str(total))\n",
    "print('Less popular listings: Number of listings booked no more than once in 2 months is ' + str(count0) + \" - \" + str(round(count0/total,2)*100) +\"%\")\n",
    "print('Popular listings: Number of listings booked no more than once in 2 weeks is ' + str(count1) + \" - \" + str(round(count1/total,2)*100) +\"%\")\n",
    "print('Most popular listings: Number of listings booked at least once in 2 weeks is ' + str(count2) + \" - \" + str(round(count2/total,2)*100) +\"%\")"
   ]
  },
  {
   "cell_type": "markdown",
   "metadata": {},
   "source": [
    "### There is an imbalance problem for the more popular classes of property listings. Will need to see how to best balance the dataset."
   ]
  },
  {
   "cell_type": "markdown",
   "metadata": {},
   "source": [
    "# Consideration 3: To confirm which columns to drop depending on the correlation matrix and whether I think the columns play a significant part in the attractiveness of the property."
   ]
  },
  {
   "cell_type": "code",
   "execution_count": 140,
   "metadata": {
    "scrolled": false
   },
   "outputs": [
    {
     "data": {
      "text/plain": [
       "<matplotlib.axes._subplots.AxesSubplot at 0x1a2160b630>"
      ]
     },
     "execution_count": 140,
     "metadata": {},
     "output_type": "execute_result"
    },
    {
     "data": {
      "image/png": "[encoded data removed]",
      "text/plain": [
       "<matplotlib.figure.Figure at 0x1a21602f60>"
      ]
     },
     "metadata": {},
     "output_type": "display_data"
    }
   ],
   "source": [
    "sns.heatmap(data.corr(), vmin=-1, vmax=1, cmap=\"coolwarm\", center=0)"
   ]
  },
  {
   "cell_type": "code",
   "execution_count": 141,
   "metadata": {},
   "outputs": [
    {
     "data": {
      "text/html": [
       "<div>\n",
       "<style scoped>\n",
       "    .dataframe tbody tr th:only-of-type {\n",
       "        vertical-align: middle;\n",
       "    }\n",
       "\n",
       "    .dataframe tbody tr th {\n",
       "        vertical-align: top;\n",
       "    }\n",
       "\n",
       "    .dataframe thead th {\n",
       "        text-align: right;\n",
       "    }\n",
       "</style>\n",
       "<table border=\"1\" class=\"dataframe\">\n",
       "  <thead>\n",
       "    <tr style=\"text-align: right;\">\n",
       "      <th></th>\n",
       "      <th>latitude</th>\n",
       "      <th>longitude</th>\n",
       "      <th>accommodates</th>\n",
       "      <th>bathrooms</th>\n",
       "      <th>bedrooms</th>\n",
       "      <th>beds</th>\n",
       "      <th>price</th>\n",
       "      <th>number_of_reviews</th>\n",
       "      <th>review_scores_rating</th>\n",
       "      <th>review_scores_accuracy</th>\n",
       "      <th>review_scores_cleanliness</th>\n",
       "      <th>review_scores_checkin</th>\n",
       "      <th>review_scores_communication</th>\n",
       "      <th>review_scores_location</th>\n",
       "      <th>review_scores_value</th>\n",
       "      <th>calculated_host_listings_count</th>\n",
       "      <th>reviews_per_month</th>\n",
       "      <th>popular</th>\n",
       "    </tr>\n",
       "  </thead>\n",
       "  <tbody>\n",
       "    <tr>\n",
       "      <th>latitude</th>\n",
       "      <td>1.000000</td>\n",
       "      <td>-0.126179</td>\n",
       "      <td>-0.018084</td>\n",
       "      <td>-0.043329</td>\n",
       "      <td>-0.043175</td>\n",
       "      <td>-0.026574</td>\n",
       "      <td>-0.005755</td>\n",
       "      <td>0.062461</td>\n",
       "      <td>0.039615</td>\n",
       "      <td>0.041817</td>\n",
       "      <td>0.039283</td>\n",
       "      <td>0.037768</td>\n",
       "      <td>0.039406</td>\n",
       "      <td>0.041172</td>\n",
       "      <td>0.039803</td>\n",
       "      <td>0.029805</td>\n",
       "      <td>0.081319</td>\n",
       "      <td>0.073805</td>\n",
       "    </tr>\n",
       "    <tr>\n",
       "      <th>longitude</th>\n",
       "      <td>-0.126179</td>\n",
       "      <td>1.000000</td>\n",
       "      <td>0.054433</td>\n",
       "      <td>0.061808</td>\n",
       "      <td>0.095466</td>\n",
       "      <td>0.065523</td>\n",
       "      <td>0.054351</td>\n",
       "      <td>-0.002219</td>\n",
       "      <td>0.006842</td>\n",
       "      <td>0.004631</td>\n",
       "      <td>0.009791</td>\n",
       "      <td>0.006166</td>\n",
       "      <td>0.003938</td>\n",
       "      <td>-0.000095</td>\n",
       "      <td>0.002824</td>\n",
       "      <td>-0.073214</td>\n",
       "      <td>-0.025085</td>\n",
       "      <td>-0.015451</td>\n",
       "    </tr>\n",
       "    <tr>\n",
       "      <th>accommodates</th>\n",
       "      <td>-0.018084</td>\n",
       "      <td>0.054433</td>\n",
       "      <td>1.000000</td>\n",
       "      <td>0.522629</td>\n",
       "      <td>0.803798</td>\n",
       "      <td>0.861536</td>\n",
       "      <td>0.381421</td>\n",
       "      <td>0.086230</td>\n",
       "      <td>0.084522</td>\n",
       "      <td>0.084248</td>\n",
       "      <td>0.087729</td>\n",
       "      <td>0.084783</td>\n",
       "      <td>0.086562</td>\n",
       "      <td>0.092775</td>\n",
       "      <td>0.080002</td>\n",
       "      <td>0.132690</td>\n",
       "      <td>0.143707</td>\n",
       "      <td>0.146258</td>\n",
       "    </tr>\n",
       "    <tr>\n",
       "      <th>bathrooms</th>\n",
       "      <td>-0.043329</td>\n",
       "      <td>0.061808</td>\n",
       "      <td>0.522629</td>\n",
       "      <td>1.000000</td>\n",
       "      <td>0.599461</td>\n",
       "      <td>0.517916</td>\n",
       "      <td>0.314450</td>\n",
       "      <td>-0.057391</td>\n",
       "      <td>-0.032632</td>\n",
       "      <td>-0.035354</td>\n",
       "      <td>-0.035374</td>\n",
       "      <td>-0.032868</td>\n",
       "      <td>-0.033819</td>\n",
       "      <td>-0.033202</td>\n",
       "      <td>-0.036268</td>\n",
       "      <td>0.091331</td>\n",
       "      <td>-0.049151</td>\n",
       "      <td>-0.043796</td>\n",
       "    </tr>\n",
       "    <tr>\n",
       "      <th>bedrooms</th>\n",
       "      <td>-0.043175</td>\n",
       "      <td>0.095466</td>\n",
       "      <td>0.803798</td>\n",
       "      <td>0.599461</td>\n",
       "      <td>1.000000</td>\n",
       "      <td>0.767720</td>\n",
       "      <td>0.389789</td>\n",
       "      <td>-0.032642</td>\n",
       "      <td>0.014476</td>\n",
       "      <td>0.012028</td>\n",
       "      <td>0.014957</td>\n",
       "      <td>0.013448</td>\n",
       "      <td>0.013932</td>\n",
       "      <td>0.015047</td>\n",
       "      <td>0.009285</td>\n",
       "      <td>0.037635</td>\n",
       "      <td>-0.010248</td>\n",
       "      <td>-0.002080</td>\n",
       "    </tr>\n",
       "    <tr>\n",
       "      <th>beds</th>\n",
       "      <td>-0.026574</td>\n",
       "      <td>0.065523</td>\n",
       "      <td>0.861536</td>\n",
       "      <td>0.517916</td>\n",
       "      <td>0.767720</td>\n",
       "      <td>1.000000</td>\n",
       "      <td>0.335570</td>\n",
       "      <td>0.038877</td>\n",
       "      <td>0.046210</td>\n",
       "      <td>0.045979</td>\n",
       "      <td>0.047691</td>\n",
       "      <td>0.047932</td>\n",
       "      <td>0.049263</td>\n",
       "      <td>0.052367</td>\n",
       "      <td>0.042804</td>\n",
       "      <td>0.091546</td>\n",
       "      <td>0.075189</td>\n",
       "      <td>0.079036</td>\n",
       "    </tr>\n",
       "    <tr>\n",
       "      <th>price</th>\n",
       "      <td>-0.005755</td>\n",
       "      <td>0.054351</td>\n",
       "      <td>0.381421</td>\n",
       "      <td>0.314450</td>\n",
       "      <td>0.389789</td>\n",
       "      <td>0.335570</td>\n",
       "      <td>1.000000</td>\n",
       "      <td>-0.028100</td>\n",
       "      <td>-0.058452</td>\n",
       "      <td>-0.060481</td>\n",
       "      <td>-0.056284</td>\n",
       "      <td>-0.063080</td>\n",
       "      <td>-0.062580</td>\n",
       "      <td>-0.056566</td>\n",
       "      <td>-0.066535</td>\n",
       "      <td>0.068309</td>\n",
       "      <td>-0.044584</td>\n",
       "      <td>-0.057195</td>\n",
       "    </tr>\n",
       "    <tr>\n",
       "      <th>number_of_reviews</th>\n",
       "      <td>0.062461</td>\n",
       "      <td>-0.002219</td>\n",
       "      <td>0.086230</td>\n",
       "      <td>-0.057391</td>\n",
       "      <td>-0.032642</td>\n",
       "      <td>0.038877</td>\n",
       "      <td>-0.028100</td>\n",
       "      <td>1.000000</td>\n",
       "      <td>0.313920</td>\n",
       "      <td>0.321774</td>\n",
       "      <td>0.320475</td>\n",
       "      <td>0.318608</td>\n",
       "      <td>0.319825</td>\n",
       "      <td>0.321536</td>\n",
       "      <td>0.317581</td>\n",
       "      <td>0.073553</td>\n",
       "      <td>0.679241</td>\n",
       "      <td>0.605189</td>\n",
       "    </tr>\n",
       "    <tr>\n",
       "      <th>review_scores_rating</th>\n",
       "      <td>0.039615</td>\n",
       "      <td>0.006842</td>\n",
       "      <td>0.084522</td>\n",
       "      <td>-0.032632</td>\n",
       "      <td>0.014476</td>\n",
       "      <td>0.046210</td>\n",
       "      <td>-0.058452</td>\n",
       "      <td>0.313920</td>\n",
       "      <td>1.000000</td>\n",
       "      <td>0.990495</td>\n",
       "      <td>0.988181</td>\n",
       "      <td>0.985885</td>\n",
       "      <td>0.989368</td>\n",
       "      <td>0.983024</td>\n",
       "      <td>0.988006</td>\n",
       "      <td>0.002919</td>\n",
       "      <td>0.417608</td>\n",
       "      <td>0.507276</td>\n",
       "    </tr>\n",
       "    <tr>\n",
       "      <th>review_scores_accuracy</th>\n",
       "      <td>0.041817</td>\n",
       "      <td>0.004631</td>\n",
       "      <td>0.084248</td>\n",
       "      <td>-0.035354</td>\n",
       "      <td>0.012028</td>\n",
       "      <td>0.045979</td>\n",
       "      <td>-0.060481</td>\n",
       "      <td>0.321774</td>\n",
       "      <td>0.990495</td>\n",
       "      <td>1.000000</td>\n",
       "      <td>0.985579</td>\n",
       "      <td>0.986192</td>\n",
       "      <td>0.988270</td>\n",
       "      <td>0.983566</td>\n",
       "      <td>0.986935</td>\n",
       "      <td>0.004582</td>\n",
       "      <td>0.423509</td>\n",
       "      <td>0.514161</td>\n",
       "    </tr>\n",
       "    <tr>\n",
       "      <th>review_scores_cleanliness</th>\n",
       "      <td>0.039283</td>\n",
       "      <td>0.009791</td>\n",
       "      <td>0.087729</td>\n",
       "      <td>-0.035374</td>\n",
       "      <td>0.014957</td>\n",
       "      <td>0.047691</td>\n",
       "      <td>-0.056284</td>\n",
       "      <td>0.320475</td>\n",
       "      <td>0.988181</td>\n",
       "      <td>0.985579</td>\n",
       "      <td>1.000000</td>\n",
       "      <td>0.979480</td>\n",
       "      <td>0.981247</td>\n",
       "      <td>0.976697</td>\n",
       "      <td>0.981110</td>\n",
       "      <td>0.007297</td>\n",
       "      <td>0.424898</td>\n",
       "      <td>0.515122</td>\n",
       "    </tr>\n",
       "    <tr>\n",
       "      <th>review_scores_checkin</th>\n",
       "      <td>0.037768</td>\n",
       "      <td>0.006166</td>\n",
       "      <td>0.084783</td>\n",
       "      <td>-0.032868</td>\n",
       "      <td>0.013448</td>\n",
       "      <td>0.047932</td>\n",
       "      <td>-0.063080</td>\n",
       "      <td>0.318608</td>\n",
       "      <td>0.985885</td>\n",
       "      <td>0.986192</td>\n",
       "      <td>0.979480</td>\n",
       "      <td>1.000000</td>\n",
       "      <td>0.991002</td>\n",
       "      <td>0.986558</td>\n",
       "      <td>0.985930</td>\n",
       "      <td>0.001416</td>\n",
       "      <td>0.414811</td>\n",
       "      <td>0.505706</td>\n",
       "    </tr>\n",
       "    <tr>\n",
       "      <th>review_scores_communication</th>\n",
       "      <td>0.039406</td>\n",
       "      <td>0.003938</td>\n",
       "      <td>0.086562</td>\n",
       "      <td>-0.033819</td>\n",
       "      <td>0.013932</td>\n",
       "      <td>0.049263</td>\n",
       "      <td>-0.062580</td>\n",
       "      <td>0.319825</td>\n",
       "      <td>0.989368</td>\n",
       "      <td>0.988270</td>\n",
       "      <td>0.981247</td>\n",
       "      <td>0.991002</td>\n",
       "      <td>1.000000</td>\n",
       "      <td>0.986355</td>\n",
       "      <td>0.986050</td>\n",
       "      <td>0.005982</td>\n",
       "      <td>0.418383</td>\n",
       "      <td>0.508799</td>\n",
       "    </tr>\n",
       "    <tr>\n",
       "      <th>review_scores_location</th>\n",
       "      <td>0.041172</td>\n",
       "      <td>-0.000095</td>\n",
       "      <td>0.092775</td>\n",
       "      <td>-0.033202</td>\n",
       "      <td>0.015047</td>\n",
       "      <td>0.052367</td>\n",
       "      <td>-0.056566</td>\n",
       "      <td>0.321536</td>\n",
       "      <td>0.983024</td>\n",
       "      <td>0.983566</td>\n",
       "      <td>0.976697</td>\n",
       "      <td>0.986558</td>\n",
       "      <td>0.986355</td>\n",
       "      <td>1.000000</td>\n",
       "      <td>0.985059</td>\n",
       "      <td>0.020438</td>\n",
       "      <td>0.427394</td>\n",
       "      <td>0.516743</td>\n",
       "    </tr>\n",
       "    <tr>\n",
       "      <th>review_scores_value</th>\n",
       "      <td>0.039803</td>\n",
       "      <td>0.002824</td>\n",
       "      <td>0.080002</td>\n",
       "      <td>-0.036268</td>\n",
       "      <td>0.009285</td>\n",
       "      <td>0.042804</td>\n",
       "      <td>-0.066535</td>\n",
       "      <td>0.317581</td>\n",
       "      <td>0.988006</td>\n",
       "      <td>0.986935</td>\n",
       "      <td>0.981110</td>\n",
       "      <td>0.985930</td>\n",
       "      <td>0.986050</td>\n",
       "      <td>0.985059</td>\n",
       "      <td>1.000000</td>\n",
       "      <td>-0.002619</td>\n",
       "      <td>0.424429</td>\n",
       "      <td>0.514551</td>\n",
       "    </tr>\n",
       "    <tr>\n",
       "      <th>calculated_host_listings_count</th>\n",
       "      <td>0.029805</td>\n",
       "      <td>-0.073214</td>\n",
       "      <td>0.132690</td>\n",
       "      <td>0.091331</td>\n",
       "      <td>0.037635</td>\n",
       "      <td>0.091546</td>\n",
       "      <td>0.068309</td>\n",
       "      <td>0.073553</td>\n",
       "      <td>0.002919</td>\n",
       "      <td>0.004582</td>\n",
       "      <td>0.007297</td>\n",
       "      <td>0.001416</td>\n",
       "      <td>0.005982</td>\n",
       "      <td>0.020438</td>\n",
       "      <td>-0.002619</td>\n",
       "      <td>1.000000</td>\n",
       "      <td>0.101019</td>\n",
       "      <td>0.078314</td>\n",
       "    </tr>\n",
       "    <tr>\n",
       "      <th>reviews_per_month</th>\n",
       "      <td>0.081319</td>\n",
       "      <td>-0.025085</td>\n",
       "      <td>0.143707</td>\n",
       "      <td>-0.049151</td>\n",
       "      <td>-0.010248</td>\n",
       "      <td>0.075189</td>\n",
       "      <td>-0.044584</td>\n",
       "      <td>0.679241</td>\n",
       "      <td>0.417608</td>\n",
       "      <td>0.423509</td>\n",
       "      <td>0.424898</td>\n",
       "      <td>0.414811</td>\n",
       "      <td>0.418383</td>\n",
       "      <td>0.427394</td>\n",
       "      <td>0.424429</td>\n",
       "      <td>0.101019</td>\n",
       "      <td>1.000000</td>\n",
       "      <td>0.845728</td>\n",
       "    </tr>\n",
       "    <tr>\n",
       "      <th>popular</th>\n",
       "      <td>0.073805</td>\n",
       "      <td>-0.015451</td>\n",
       "      <td>0.146258</td>\n",
       "      <td>-0.043796</td>\n",
       "      <td>-0.002080</td>\n",
       "      <td>0.079036</td>\n",
       "      <td>-0.057195</td>\n",
       "      <td>0.605189</td>\n",
       "      <td>0.507276</td>\n",
       "      <td>0.514161</td>\n",
       "      <td>0.515122</td>\n",
       "      <td>0.505706</td>\n",
       "      <td>0.508799</td>\n",
       "      <td>0.516743</td>\n",
       "      <td>0.514551</td>\n",
       "      <td>0.078314</td>\n",
       "      <td>0.845728</td>\n",
       "      <td>1.000000</td>\n",
       "    </tr>\n",
       "  </tbody>\n",
       "</table>\n",
       "</div>"
      ],
      "text/plain": [
       "                                latitude  longitude  accommodates  bathrooms  \\\n",
       "latitude                        1.000000  -0.126179     -0.018084  -0.043329   \n",
       "longitude                      -0.126179   1.000000      0.054433   0.061808   \n",
       "accommodates                   -0.018084   0.054433      1.000000   0.522629   \n",
       "bathrooms                      -0.043329   0.061808      0.522629   1.000000   \n",
       "bedrooms                       -0.043175   0.095466      0.803798   0.599461   \n",
       "beds                           -0.026574   0.065523      0.861536   0.517916   \n",
       "price                          -0.005755   0.054351      0.381421   0.314450   \n",
       "number_of_reviews               0.062461  -0.002219      0.086230  -0.057391   \n",
       "review_scores_rating            0.039615   0.006842      0.084522  -0.032632   \n",
       "review_scores_accuracy          0.041817   0.004631      0.084248  -0.035354   \n",
       "review_scores_cleanliness       0.039283   0.009791      0.087729  -0.035374   \n",
       "review_scores_checkin           0.037768   0.006166      0.084783  -0.032868   \n",
       "review_scores_communication     0.039406   0.003938      0.086562  -0.033819   \n",
       "review_scores_location          0.041172  -0.000095      0.092775  -0.033202   \n",
       "review_scores_value             0.039803   0.002824      0.080002  -0.036268   \n",
       "calculated_host_listings_count  0.029805  -0.073214      0.132690   0.091331   \n",
       "reviews_per_month               0.081319  -0.025085      0.143707  -0.049151   \n",
       "popular                         0.073805  -0.015451      0.146258  -0.043796   \n",
       "\n",
       "                                bedrooms      beds     price  \\\n",
       "latitude                       -0.043175 -0.026574 -0.005755   \n",
       "longitude                       0.095466  0.065523  0.054351   \n",
       "accommodates                    0.803798  0.861536  0.381421   \n",
       "bathrooms                       0.599461  0.517916  0.314450   \n",
       "bedrooms                        1.000000  0.767720  0.389789   \n",
       "beds                            0.767720  1.000000  0.335570   \n",
       "price                           0.389789  0.335570  1.000000   \n",
       "number_of_reviews              -0.032642  0.038877 -0.028100   \n",
       "review_scores_rating            0.014476  0.046210 -0.058452   \n",
       "review_scores_accuracy          0.012028  0.045979 -0.060481   \n",
       "review_scores_cleanliness       0.014957  0.047691 -0.056284   \n",
       "review_scores_checkin           0.013448  0.047932 -0.063080   \n",
       "review_scores_communication     0.013932  0.049263 -0.062580   \n",
       "review_scores_location          0.015047  0.052367 -0.056566   \n",
       "review_scores_value             0.009285  0.042804 -0.066535   \n",
       "calculated_host_listings_count  0.037635  0.091546  0.068309   \n",
       "reviews_per_month              -0.010248  0.075189 -0.044584   \n",
       "popular                        -0.002080  0.079036 -0.057195   \n",
       "\n",
       "                                number_of_reviews  review_scores_rating  \\\n",
       "latitude                                 0.062461              0.039615   \n",
       "longitude                               -0.002219              0.006842   \n",
       "accommodates                             0.086230              0.084522   \n",
       "bathrooms                               -0.057391             -0.032632   \n",
       "bedrooms                                -0.032642              0.014476   \n",
       "beds                                     0.038877              0.046210   \n",
       "price                                   -0.028100             -0.058452   \n",
       "number_of_reviews                        1.000000              0.313920   \n",
       "review_scores_rating                     0.313920              1.000000   \n",
       "review_scores_accuracy                   0.321774              0.990495   \n",
       "review_scores_cleanliness                0.320475              0.988181   \n",
       "review_scores_checkin                    0.318608              0.985885   \n",
       "review_scores_communication              0.319825              0.989368   \n",
       "review_scores_location                   0.321536              0.983024   \n",
       "review_scores_value                      0.317581              0.988006   \n",
       "calculated_host_listings_count           0.073553              0.002919   \n",
       "reviews_per_month                        0.679241              0.417608   \n",
       "popular                                  0.605189              0.507276   \n",
       "\n",
       "                                review_scores_accuracy  \\\n",
       "latitude                                      0.041817   \n",
       "longitude                                     0.004631   \n",
       "accommodates                                  0.084248   \n",
       "bathrooms                                    -0.035354   \n",
       "bedrooms                                      0.012028   \n",
       "beds                                          0.045979   \n",
       "price                                        -0.060481   \n",
       "number_of_reviews                             0.321774   \n",
       "review_scores_rating                          0.990495   \n",
       "review_scores_accuracy                        1.000000   \n",
       "review_scores_cleanliness                     0.985579   \n",
       "review_scores_checkin                         0.986192   \n",
       "review_scores_communication                   0.988270   \n",
       "review_scores_location                        0.983566   \n",
       "review_scores_value                           0.986935   \n",
       "calculated_host_listings_count                0.004582   \n",
       "reviews_per_month                             0.423509   \n",
       "popular                                       0.514161   \n",
       "\n",
       "                                review_scores_cleanliness  \\\n",
       "latitude                                         0.039283   \n",
       "longitude                                        0.009791   \n",
       "accommodates                                     0.087729   \n",
       "bathrooms                                       -0.035374   \n",
       "bedrooms                                         0.014957   \n",
       "beds                                             0.047691   \n",
       "price                                           -0.056284   \n",
       "number_of_reviews                                0.320475   \n",
       "review_scores_rating                             0.988181   \n",
       "review_scores_accuracy                           0.985579   \n",
       "review_scores_cleanliness                        1.000000   \n",
       "review_scores_checkin                            0.979480   \n",
       "review_scores_communication                      0.981247   \n",
       "review_scores_location                           0.976697   \n",
       "review_scores_value                              0.981110   \n",
       "calculated_host_listings_count                   0.007297   \n",
       "reviews_per_month                                0.424898   \n",
       "popular                                          0.515122   \n",
       "\n",
       "                                review_scores_checkin  \\\n",
       "latitude                                     0.037768   \n",
       "longitude                                    0.006166   \n",
       "accommodates                                 0.084783   \n",
       "bathrooms                                   -0.032868   \n",
       "bedrooms                                     0.013448   \n",
       "beds                                         0.047932   \n",
       "price                                       -0.063080   \n",
       "number_of_reviews                            0.318608   \n",
       "review_scores_rating                         0.985885   \n",
       "review_scores_accuracy                       0.986192   \n",
       "review_scores_cleanliness                    0.979480   \n",
       "review_scores_checkin                        1.000000   \n",
       "review_scores_communication                  0.991002   \n",
       "review_scores_location                       0.986558   \n",
       "review_scores_value                          0.985930   \n",
       "calculated_host_listings_count               0.001416   \n",
       "reviews_per_month                            0.414811   \n",
       "popular                                      0.505706   \n",
       "\n",
       "                                review_scores_communication  \\\n",
       "latitude                                           0.039406   \n",
       "longitude                                          0.003938   \n",
       "accommodates                                       0.086562   \n",
       "bathrooms                                         -0.033819   \n",
       "bedrooms                                           0.013932   \n",
       "beds                                               0.049263   \n",
       "price                                             -0.062580   \n",
       "number_of_reviews                                  0.319825   \n",
       "review_scores_rating                               0.989368   \n",
       "review_scores_accuracy                             0.988270   \n",
       "review_scores_cleanliness                          0.981247   \n",
       "review_scores_checkin                              0.991002   \n",
       "review_scores_communication                        1.000000   \n",
       "review_scores_location                             0.986355   \n",
       "review_scores_value                                0.986050   \n",
       "calculated_host_listings_count                     0.005982   \n",
       "reviews_per_month                                  0.418383   \n",
       "popular                                            0.508799   \n",
       "\n",
       "                                review_scores_location  review_scores_value  \\\n",
       "latitude                                      0.041172             0.039803   \n",
       "longitude                                    -0.000095             0.002824   \n",
       "accommodates                                  0.092775             0.080002   \n",
       "bathrooms                                    -0.033202            -0.036268   \n",
       "bedrooms                                      0.015047             0.009285   \n",
       "beds                                          0.052367             0.042804   \n",
       "price                                        -0.056566            -0.066535   \n",
       "number_of_reviews                             0.321536             0.317581   \n",
       "review_scores_rating                          0.983024             0.988006   \n",
       "review_scores_accuracy                        0.983566             0.986935   \n",
       "review_scores_cleanliness                     0.976697             0.981110   \n",
       "review_scores_checkin                         0.986558             0.985930   \n",
       "review_scores_communication                   0.986355             0.986050   \n",
       "review_scores_location                        1.000000             0.985059   \n",
       "review_scores_value                           0.985059             1.000000   \n",
       "calculated_host_listings_count                0.020438            -0.002619   \n",
       "reviews_per_month                             0.427394             0.424429   \n",
       "popular                                       0.516743             0.514551   \n",
       "\n",
       "                                calculated_host_listings_count  \\\n",
       "latitude                                              0.029805   \n",
       "longitude                                            -0.073214   \n",
       "accommodates                                          0.132690   \n",
       "bathrooms                                             0.091331   \n",
       "bedrooms                                              0.037635   \n",
       "beds                                                  0.091546   \n",
       "price                                                 0.068309   \n",
       "number_of_reviews                                     0.073553   \n",
       "review_scores_rating                                  0.002919   \n",
       "review_scores_accuracy                                0.004582   \n",
       "review_scores_cleanliness                             0.007297   \n",
       "review_scores_checkin                                 0.001416   \n",
       "review_scores_communication                           0.005982   \n",
       "review_scores_location                                0.020438   \n",
       "review_scores_value                                  -0.002619   \n",
       "calculated_host_listings_count                        1.000000   \n",
       "reviews_per_month                                     0.101019   \n",
       "popular                                               0.078314   \n",
       "\n",
       "                                reviews_per_month   popular  \n",
       "latitude                                 0.081319  0.073805  \n",
       "longitude                               -0.025085 -0.015451  \n",
       "accommodates                             0.143707  0.146258  \n",
       "bathrooms                               -0.049151 -0.043796  \n",
       "bedrooms                                -0.010248 -0.002080  \n",
       "beds                                     0.075189  0.079036  \n",
       "price                                   -0.044584 -0.057195  \n",
       "number_of_reviews                        0.679241  0.605189  \n",
       "review_scores_rating                     0.417608  0.507276  \n",
       "review_scores_accuracy                   0.423509  0.514161  \n",
       "review_scores_cleanliness                0.424898  0.515122  \n",
       "review_scores_checkin                    0.414811  0.505706  \n",
       "review_scores_communication              0.418383  0.508799  \n",
       "review_scores_location                   0.427394  0.516743  \n",
       "review_scores_value                      0.424429  0.514551  \n",
       "calculated_host_listings_count           0.101019  0.078314  \n",
       "reviews_per_month                        1.000000  0.845728  \n",
       "popular                                  0.845728  1.000000  "
      ]
     },
     "execution_count": 141,
     "metadata": {},
     "output_type": "execute_result"
    }
   ],
   "source": [
    "data.corr()"
   ]
  },
  {
   "cell_type": "markdown",
   "metadata": {},
   "source": [
    "From the heatmap above, we can see 2 main areas of possible multicollinearity between features.\n",
    "\n",
    "Group 1:\n",
    "- accommodates\n",
    "- bedrooms\n",
    "- beds\n",
    "Which makes sense because all these deal with the number of people that the property can host. As such, it might be better to focus only on one of the features (e.g. accommodates only).\n",
    "\n",
    "Group 2:\n",
    "- review_scores_rating\n",
    "- review_scores_accuracy\n",
    "- review_scores_cleanliness\n",
    "- review_scores_checkin\n",
    "- review_scores_location\n",
    "- review_scores_value\n",
    "Which makes sense because all these have to do with a guest's impression of the property. As a guest's rating of a property can be assumed to be based on a holistic impression, I will be proposing to the take the sum of all the ratings which is the review_scores_rating.\n",
    "\n",
    "\n",
    "### As such, I will be proposing to drop these other columns:\n",
    "- bedrooms\n",
    "- beds\n",
    "- review_scores_accuracy\n",
    "- review_scores_cleanliness\n",
    "- review_scores_checkin\n",
    "- review_scores_location\n",
    "- review_scores_value"
   ]
  },
  {
   "cell_type": "code",
   "execution_count": 142,
   "metadata": {
    "scrolled": true
   },
   "outputs": [
    {
     "data": {
      "text/plain": [
       "<matplotlib.axes._subplots.AxesSubplot at 0x1a1bc8bcf8>"
      ]
     },
     "execution_count": 142,
     "metadata": {},
     "output_type": "execute_result"
    },
    {
     "data": {
      "image/png": "[encoded data removed]",
      "text/plain": [
       "<matplotlib.figure.Figure at 0x1a1d34d588>"
      ]
     },
     "metadata": {},
     "output_type": "display_data"
    }
   ],
   "source": [
    "data.drop(columns=['bedrooms', 'beds', 'review_scores_accuracy', 'review_scores_cleanliness','review_scores_checkin', 'review_scores_location', 'review_scores_value'], axis=1, inplace=True)\n",
    "sns.heatmap(data.corr(), vmin=-1, vmax=1, cmap=\"coolwarm\", center=0)"
   ]
  },
  {
   "cell_type": "code",
   "execution_count": 143,
   "metadata": {
    "scrolled": true
   },
   "outputs": [
    {
     "data": {
      "text/plain": [
       "<matplotlib.axes._subplots.AxesSubplot at 0x1a1bcf3be0>"
      ]
     },
     "execution_count": 143,
     "metadata": {},
     "output_type": "execute_result"
    },
    {
     "data": {
      "image/png": "[encoded data removed]",
      "text/plain": [
       "<matplotlib.figure.Figure at 0x1a1bcf9630>"
      ]
     },
     "metadata": {},
     "output_type": "display_data"
    }
   ],
   "source": [
    "data.drop('review_scores_communication', axis=1, inplace=True)\n",
    "sns.heatmap(data.corr(), vmin=-1, vmax=1, cmap=\"coolwarm\", center=0)"
   ]
  },
  {
   "cell_type": "code",
   "execution_count": 144,
   "metadata": {},
   "outputs": [
    {
     "data": {
      "text/plain": [
       "<matplotlib.axes._subplots.AxesSubplot at 0x1a1faaaac8>"
      ]
     },
     "execution_count": 144,
     "metadata": {},
     "output_type": "execute_result"
    },
    {
     "data": {
      "image/png": "[encoded data removed]",
      "text/plain": [
       "<matplotlib.figure.Figure at 0x1a1fab45f8>"
      ]
     },
     "metadata": {},
     "output_type": "display_data"
    }
   ],
   "source": [
    "#Since I will be trying to solve a multi-class classification problem, I do not need the reviews_per_month column anymore.\n",
    "data.drop('reviews_per_month', axis=1, inplace=True)\n",
    "sns.heatmap(data.corr(), vmin=-1, vmax=1, cmap=\"coolwarm\", center=0)"
   ]
  },
  {
   "cell_type": "markdown",
   "metadata": {},
   "source": [
    "# Consideration 4: To consider how to best use the features with object datatypes (e.g. name, summary, space, amenities)"
   ]
  },
  {
   "cell_type": "code",
   "execution_count": 145,
   "metadata": {},
   "outputs": [
    {
     "data": {
      "text/plain": [
       "name                               object\n",
       "summary                            object\n",
       "space                              object\n",
       "host_response_time                 object\n",
       "host_is_superhost                  object\n",
       "host_identity_verified             object\n",
       "latitude                          float64\n",
       "longitude                         float64\n",
       "property_type                      object\n",
       "room_type                          object\n",
       "accommodates                        int64\n",
       "bathrooms                         float64\n",
       "amenities                          object\n",
       "price                               int64\n",
       "number_of_reviews                   int64\n",
       "review_scores_rating              float64\n",
       "cancellation_policy                object\n",
       "calculated_host_listings_count      int64\n",
       "popular                             int64\n",
       "dtype: object"
      ]
     },
     "execution_count": 145,
     "metadata": {},
     "output_type": "execute_result"
    }
   ],
   "source": [
    "data.dtypes"
   ]
  },
  {
   "cell_type": "code",
   "execution_count": 146,
   "metadata": {},
   "outputs": [
    {
     "data": {
      "text/plain": [
       "(21450, 19)"
      ]
     },
     "execution_count": 146,
     "metadata": {},
     "output_type": "execute_result"
    }
   ],
   "source": [
    "data.shape"
   ]
  },
  {
   "cell_type": "code",
   "execution_count": 147,
   "metadata": {},
   "outputs": [
    {
     "data": {
      "text/plain": [
       "name                              21042\n",
       "summary                           19570\n",
       "space                             14651\n",
       "host_response_time                    5\n",
       "host_is_superhost                     2\n",
       "host_identity_verified                2\n",
       "latitude                          21450\n",
       "longitude                         21450\n",
       "property_type                        37\n",
       "room_type                             3\n",
       "accommodates                         16\n",
       "bathrooms                            19\n",
       "amenities                         20437\n",
       "price                               492\n",
       "number_of_reviews                   281\n",
       "review_scores_rating                 49\n",
       "cancellation_policy                   5\n",
       "calculated_host_listings_count       53\n",
       "popular                               3\n",
       "dtype: int64"
      ]
     },
     "execution_count": 147,
     "metadata": {},
     "output_type": "execute_result"
    }
   ],
   "source": [
    "data.nunique()"
   ]
  },
  {
   "cell_type": "markdown",
   "metadata": {},
   "source": [
    "Out of the current dataframe of 19 columns,\n",
    "18 - Feature Columns\n",
    "1 - Modified Target Column (i.e. popular based on binned reviews_per_month)\n",
    "\n",
    "Out of the 18 feature columns, these are identified as object columns:\n",
    "- name                   - free text\n",
    "- summary                - free text\n",
    "- space                  - free text\n",
    "- host_response_time     - categorical (5)\n",
    "- host_is_superhost      - boolean (2)\n",
    "- host_identity_verified - boolean (2)\n",
    "- property_type          - categorical (37)\n",
    "- room_type              - categorical (3)\n",
    "- amenities              - free text\n",
    "- cancellation_policy    - categorical (5)\n",
    "\n",
    "As such, one hot encoding / get dummies will probably be used for the categorical features, but will need to see how to best use the features that are based on free text."
   ]
  },
  {
   "cell_type": "code",
   "execution_count": 148,
   "metadata": {},
   "outputs": [
    {
     "name": "stdout",
     "output_type": "stream",
     "text": [
      "f 0\n",
      "t 1\n"
     ]
    }
   ],
   "source": [
    "#Convert boolean columns to numerical data.\n",
    "from sklearn import preprocessing\n",
    "\n",
    "boo_labels = ['t', 'f']\n",
    "\n",
    "encoder = preprocessing.LabelEncoder()\n",
    "encoder.fit(boo_labels)\n",
    "\n",
    "for i, item in enumerate(encoder.classes_):\n",
    "    print(item, i)"
   ]
  },
  {
   "cell_type": "code",
   "execution_count": 149,
   "metadata": {},
   "outputs": [],
   "source": [
    "data['host_is_superhost'] = encoder.transform(data['host_is_superhost'])\n",
    "data['host_identity_verified'] = encoder.transform(data['host_identity_verified'])"
   ]
  },
  {
   "cell_type": "code",
   "execution_count": 150,
   "metadata": {},
   "outputs": [
    {
     "data": {
      "text/plain": [
       "within an hour        11168\n",
       "never                  6323\n",
       "within a few hours     2152\n",
       "within a day           1428\n",
       "a few days or more      379\n",
       "Name: host_response_time, dtype: int64"
      ]
     },
     "execution_count": 150,
     "metadata": {},
     "output_type": "execute_result"
    }
   ],
   "source": [
    "data['host_response_time'].value_counts()"
   ]
  },
  {
   "cell_type": "code",
   "execution_count": 151,
   "metadata": {},
   "outputs": [
    {
     "name": "stdout",
     "output_type": "stream",
     "text": [
      "a few days or more 0\n",
      "never 1\n",
      "within a day 2\n",
      "within a few hours 3\n",
      "within an hour 4\n"
     ]
    }
   ],
   "source": [
    "hostresponse_labels = ['never', 'within an hour', 'within a few hours', 'within a day', 'a few days or more']\n",
    "\n",
    "encoder = preprocessing.LabelEncoder()\n",
    "encoder.fit(hostresponse_labels)\n",
    "\n",
    "for i, item in enumerate(encoder.classes_):\n",
    "    print(item, i)"
   ]
  },
  {
   "cell_type": "code",
   "execution_count": 152,
   "metadata": {},
   "outputs": [],
   "source": [
    "def f(row):\n",
    "    if row['host_response_time'] == 'never':\n",
    "        val = 0\n",
    "    elif row['host_response_time'] == 'within an hour':\n",
    "        val = 1\n",
    "    elif row['host_response_time'] == 'within a few hours':\n",
    "        val = 2\n",
    "    elif row['host_response_time'] == 'within a day':\n",
    "        val = 3\n",
    "    else:\n",
    "        val = 4\n",
    "    return val\n",
    "\n",
    "data['host_response_time'] = data.apply(f, axis=1)"
   ]
  },
  {
   "cell_type": "code",
   "execution_count": 153,
   "metadata": {},
   "outputs": [
    {
     "data": {
      "text/plain": [
       "1    11168\n",
       "0     6323\n",
       "2     2152\n",
       "3     1428\n",
       "4      379\n",
       "Name: host_response_time, dtype: int64"
      ]
     },
     "execution_count": 153,
     "metadata": {},
     "output_type": "execute_result"
    }
   ],
   "source": [
    "data['host_response_time'].value_counts()"
   ]
  },
  {
   "cell_type": "code",
   "execution_count": 154,
   "metadata": {},
   "outputs": [
    {
     "data": {
      "text/plain": [
       "strict_14_with_grace_period    8576\n",
       "flexible                       7221\n",
       "moderate                       5600\n",
       "super_strict_30                  40\n",
       "super_strict_60                  13\n",
       "Name: cancellation_policy, dtype: int64"
      ]
     },
     "execution_count": 154,
     "metadata": {},
     "output_type": "execute_result"
    }
   ],
   "source": [
    "data['cancellation_policy'].value_counts()"
   ]
  },
  {
   "cell_type": "code",
   "execution_count": 155,
   "metadata": {},
   "outputs": [],
   "source": [
    "def f(row):\n",
    "    if row['cancellation_policy'] == 'flexible':\n",
    "        val = 0\n",
    "    elif row['cancellation_policy'] == 'moderate':\n",
    "        val = 1\n",
    "    elif row['cancellation_policy'] == 'strict_14_with_grace_period':\n",
    "        val = 2\n",
    "    elif row['cancellation_policy'] == 'super_strict_30':\n",
    "        val = 3\n",
    "    else:\n",
    "        val = 4\n",
    "    return val\n",
    "\n",
    "data['cancellation_policy'] = data.apply(f, axis=1)"
   ]
  },
  {
   "cell_type": "code",
   "execution_count": 156,
   "metadata": {},
   "outputs": [
    {
     "data": {
      "text/plain": [
       "name                               object\n",
       "summary                            object\n",
       "space                              object\n",
       "host_response_time                  int64\n",
       "host_is_superhost                   int64\n",
       "host_identity_verified              int64\n",
       "latitude                          float64\n",
       "longitude                         float64\n",
       "property_type                      object\n",
       "room_type                          object\n",
       "accommodates                        int64\n",
       "bathrooms                         float64\n",
       "amenities                          object\n",
       "price                               int64\n",
       "number_of_reviews                   int64\n",
       "review_scores_rating              float64\n",
       "cancellation_policy                 int64\n",
       "calculated_host_listings_count      int64\n",
       "popular                             int64\n",
       "dtype: object"
      ]
     },
     "execution_count": 156,
     "metadata": {},
     "output_type": "execute_result"
    }
   ],
   "source": [
    "data.dtypes"
   ]
  },
  {
   "cell_type": "code",
   "execution_count": 158,
   "metadata": {},
   "outputs": [
    {
     "data": {
      "text/plain": [
       "Entire home/apt    13326\n",
       "Private room        7727\n",
       "Shared room          397\n",
       "Name: room_type, dtype: int64"
      ]
     },
     "execution_count": 158,
     "metadata": {},
     "output_type": "execute_result"
    }
   ],
   "source": [
    "data['room_type'].value_counts()"
   ]
  },
  {
   "cell_type": "code",
   "execution_count": 159,
   "metadata": {},
   "outputs": [],
   "source": [
    "def f(row):\n",
    "    if row['room_type'] == 'Entire home/apt':\n",
    "        val = 0\n",
    "    elif row['room_type'] == 'Private room':\n",
    "        val = 1\n",
    "    else:\n",
    "        val = 2\n",
    "    return val\n",
    "\n",
    "data['room_type'] = data.apply(f, axis=1)"
   ]
  },
  {
   "cell_type": "code",
   "execution_count": 160,
   "metadata": {},
   "outputs": [
    {
     "data": {
      "text/plain": [
       "0    1\n",
       "1    1\n",
       "2    0\n",
       "3    1\n",
       "4    1\n",
       "5    0\n",
       "6    1\n",
       "7    0\n",
       "8    1\n",
       "9    1\n",
       "Name: room_type, dtype: int64"
      ]
     },
     "execution_count": 160,
     "metadata": {},
     "output_type": "execute_result"
    }
   ],
   "source": [
    "data.room_type.head(10)"
   ]
  },
  {
   "cell_type": "code",
   "execution_count": 161,
   "metadata": {},
   "outputs": [
    {
     "data": {
      "text/plain": [
       "Apartment                 11761\n",
       "House                      5726\n",
       "Townhouse                  1311\n",
       "Serviced apartment          427\n",
       "Condominium                 398\n",
       "Villa                       294\n",
       "Bed and breakfast           251\n",
       "Guesthouse                  238\n",
       "Guest suite                 223\n",
       "Loft                        175\n",
       "Bungalow                    165\n",
       "Cottage                     116\n",
       "Other                        64\n",
       "Cabin                        48\n",
       "Hostel                       39\n",
       "Farm stay                    37\n",
       "Boutique hotel               35\n",
       "Camper/RV                    16\n",
       "Hotel                        16\n",
       "Nature lodge                 16\n",
       "Tiny house                   16\n",
       "Boat                         15\n",
       "Earth house                  11\n",
       "Aparthotel                   10\n",
       "Chalet                        8\n",
       "Resort                        7\n",
       "Tent                          6\n",
       "Castle                        5\n",
       "Hut                           3\n",
       "Barn                          3\n",
       "Treehouse                     3\n",
       "Campsite                      2\n",
       "Tipi                          1\n",
       "Minsu (Taiwan)                1\n",
       "Heritage hotel (India)        1\n",
       "Train                         1\n",
       "Casa particular (Cuba)        1\n",
       "Name: property_type, dtype: int64"
      ]
     },
     "execution_count": 161,
     "metadata": {},
     "output_type": "execute_result"
    }
   ],
   "source": [
    "data['property_type'].value_counts()"
   ]
  },
  {
   "cell_type": "markdown",
   "metadata": {},
   "source": [
    "### To consider how to best handle the remaining 5 columns as a later date.\n",
    "\n",
    "- name - free text\n",
    "- summary - free text\n",
    "- space - free text\n",
    "- property_type - categorical (might cut down to the top 5/10 property_type and list the rest as others)\n",
    "- amenities - free text (but might be able to have some overall grouping)"
   ]
  },
  {
   "cell_type": "markdown",
   "metadata": {},
   "source": [
    "### To also apply get_dummies to categorical columns such as:\n",
    "\n",
    "- host_response_time (arguable whether this is ordinal or purely categorical)\n",
    "- cancellation_policy (arguable whether this is ordinal or purely categorical)\n",
    "- room_type"
   ]
  },
  {
   "cell_type": "code",
   "execution_count": 162,
   "metadata": {},
   "outputs": [
    {
     "data": {
      "text/plain": [
       "<matplotlib.axes._subplots.AxesSubplot at 0x1a1e15e0b8>"
      ]
     },
     "execution_count": 162,
     "metadata": {},
     "output_type": "execute_result"
    },
    {
     "data": {
      "image/png": "[encoded data removed]",
      "text/plain": [
       "<matplotlib.figure.Figure at 0x1a1f712d68>"
      ]
     },
     "metadata": {},
     "output_type": "display_data"
    }
   ],
   "source": [
    "sns.heatmap(data.corr(), vmin=-1, vmax=1, cmap=\"coolwarm\", center=0)"
   ]
  },
  {
   "cell_type": "code",
   "execution_count": null,
   "metadata": {},
   "outputs": [],
   "source": []
  }
 ],
 "metadata": {
  "kernelspec": {
   "display_name": "Python 3",
   "language": "python",
   "name": "python3"
  },
  "language_info": {
   "codemirror_mode": {
    "name": "ipython",
    "version": 3
   },
   "file_extension": ".py",
   "mimetype": "text/x-python",
   "name": "python",
   "nbconvert_exporter": "python",
   "pygments_lexer": "ipython3",
   "version": "3.6.4"
  }
 },
 "nbformat": 4,
 "nbformat_minor": 2
}
