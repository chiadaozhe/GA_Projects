{
 "cells": [
  {
   "cell_type": "markdown",
   "metadata": {},
   "source": [
    "BONUS Challenge: FizzBuzz\n",
    "Write a program that prints all of the numbers from 1 to 100. For multiples of 3, instead of the number, print \"Fizz;\" for multiples of 5, print \"Buzz.\" For numbers that are multiples of both 3 and 5, print \"FizzBuzz.\" Afterward, write a brief explanation walking through your code's logic in markdown."
   ]
  },
  {
   "cell_type": "code",
   "execution_count": 8,
   "metadata": {},
   "outputs": [],
   "source": [
    "def fizzbuzz(n,j,k):\n",
    "    sum = 0\n",
    "    multiples = []\n",
    "    for i in range (1,n+1):\n",
    "        if i % (j*k) == 0:\n",
    "            multiples.append(\"FizzBuzz\")\n",
    "        elif i % j == 0:\n",
    "            multiples.append(\"Fizz\")\n",
    "        elif i % k == 0:\n",
    "            multiples.append(\"Buzz\")\n",
    "        else:\n",
    "            multiples.append(i)\n",
    "    print(multiples)"
   ]
  },
  {
   "cell_type": "code",
   "execution_count": 9,
   "metadata": {},
   "outputs": [
    {
     "name": "stdout",
     "output_type": "stream",
     "text": [
      "[1, 2, 'Fizz', 4, 'Buzz', 'Fizz', 7, 8, 'Fizz', 'Buzz', 11, 'Fizz', 13, 14, 'FizzBuzz', 16, 17, 'Fizz', 19, 'Buzz', 'Fizz', 22, 23, 'Fizz', 'Buzz', 26, 'Fizz', 28, 29, 'FizzBuzz', 31, 32, 'Fizz', 34, 'Buzz', 'Fizz', 37, 38, 'Fizz', 'Buzz', 41, 'Fizz', 43, 44, 'FizzBuzz', 46, 47, 'Fizz', 49, 'Buzz', 'Fizz', 52, 53, 'Fizz', 'Buzz', 56, 'Fizz', 58, 59, 'FizzBuzz', 61, 62, 'Fizz', 64, 'Buzz', 'Fizz', 67, 68, 'Fizz', 'Buzz', 71, 'Fizz', 73, 74, 'FizzBuzz', 76, 77, 'Fizz', 79, 'Buzz', 'Fizz', 82, 83, 'Fizz', 'Buzz', 86, 'Fizz', 88, 89, 'FizzBuzz', 91, 92, 'Fizz', 94, 'Buzz', 'Fizz', 97, 98, 'Fizz', 'Buzz']\n"
     ]
    }
   ],
   "source": [
    "fizzbuzz(100,3,5)"
   ]
  },
  {
   "cell_type": "code",
   "execution_count": 10,
   "metadata": {},
   "outputs": [
    {
     "name": "stdout",
     "output_type": "stream",
     "text": [
      "[1, 2, 3, 'Fizz', 5, 6, 7, 'Fizz', 9, 10, 11, 'Fizz', 13, 14, 15, 'Fizz', 17, 18, 19, 'Fizz', 21, 22, 23, 'Fizz', 25, 26, 27, 'Fizz', 29, 30, 31, 'FizzBuzz', 33, 34, 35, 'Fizz', 37, 38, 39, 'Fizz', 41, 42, 43, 'Fizz', 45, 46, 47, 'Fizz', 49, 50, 51, 'Fizz', 53, 54, 55, 'Fizz', 57, 58, 59, 'Fizz', 61, 62, 63, 'FizzBuzz', 65, 66, 67, 'Fizz', 69, 70, 71, 'Fizz', 73, 74, 75, 'Fizz', 77, 78, 79, 'Fizz', 81, 82, 83, 'Fizz', 85, 86, 87, 'Fizz', 89, 90, 91, 'Fizz', 93, 94, 95, 'FizzBuzz', 97, 98, 99, 'Fizz']\n"
     ]
    }
   ],
   "source": [
    "fizzbuzz(100,4,8)"
   ]
  },
  {
   "cell_type": "code",
   "execution_count": null,
   "metadata": {},
   "outputs": [],
   "source": []
  }
 ],
 "metadata": {
  "kernelspec": {
   "display_name": "Python 3",
   "language": "python",
   "name": "python3"
  },
  "language_info": {
   "codemirror_mode": {
    "name": "ipython",
    "version": 3
   },
   "file_extension": ".py",
   "mimetype": "text/x-python",
   "name": "python",
   "nbconvert_exporter": "python",
   "pygments_lexer": "ipython3",
   "version": "3.6.4"
  }
 },
 "nbformat": 4,
 "nbformat_minor": 2
}
